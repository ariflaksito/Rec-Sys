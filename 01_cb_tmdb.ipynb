{
  "nbformat": 4,
  "nbformat_minor": 0,
  "metadata": {
    "colab": {
      "name": "01_cb_tmdb.ipynb",
      "provenance": [],
      "collapsed_sections": [],
      "toc_visible": true,
      "mount_file_id": "1Ue3J-jq5Isp-rl5B0RP26E1vUzKyffK3",
      "authorship_tag": "ABX9TyMH56U4YrFcpaAPPI5al1YE",
      "include_colab_link": true
    },
    "kernelspec": {
      "name": "python3",
      "display_name": "Python 3"
    }
  },
  "cells": [
    {
      "cell_type": "markdown",
      "metadata": {
        "id": "view-in-github",
        "colab_type": "text"
      },
      "source": [
        "<a href=\"https://colab.research.google.com/github/ariflaksito/recsys/blob/master/01_cb_tmdb.ipynb\" target=\"_parent\"><img src=\"https://colab.research.google.com/assets/colab-badge.svg\" alt=\"Open In Colab\"/></a>"
      ]
    },
    {
      "cell_type": "markdown",
      "metadata": {
        "id": "ud2Sd6qfCFIl",
        "colab_type": "text"
      },
      "source": [
        "# Content-based Filtering\n",
        "Contoh kode pada teknik content-based filtering pada sistem rekomendasi\n",
        "\n"
      ]
    },
    {
      "cell_type": "markdown",
      "metadata": {
        "id": "FCj-5kSxRxHJ",
        "colab_type": "text"
      },
      "source": [
        "#Import library"
      ]
    },
    {
      "cell_type": "code",
      "metadata": {
        "id": "krLG3HXxxqhc",
        "colab_type": "code",
        "colab": {}
      },
      "source": [
        "import pandas as pd\n",
        "import numpy as np"
      ],
      "execution_count": 0,
      "outputs": []
    },
    {
      "cell_type": "markdown",
      "metadata": {
        "id": "zqiJY7FySMKJ",
        "colab_type": "text"
      },
      "source": [
        "#Import Data\n",
        "Data movie diambil dari:<br> https://www.kaggle.com/tmdb/tmdb-movie-metadata"
      ]
    },
    {
      "cell_type": "code",
      "metadata": {
        "id": "ePvzjZJIIqDI",
        "colab_type": "code",
        "colab": {}
      },
      "source": [
        "credits = pd.read_csv('/content/drive/My Drive/Colab Data/tmdb_5000_credits.csv')\n",
        "credits.head()"
      ],
      "execution_count": 0,
      "outputs": []
    },
    {
      "cell_type": "code",
      "metadata": {
        "id": "u_MsZr-6PqI9",
        "colab_type": "code",
        "colab": {}
      },
      "source": [
        "movies = pd.read_csv('/content/drive/My Drive/Colab Data/tmdb_5000_movies.csv')\n",
        "movies.head()"
      ],
      "execution_count": 0,
      "outputs": []
    },
    {
      "cell_type": "code",
      "metadata": {
        "id": "gohj2BnEQt1Z",
        "colab_type": "code",
        "colab": {}
      },
      "source": [
        "print(\"Credits\", credits.shape)\n",
        "print(\"Movies\", movies.shape)"
      ],
      "execution_count": 0,
      "outputs": []
    },
    {
      "cell_type": "markdown",
      "metadata": {
        "id": "K5TsWSS7TWDj",
        "colab_type": "text"
      },
      "source": [
        "#Gabung Data\n",
        "Merge/gabung data credits & movies <br>\n",
        "Perlu disesuaikan id pada data credits & movies"
      ]
    },
    {
      "cell_type": "code",
      "metadata": {
        "id": "brNbOwKMTwBe",
        "colab_type": "code",
        "colab": {}
      },
      "source": [
        "credits_col_renamed = credits.rename(index=str, columns={\"movie_id\":\"id\"})\n",
        "movies_df_merge = movies.merge(credits_col_renamed, on=\"id\")\n",
        "movies_df_merge.head()"
      ],
      "execution_count": 0,
      "outputs": []
    },
    {
      "cell_type": "markdown",
      "metadata": {
        "id": "IjKQs9kSiHZk",
        "colab_type": "text"
      },
      "source": [
        "#Clean Data"
      ]
    },
    {
      "cell_type": "code",
      "metadata": {
        "id": "RtMEhElIiKMN",
        "colab_type": "code",
        "colab": {}
      },
      "source": [
        "movies_df_cleaned = movies_df_merge.drop(columns=[\"homepage\",\"title_x\",\"title_y\",\"status\",\"production_countries\"])\n",
        "movies_df_cleaned.head()"
      ],
      "execution_count": 0,
      "outputs": []
    },
    {
      "cell_type": "code",
      "metadata": {
        "id": "OeTDRdaApREa",
        "colab_type": "code",
        "colab": {}
      },
      "source": [
        "movies_df_cleaned.info()"
      ],
      "execution_count": 0,
      "outputs": []
    },
    {
      "cell_type": "markdown",
      "metadata": {
        "id": "n-nbhx8CKF-N",
        "colab_type": "text"
      },
      "source": [
        "# Mengukur nilai rata-rata untuk peringkat movies\n",
        "Membuat rekomendasi berdasarkan deskripsi/ringkasan movie yang tersedia. Tujuan rekomendasi ini adalah memberikan list movie yang memiliki kesamaan ringkasan"
      ]
    },
    {
      "cell_type": "code",
      "metadata": {
        "id": "zsI9mN3bMSKW",
        "colab_type": "code",
        "colab": {}
      },
      "source": [
        "movies_df_cleaned.head(1)['overview']"
      ],
      "execution_count": 0,
      "outputs": []
    },
    {
      "cell_type": "code",
      "metadata": {
        "id": "N51h9lPYMbmF",
        "colab_type": "code",
        "colab": {}
      },
      "source": [
        "from sklearn.feature_extraction.text import TfidfVectorizer\n",
        "\n",
        "tfv = TfidfVectorizer(min_df=3, max_features=None,\n",
        "                      strip_accents='unicode', analyzer='word',\n",
        "                      token_pattern=r'\\w{1,}',ngram_range=(1,3),\n",
        "                      stop_words= 'english')\n",
        "\n",
        "# Filling NaNs with empty string\n",
        "movies_df_cleaned['overview'] = movies_df_cleaned['overview'].fillna('')\n",
        "\n",
        "# Fitting the TF-IDF on 'overview' text\n",
        "tfv_matrix = tfv.fit_transform(movies_df_cleaned['overview'])"
      ],
      "execution_count": 0,
      "outputs": []
    },
    {
      "cell_type": "code",
      "metadata": {
        "id": "ulQHpxE8tH9L",
        "colab_type": "code",
        "outputId": "e01553fa-7b7a-4a64-a3cd-6ebe50f0ba8e",
        "colab": {
          "base_uri": "https://localhost:8080/",
          "height": 51
        }
      },
      "source": [
        "tfv_matrix"
      ],
      "execution_count": 0,
      "outputs": [
        {
          "output_type": "execute_result",
          "data": {
            "text/plain": [
              "<4803x10417 sparse matrix of type '<class 'numpy.float64'>'\n",
              "\twith 127220 stored elements in Compressed Sparse Row format>"
            ]
          },
          "metadata": {
            "tags": []
          },
          "execution_count": 21
        }
      ]
    },
    {
      "cell_type": "code",
      "metadata": {
        "id": "rk3HZEVItKT6",
        "colab_type": "code",
        "colab": {}
      },
      "source": [
        "tfv_matrix.shape"
      ],
      "execution_count": 0,
      "outputs": []
    },
    {
      "cell_type": "code",
      "metadata": {
        "id": "WyY8xZWbtVu8",
        "colab_type": "code",
        "colab": {}
      },
      "source": [
        "from sklearn.metrics.pairwise import sigmoid_kernel\n",
        "\n",
        "# Compute the sigmoid kernel\n",
        "sig = sigmoid_kernel(tfv_matrix, tfv_matrix)"
      ],
      "execution_count": 0,
      "outputs": []
    },
    {
      "cell_type": "code",
      "metadata": {
        "id": "_fyPV8X7L_yE",
        "colab_type": "code",
        "colab": {}
      },
      "source": [
        "sig[0]"
      ],
      "execution_count": 0,
      "outputs": []
    },
    {
      "cell_type": "code",
      "metadata": {
        "id": "GgdkSxpZM-nf",
        "colab_type": "code",
        "colab": {}
      },
      "source": [
        "# Reverse mapping of indices and movie title\n",
        "indices = pd.Series(movies_df_cleaned.index, index=movies_df_cleaned['original_title']).drop_duplicates()"
      ],
      "execution_count": 0,
      "outputs": []
    },
    {
      "cell_type": "code",
      "metadata": {
        "id": "QW48syhZNbLO",
        "colab_type": "code",
        "colab": {}
      },
      "source": [
        "indices"
      ],
      "execution_count": 0,
      "outputs": []
    },
    {
      "cell_type": "code",
      "metadata": {
        "id": "qyF-e2fxQfIG",
        "colab_type": "code",
        "outputId": "1d1067ce-06a8-4267-f347-37a906c04250",
        "colab": {
          "base_uri": "https://localhost:8080/",
          "height": 51
        }
      },
      "source": [
        "sig[4799]"
      ],
      "execution_count": 0,
      "outputs": [
        {
          "output_type": "execute_result",
          "data": {
            "text/plain": [
              "array([0.76159416, 0.76159416, 0.76159438, ..., 0.76159432, 0.76159416,\n",
              "       0.76159478])"
            ]
          },
          "metadata": {
            "tags": []
          },
          "execution_count": 15
        }
      ]
    }
  ]
}