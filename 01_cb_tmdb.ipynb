{
  "nbformat": 4,
  "nbformat_minor": 0,
  "metadata": {
    "colab": {
      "name": "01_cb_tmdb.ipynb",
      "provenance": [],
      "collapsed_sections": [],
      "authorship_tag": "ABX9TyOtjv/81qmDN8me1QnYPpgH",
      "include_colab_link": true
    },
    "kernelspec": {
      "name": "python3",
      "display_name": "Python 3"
    }
  },
  "cells": [
    {
      "cell_type": "markdown",
      "metadata": {
        "id": "view-in-github",
        "colab_type": "text"
      },
      "source": [
        "<a href=\"https://colab.research.google.com/github/ariflaksito/recsys/blob/master/01_cb_tmdb.ipynb\" target=\"_parent\"><img src=\"https://colab.research.google.com/assets/colab-badge.svg\" alt=\"Open In Colab\"/></a>"
      ]
    },
    {
      "cell_type": "markdown",
      "metadata": {
        "id": "ud2Sd6qfCFIl",
        "colab_type": "text"
      },
      "source": [
        "# Content-based Filtering\n",
        "Contoh kode pada teknik content-based filtering pada sistem rekomendasi\n",
        "\n"
      ]
    },
    {
      "cell_type": "markdown",
      "metadata": {
        "id": "FCj-5kSxRxHJ",
        "colab_type": "text"
      },
      "source": [
        "#Import library"
      ]
    },
    {
      "cell_type": "code",
      "metadata": {
        "id": "j_IGqGvKSsq2",
        "colab_type": "code",
        "colab": {}
      },
      "source": [
        ""
      ],
      "execution_count": 0,
      "outputs": []
    },
    {
      "cell_type": "code",
      "metadata": {
        "id": "krLG3HXxxqhc",
        "colab_type": "code",
        "colab": {}
      },
      "source": [
        "import pandas as pd\n",
        "import numpy as np"
      ],
      "execution_count": 0,
      "outputs": []
    },
    {
      "cell_type": "markdown",
      "metadata": {
        "id": "zqiJY7FySMKJ",
        "colab_type": "text"
      },
      "source": [
        "#Import Data\n",
        "Data movie diambil dari:<br> https://www.kaggle.com/tmdb/tmdb-movie-metadata"
      ]
    },
    {
      "cell_type": "code",
      "metadata": {
        "id": "ePvzjZJIIqDI",
        "colab_type": "code",
        "colab": {}
      },
      "source": [
        "credits = pd.read_csv('/content/tmdb_5000_credits.csv')\n",
        "credits.head()"
      ],
      "execution_count": 0,
      "outputs": []
    },
    {
      "cell_type": "code",
      "metadata": {
        "id": "u_MsZr-6PqI9",
        "colab_type": "code",
        "colab": {}
      },
      "source": [
        "movies = pd.read_csv('/content/tmdb_5000_movies.csv')\n",
        "movies.head()"
      ],
      "execution_count": 0,
      "outputs": []
    },
    {
      "cell_type": "code",
      "metadata": {
        "id": "gohj2BnEQt1Z",
        "colab_type": "code",
        "colab": {}
      },
      "source": [
        "print(\"Credits\", credits.shape)\n",
        "print(\"Movies\", movies.shape)"
      ],
      "execution_count": 0,
      "outputs": []
    },
    {
      "cell_type": "markdown",
      "metadata": {
        "id": "K5TsWSS7TWDj",
        "colab_type": "text"
      },
      "source": [
        "#Gabung Data\n",
        "Merge/gabung data credits & movies <br>\n",
        "Perlu disesuaikan id pada data credits & movies"
      ]
    },
    {
      "cell_type": "code",
      "metadata": {
        "id": "brNbOwKMTwBe",
        "colab_type": "code",
        "colab": {}
      },
      "source": [
        "credits_col_renamed = credits.rename(index=str, columns={\"movie_id\":\"id\"})\n",
        "movies_df_merge = movies.merge(credits_col_renamed, on=\"id\")\n",
        "movies_df_merge.head()"
      ],
      "execution_count": 0,
      "outputs": []
    }
  ]
}