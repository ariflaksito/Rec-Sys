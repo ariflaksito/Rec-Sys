{
 "cells": [
  {
   "cell_type": "markdown",
   "metadata": {},
   "source": [
    "# DQLab Challenge\n",
    "Arif Laksito"
   ]
  },
  {
   "cell_type": "markdown",
   "metadata": {},
   "source": [
    "## Proyek Data: Pengembangan Hotel Search Engine untuk DQLab Travel\n",
    "Kamu adalah seorang data scientist di Marketplace ‘DQLab Travel’ yang ditempatkan pada divisi Hotel. Untuk memberikan pengalaman yang baik kepada pelanggan DQLab Travel dalam mencari hotel yang tepat, Bosmu, Kroma, manager DQLab Travel memberikan sebuah challenge untuk mengembangkan Search Engine guna mencari hotel yang relevan dengan harga terbaik."
   ]
  },
  {
   "cell_type": "code",
   "execution_count": 1,
   "metadata": {},
   "outputs": [],
   "source": [
    "import pandas as pd\n",
    "import numpy as np"
   ]
  },
  {
   "cell_type": "code",
   "execution_count": 2,
   "metadata": {},
   "outputs": [],
   "source": [
    "# Membaca dataset\n",
    "hotel_df = pd.read_excel('data_hotel.xlsx') \n",
    "review_df = pd.read_excel('review_hotel.xlsx')"
   ]
  },
  {
   "cell_type": "code",
   "execution_count": 3,
   "metadata": {},
   "outputs": [
    {
     "data": {
      "text/html": [
       "<div>\n",
       "<style scoped>\n",
       "    .dataframe tbody tr th:only-of-type {\n",
       "        vertical-align: middle;\n",
       "    }\n",
       "\n",
       "    .dataframe tbody tr th {\n",
       "        vertical-align: top;\n",
       "    }\n",
       "\n",
       "    .dataframe thead th {\n",
       "        text-align: right;\n",
       "    }\n",
       "</style>\n",
       "<table border=\"1\" class=\"dataframe\">\n",
       "  <thead>\n",
       "    <tr style=\"text-align: right;\">\n",
       "      <th></th>\n",
       "      <th>hotel_id</th>\n",
       "      <th>hotel_name</th>\n",
       "      <th>hotel_description</th>\n",
       "      <th>hotel_province</th>\n",
       "      <th>hotel_city</th>\n",
       "      <th>hotel_address</th>\n",
       "      <th>price_per_night</th>\n",
       "    </tr>\n",
       "  </thead>\n",
       "  <tbody>\n",
       "    <tr>\n",
       "      <th>0</th>\n",
       "      <td>h0001</td>\n",
       "      <td>Midtown Residence Marvell City Surabaya</td>\n",
       "      <td>NaN</td>\n",
       "      <td>Jawa Timur</td>\n",
       "      <td>Surabaya</td>\n",
       "      <td>Jalan Ngagel Raya No 123</td>\n",
       "      <td>527866.666667</td>\n",
       "    </tr>\n",
       "    <tr>\n",
       "      <th>1</th>\n",
       "      <td>h0002</td>\n",
       "      <td>favehotel Graha Agung Surabaya</td>\n",
       "      <td>Sebuah Hotel Mewah di Surabaya Persembahan dar...</td>\n",
       "      <td>Jawa Timur</td>\n",
       "      <td>Surabaya</td>\n",
       "      <td>Jl. Mayjen Yono Soewoyo Pakuwon Indah Square A...</td>\n",
       "      <td>442860.000000</td>\n",
       "    </tr>\n",
       "    <tr>\n",
       "      <th>2</th>\n",
       "      <td>h0003</td>\n",
       "      <td>The Sun Hotel Sidoarjo</td>\n",
       "      <td>Hotel Bintang 3 Pertama dan Satu-satunya di Si...</td>\n",
       "      <td>Jawa Timur</td>\n",
       "      <td>Surabaya</td>\n",
       "      <td>Jl. Pahlawan No.1,Sidokumpul, Sidoarjo, Suraba...</td>\n",
       "      <td>305000.000000</td>\n",
       "    </tr>\n",
       "    <tr>\n",
       "      <th>3</th>\n",
       "      <td>h0004</td>\n",
       "      <td>Grand Surabaya Hotel</td>\n",
       "      <td>Penginapan Yang Tenang Dan Nyaman Di Surabaya.</td>\n",
       "      <td>Jawa Timur</td>\n",
       "      <td>Surabaya</td>\n",
       "      <td>Jl. Pemuda 19-21, Surabaya, Indonesia</td>\n",
       "      <td>324999.333333</td>\n",
       "    </tr>\n",
       "    <tr>\n",
       "      <th>4</th>\n",
       "      <td>h0005</td>\n",
       "      <td>The WIN Hotel Surabaya</td>\n",
       "      <td>WIN Hotel adalah hotel smart bintang 3 yang me...</td>\n",
       "      <td>Jawa Timur</td>\n",
       "      <td>Surabaya</td>\n",
       "      <td>Jl. Embong Tanjung 46 - 48 Surabaya, Jawa Timu...</td>\n",
       "      <td>310947.250000</td>\n",
       "    </tr>\n",
       "  </tbody>\n",
       "</table>\n",
       "</div>"
      ],
      "text/plain": [
       "  hotel_id                               hotel_name  \\\n",
       "0    h0001  Midtown Residence Marvell City Surabaya   \n",
       "1    h0002           favehotel Graha Agung Surabaya   \n",
       "2    h0003                   The Sun Hotel Sidoarjo   \n",
       "3    h0004                     Grand Surabaya Hotel   \n",
       "4    h0005                   The WIN Hotel Surabaya   \n",
       "\n",
       "                                   hotel_description hotel_province  \\\n",
       "0                                                NaN     Jawa Timur   \n",
       "1  Sebuah Hotel Mewah di Surabaya Persembahan dar...     Jawa Timur   \n",
       "2  Hotel Bintang 3 Pertama dan Satu-satunya di Si...     Jawa Timur   \n",
       "3     Penginapan Yang Tenang Dan Nyaman Di Surabaya.     Jawa Timur   \n",
       "4  WIN Hotel adalah hotel smart bintang 3 yang me...     Jawa Timur   \n",
       "\n",
       "  hotel_city                                      hotel_address  \\\n",
       "0   Surabaya                           Jalan Ngagel Raya No 123   \n",
       "1   Surabaya  Jl. Mayjen Yono Soewoyo Pakuwon Indah Square A...   \n",
       "2   Surabaya  Jl. Pahlawan No.1,Sidokumpul, Sidoarjo, Suraba...   \n",
       "3   Surabaya              Jl. Pemuda 19-21, Surabaya, Indonesia   \n",
       "4   Surabaya  Jl. Embong Tanjung 46 - 48 Surabaya, Jawa Timu...   \n",
       "\n",
       "   price_per_night  \n",
       "0    527866.666667  \n",
       "1    442860.000000  \n",
       "2    305000.000000  \n",
       "3    324999.333333  \n",
       "4    310947.250000  "
      ]
     },
     "execution_count": 3,
     "metadata": {},
     "output_type": "execute_result"
    }
   ],
   "source": [
    "hotel_df.head()"
   ]
  },
  {
   "cell_type": "markdown",
   "metadata": {},
   "source": [
    "## 1. Data Cleansing"
   ]
  },
  {
   "cell_type": "code",
   "execution_count": 4,
   "metadata": {},
   "outputs": [
    {
     "data": {
      "text/plain": [
       "hotel_id               0\n",
       "hotel_name             0\n",
       "hotel_description    101\n",
       "hotel_province         0\n",
       "hotel_city             0\n",
       "hotel_address          0\n",
       "price_per_night        6\n",
       "dtype: int64"
      ]
     },
     "execution_count": 4,
     "metadata": {},
     "output_type": "execute_result"
    }
   ],
   "source": [
    "# Cek kolom yang terdapat null\n",
    "hotel_df.isnull().sum()"
   ]
  },
  {
   "cell_type": "code",
   "execution_count": 5,
   "metadata": {},
   "outputs": [],
   "source": [
    "# Set price_per_night = null menjadi 0\n",
    "hotel_df['price_per_night'] = hotel_df['price_per_night'].fillna(0)"
   ]
  },
  {
   "cell_type": "code",
   "execution_count": 6,
   "metadata": {},
   "outputs": [],
   "source": [
    "# Set hotel_description = null menjadi 'no info'\n",
    "hotel_df['hotel_description'] = hotel_df['hotel_description'].fillna('no info')"
   ]
  },
  {
   "cell_type": "code",
   "execution_count": 7,
   "metadata": {},
   "outputs": [
    {
     "data": {
      "text/html": [
       "<div>\n",
       "<style scoped>\n",
       "    .dataframe tbody tr th:only-of-type {\n",
       "        vertical-align: middle;\n",
       "    }\n",
       "\n",
       "    .dataframe tbody tr th {\n",
       "        vertical-align: top;\n",
       "    }\n",
       "\n",
       "    .dataframe thead th {\n",
       "        text-align: right;\n",
       "    }\n",
       "</style>\n",
       "<table border=\"1\" class=\"dataframe\">\n",
       "  <thead>\n",
       "    <tr style=\"text-align: right;\">\n",
       "      <th></th>\n",
       "      <th>booking_id</th>\n",
       "      <th>booking_date</th>\n",
       "      <th>hotel_id</th>\n",
       "      <th>hotel_name</th>\n",
       "      <th>stay_duration</th>\n",
       "      <th>adults</th>\n",
       "      <th>children</th>\n",
       "      <th>rating</th>\n",
       "      <th>review</th>\n",
       "    </tr>\n",
       "  </thead>\n",
       "  <tbody>\n",
       "    <tr>\n",
       "      <th>0</th>\n",
       "      <td>b0001</td>\n",
       "      <td>19-04-2020</td>\n",
       "      <td>h0014</td>\n",
       "      <td>Zest Hotel Jemursari Surabaya</td>\n",
       "      <td>1</td>\n",
       "      <td>2</td>\n",
       "      <td>1</td>\n",
       "      <td>8.4</td>\n",
       "      <td>Short stay</td>\n",
       "    </tr>\n",
       "    <tr>\n",
       "      <th>1</th>\n",
       "      <td>b0002</td>\n",
       "      <td>06-04-2020</td>\n",
       "      <td>h0014</td>\n",
       "      <td>Zest Hotel Jemursari Surabaya</td>\n",
       "      <td>1</td>\n",
       "      <td>1</td>\n",
       "      <td>1</td>\n",
       "      <td>10.0</td>\n",
       "      <td>Hotelnya nyaman</td>\n",
       "    </tr>\n",
       "    <tr>\n",
       "      <th>2</th>\n",
       "      <td>b0003</td>\n",
       "      <td>24-03-2020</td>\n",
       "      <td>h0014</td>\n",
       "      <td>Zest Hotel Jemursari Surabaya</td>\n",
       "      <td>2</td>\n",
       "      <td>2</td>\n",
       "      <td>1</td>\n",
       "      <td>9.2</td>\n",
       "      <td>Cukup baik untuk transit</td>\n",
       "    </tr>\n",
       "    <tr>\n",
       "      <th>3</th>\n",
       "      <td>b0004</td>\n",
       "      <td>23-03-2020</td>\n",
       "      <td>h0014</td>\n",
       "      <td>Zest Hotel Jemursari Surabaya</td>\n",
       "      <td>1</td>\n",
       "      <td>2</td>\n",
       "      <td>0</td>\n",
       "      <td>9.2</td>\n",
       "      <td>Nyaman</td>\n",
       "    </tr>\n",
       "    <tr>\n",
       "      <th>4</th>\n",
       "      <td>b0005</td>\n",
       "      <td>14-03-2020</td>\n",
       "      <td>h0014</td>\n",
       "      <td>Zest Hotel Jemursari Surabaya</td>\n",
       "      <td>2</td>\n",
       "      <td>2</td>\n",
       "      <td>1</td>\n",
       "      <td>6.8</td>\n",
       "      <td>Not good</td>\n",
       "    </tr>\n",
       "  </tbody>\n",
       "</table>\n",
       "</div>"
      ],
      "text/plain": [
       "  booking_id booking_date hotel_id                     hotel_name  \\\n",
       "0      b0001   19-04-2020    h0014  Zest Hotel Jemursari Surabaya   \n",
       "1      b0002   06-04-2020    h0014  Zest Hotel Jemursari Surabaya   \n",
       "2      b0003   24-03-2020    h0014  Zest Hotel Jemursari Surabaya   \n",
       "3      b0004   23-03-2020    h0014  Zest Hotel Jemursari Surabaya   \n",
       "4      b0005   14-03-2020    h0014  Zest Hotel Jemursari Surabaya   \n",
       "\n",
       "   stay_duration  adults  children  rating                    review  \n",
       "0              1       2         1     8.4                Short stay  \n",
       "1              1       1         1    10.0           Hotelnya nyaman  \n",
       "2              2       2         1     9.2  Cukup baik untuk transit  \n",
       "3              1       2         0     9.2                    Nyaman  \n",
       "4              2       2         1     6.8                  Not good  "
      ]
     },
     "execution_count": 7,
     "metadata": {},
     "output_type": "execute_result"
    }
   ],
   "source": [
    "review_df.head()"
   ]
  },
  {
   "cell_type": "code",
   "execution_count": 8,
   "metadata": {},
   "outputs": [
    {
     "data": {
      "text/plain": [
       "booking_id         0\n",
       "booking_date       0\n",
       "hotel_id         473\n",
       "hotel_name         0\n",
       "stay_duration      0\n",
       "adults             0\n",
       "children           0\n",
       "rating             0\n",
       "review             0\n",
       "dtype: int64"
      ]
     },
     "execution_count": 8,
     "metadata": {},
     "output_type": "execute_result"
    }
   ],
   "source": [
    "review_df.isnull().sum()"
   ]
  },
  {
   "cell_type": "code",
   "execution_count": 9,
   "metadata": {},
   "outputs": [],
   "source": [
    "# Hapus data dimana hotel_id = null\n",
    "# karena tanpa hotel_id maka data review tidak dapat direlasikan ke data hotel\n",
    "review_df = review_df.loc[review_df['hotel_id'].notnull()]"
   ]
  },
  {
   "cell_type": "code",
   "execution_count": 10,
   "metadata": {},
   "outputs": [
    {
     "name": "stdout",
     "output_type": "stream",
     "text": [
      "hotel_id             0\n",
      "hotel_name           0\n",
      "hotel_description    0\n",
      "hotel_province       0\n",
      "hotel_city           0\n",
      "hotel_address        0\n",
      "price_per_night      0\n",
      "dtype: int64\n",
      "---------\n",
      "booking_id       0\n",
      "booking_date     0\n",
      "hotel_id         0\n",
      "hotel_name       0\n",
      "stay_duration    0\n",
      "adults           0\n",
      "children         0\n",
      "rating           0\n",
      "review           0\n",
      "dtype: int64\n"
     ]
    }
   ],
   "source": [
    "# Cek kembali kolom yang terdapat nullpada 2 dataset\n",
    "print(hotel_df.isnull().sum())\n",
    "print('---------')\n",
    "print(review_df.isnull().sum())"
   ]
  },
  {
   "cell_type": "code",
   "execution_count": 11,
   "metadata": {},
   "outputs": [
    {
     "name": "stdout",
     "output_type": "stream",
     "text": [
      "(1199, 7)\n",
      "(3833, 9)\n"
     ]
    }
   ],
   "source": [
    "# Cek jumlah data dan kolom dari 2 dataset\n",
    "print(hotel_df.shape)\n",
    "print(review_df.shape)"
   ]
  },
  {
   "cell_type": "code",
   "execution_count": 12,
   "metadata": {},
   "outputs": [],
   "source": [
    "# Mendapatkan rata2 dari data numeric di review\n",
    "review_df = review_df.groupby('hotel_id',as_index=True).agg({'stay_duration':'mean','adults':'mean','children':'mean','rating':['mean','count']})"
   ]
  },
  {
   "cell_type": "code",
   "execution_count": 13,
   "metadata": {},
   "outputs": [
    {
     "data": {
      "text/html": [
       "<div>\n",
       "<style scoped>\n",
       "    .dataframe tbody tr th:only-of-type {\n",
       "        vertical-align: middle;\n",
       "    }\n",
       "\n",
       "    .dataframe tbody tr th {\n",
       "        vertical-align: top;\n",
       "    }\n",
       "\n",
       "    .dataframe thead tr th {\n",
       "        text-align: left;\n",
       "    }\n",
       "\n",
       "    .dataframe thead tr:last-of-type th {\n",
       "        text-align: right;\n",
       "    }\n",
       "</style>\n",
       "<table border=\"1\" class=\"dataframe\">\n",
       "  <thead>\n",
       "    <tr>\n",
       "      <th></th>\n",
       "      <th>stay_duration</th>\n",
       "      <th>adults</th>\n",
       "      <th>children</th>\n",
       "      <th colspan=\"2\" halign=\"left\">rating</th>\n",
       "    </tr>\n",
       "    <tr>\n",
       "      <th></th>\n",
       "      <th>mean</th>\n",
       "      <th>mean</th>\n",
       "      <th>mean</th>\n",
       "      <th>mean</th>\n",
       "      <th>count</th>\n",
       "    </tr>\n",
       "    <tr>\n",
       "      <th>hotel_id</th>\n",
       "      <th></th>\n",
       "      <th></th>\n",
       "      <th></th>\n",
       "      <th></th>\n",
       "      <th></th>\n",
       "    </tr>\n",
       "  </thead>\n",
       "  <tbody>\n",
       "    <tr>\n",
       "      <th>h0001</th>\n",
       "      <td>1.4</td>\n",
       "      <td>1.6</td>\n",
       "      <td>0.4</td>\n",
       "      <td>9.20</td>\n",
       "      <td>5</td>\n",
       "    </tr>\n",
       "    <tr>\n",
       "      <th>h0002</th>\n",
       "      <td>1.3</td>\n",
       "      <td>1.3</td>\n",
       "      <td>0.5</td>\n",
       "      <td>8.32</td>\n",
       "      <td>10</td>\n",
       "    </tr>\n",
       "    <tr>\n",
       "      <th>h0003</th>\n",
       "      <td>1.6</td>\n",
       "      <td>1.6</td>\n",
       "      <td>0.4</td>\n",
       "      <td>8.76</td>\n",
       "      <td>10</td>\n",
       "    </tr>\n",
       "    <tr>\n",
       "      <th>h0004</th>\n",
       "      <td>1.3</td>\n",
       "      <td>1.5</td>\n",
       "      <td>0.5</td>\n",
       "      <td>8.52</td>\n",
       "      <td>10</td>\n",
       "    </tr>\n",
       "    <tr>\n",
       "      <th>h0005</th>\n",
       "      <td>1.4</td>\n",
       "      <td>1.6</td>\n",
       "      <td>0.3</td>\n",
       "      <td>8.04</td>\n",
       "      <td>10</td>\n",
       "    </tr>\n",
       "  </tbody>\n",
       "</table>\n",
       "</div>"
      ],
      "text/plain": [
       "         stay_duration adults children rating      \n",
       "                  mean   mean     mean   mean count\n",
       "hotel_id                                           \n",
       "h0001              1.4    1.6      0.4   9.20     5\n",
       "h0002              1.3    1.3      0.5   8.32    10\n",
       "h0003              1.6    1.6      0.4   8.76    10\n",
       "h0004              1.3    1.5      0.5   8.52    10\n",
       "h0005              1.4    1.6      0.3   8.04    10"
      ]
     },
     "execution_count": 13,
     "metadata": {},
     "output_type": "execute_result"
    }
   ],
   "source": [
    "review_df.head()"
   ]
  },
  {
   "cell_type": "code",
   "execution_count": 14,
   "metadata": {},
   "outputs": [
    {
     "name": "stderr",
     "output_type": "stream",
     "text": [
      "/Users/ariflaksito/opt/anaconda3/lib/python3.7/site-packages/pandas/core/reshape/merge.py:618: UserWarning: merging between different levels can give an unintended result (1 levels on the left, 2 on the right)\n",
      "  warnings.warn(msg, UserWarning)\n"
     ]
    }
   ],
   "source": [
    "# Menggabungkan data hotel dan data review\n",
    "hotel_review_df = pd.merge(hotel_df, review_df, on='hotel_id', how='inner')"
   ]
  },
  {
   "cell_type": "code",
   "execution_count": 15,
   "metadata": {},
   "outputs": [],
   "source": [
    "# Rename columns\n",
    "hotel_review_df.columns = ['hotel_id','hotel_name','hotel_description','hotel_province','hotel_city','hotel_address','price_per_night','stay_duration','adults','children','rating','num_votes']"
   ]
  },
  {
   "cell_type": "markdown",
   "metadata": {},
   "source": [
    "## 2. Nilai Review\n",
    "Setiap atribut numerik pada data review(sebelum join) dikonversi ke rata2 dan dihitung jumlah review yang berguna untuk menentukan nilai minimum populasi dan untuk menentukan tipe hotel family room. Untuk menentukan apakah family room akan dicari rata2 children >= 1 || rata2 adult > 1"
   ]
  },
  {
   "cell_type": "code",
   "execution_count": 16,
   "metadata": {},
   "outputs": [
    {
     "data": {
      "text/html": [
       "<div>\n",
       "<style scoped>\n",
       "    .dataframe tbody tr th:only-of-type {\n",
       "        vertical-align: middle;\n",
       "    }\n",
       "\n",
       "    .dataframe tbody tr th {\n",
       "        vertical-align: top;\n",
       "    }\n",
       "\n",
       "    .dataframe thead th {\n",
       "        text-align: right;\n",
       "    }\n",
       "</style>\n",
       "<table border=\"1\" class=\"dataframe\">\n",
       "  <thead>\n",
       "    <tr style=\"text-align: right;\">\n",
       "      <th></th>\n",
       "      <th>hotel_id</th>\n",
       "      <th>hotel_name</th>\n",
       "      <th>hotel_description</th>\n",
       "      <th>hotel_province</th>\n",
       "      <th>hotel_city</th>\n",
       "      <th>hotel_address</th>\n",
       "      <th>price_per_night</th>\n",
       "      <th>stay_duration</th>\n",
       "      <th>adults</th>\n",
       "      <th>children</th>\n",
       "      <th>rating</th>\n",
       "      <th>num_votes</th>\n",
       "    </tr>\n",
       "  </thead>\n",
       "  <tbody>\n",
       "    <tr>\n",
       "      <th>0</th>\n",
       "      <td>h0001</td>\n",
       "      <td>Midtown Residence Marvell City Surabaya</td>\n",
       "      <td>no info</td>\n",
       "      <td>Jawa Timur</td>\n",
       "      <td>Surabaya</td>\n",
       "      <td>Jalan Ngagel Raya No 123</td>\n",
       "      <td>527866.666667</td>\n",
       "      <td>1.4</td>\n",
       "      <td>1.6</td>\n",
       "      <td>0.4</td>\n",
       "      <td>9.20</td>\n",
       "      <td>5</td>\n",
       "    </tr>\n",
       "    <tr>\n",
       "      <th>1</th>\n",
       "      <td>h0002</td>\n",
       "      <td>favehotel Graha Agung Surabaya</td>\n",
       "      <td>Sebuah Hotel Mewah di Surabaya Persembahan dar...</td>\n",
       "      <td>Jawa Timur</td>\n",
       "      <td>Surabaya</td>\n",
       "      <td>Jl. Mayjen Yono Soewoyo Pakuwon Indah Square A...</td>\n",
       "      <td>442860.000000</td>\n",
       "      <td>1.3</td>\n",
       "      <td>1.3</td>\n",
       "      <td>0.5</td>\n",
       "      <td>8.32</td>\n",
       "      <td>10</td>\n",
       "    </tr>\n",
       "    <tr>\n",
       "      <th>2</th>\n",
       "      <td>h0003</td>\n",
       "      <td>The Sun Hotel Sidoarjo</td>\n",
       "      <td>Hotel Bintang 3 Pertama dan Satu-satunya di Si...</td>\n",
       "      <td>Jawa Timur</td>\n",
       "      <td>Surabaya</td>\n",
       "      <td>Jl. Pahlawan No.1,Sidokumpul, Sidoarjo, Suraba...</td>\n",
       "      <td>305000.000000</td>\n",
       "      <td>1.6</td>\n",
       "      <td>1.6</td>\n",
       "      <td>0.4</td>\n",
       "      <td>8.76</td>\n",
       "      <td>10</td>\n",
       "    </tr>\n",
       "    <tr>\n",
       "      <th>3</th>\n",
       "      <td>h0004</td>\n",
       "      <td>Grand Surabaya Hotel</td>\n",
       "      <td>Penginapan Yang Tenang Dan Nyaman Di Surabaya.</td>\n",
       "      <td>Jawa Timur</td>\n",
       "      <td>Surabaya</td>\n",
       "      <td>Jl. Pemuda 19-21, Surabaya, Indonesia</td>\n",
       "      <td>324999.333333</td>\n",
       "      <td>1.3</td>\n",
       "      <td>1.5</td>\n",
       "      <td>0.5</td>\n",
       "      <td>8.52</td>\n",
       "      <td>10</td>\n",
       "    </tr>\n",
       "    <tr>\n",
       "      <th>4</th>\n",
       "      <td>h0005</td>\n",
       "      <td>The WIN Hotel Surabaya</td>\n",
       "      <td>WIN Hotel adalah hotel smart bintang 3 yang me...</td>\n",
       "      <td>Jawa Timur</td>\n",
       "      <td>Surabaya</td>\n",
       "      <td>Jl. Embong Tanjung 46 - 48 Surabaya, Jawa Timu...</td>\n",
       "      <td>310947.250000</td>\n",
       "      <td>1.4</td>\n",
       "      <td>1.6</td>\n",
       "      <td>0.3</td>\n",
       "      <td>8.04</td>\n",
       "      <td>10</td>\n",
       "    </tr>\n",
       "  </tbody>\n",
       "</table>\n",
       "</div>"
      ],
      "text/plain": [
       "  hotel_id                               hotel_name  \\\n",
       "0    h0001  Midtown Residence Marvell City Surabaya   \n",
       "1    h0002           favehotel Graha Agung Surabaya   \n",
       "2    h0003                   The Sun Hotel Sidoarjo   \n",
       "3    h0004                     Grand Surabaya Hotel   \n",
       "4    h0005                   The WIN Hotel Surabaya   \n",
       "\n",
       "                                   hotel_description hotel_province  \\\n",
       "0                                            no info     Jawa Timur   \n",
       "1  Sebuah Hotel Mewah di Surabaya Persembahan dar...     Jawa Timur   \n",
       "2  Hotel Bintang 3 Pertama dan Satu-satunya di Si...     Jawa Timur   \n",
       "3     Penginapan Yang Tenang Dan Nyaman Di Surabaya.     Jawa Timur   \n",
       "4  WIN Hotel adalah hotel smart bintang 3 yang me...     Jawa Timur   \n",
       "\n",
       "  hotel_city                                      hotel_address  \\\n",
       "0   Surabaya                           Jalan Ngagel Raya No 123   \n",
       "1   Surabaya  Jl. Mayjen Yono Soewoyo Pakuwon Indah Square A...   \n",
       "2   Surabaya  Jl. Pahlawan No.1,Sidokumpul, Sidoarjo, Suraba...   \n",
       "3   Surabaya              Jl. Pemuda 19-21, Surabaya, Indonesia   \n",
       "4   Surabaya  Jl. Embong Tanjung 46 - 48 Surabaya, Jawa Timu...   \n",
       "\n",
       "   price_per_night  stay_duration  adults  children  rating  num_votes  \n",
       "0    527866.666667            1.4     1.6       0.4    9.20          5  \n",
       "1    442860.000000            1.3     1.3       0.5    8.32         10  \n",
       "2    305000.000000            1.6     1.6       0.4    8.76         10  \n",
       "3    324999.333333            1.3     1.5       0.5    8.52         10  \n",
       "4    310947.250000            1.4     1.6       0.3    8.04         10  "
      ]
     },
     "execution_count": 16,
     "metadata": {},
     "output_type": "execute_result"
    }
   ],
   "source": [
    "hotel_review_df.head()"
   ]
  },
  {
   "cell_type": "markdown",
   "metadata": {},
   "source": [
    "## 3. EDA\n",
    "Analisis data pada data hotel review"
   ]
  },
  {
   "cell_type": "code",
   "execution_count": 17,
   "metadata": {},
   "outputs": [],
   "source": [
    "import matplotlib.pyplot as plt"
   ]
  },
  {
   "cell_type": "code",
   "execution_count": 18,
   "metadata": {},
   "outputs": [],
   "source": [
    "plt.rcParams['figure.figsize'] = [13,5]"
   ]
  },
  {
   "cell_type": "code",
   "execution_count": 19,
   "metadata": {},
   "outputs": [
    {
     "data": {
      "image/png": "[encoded data removed]",
      "text/plain": [
       "<Figure size 936x360 with 1 Axes>"
      ]
     },
     "metadata": {
      "needs_background": "light"
     },
     "output_type": "display_data"
    }
   ],
   "source": [
    "# Menghitung jumlah hotel berdasarkan provinsi\n",
    "h = hotel_review_df.groupby('hotel_province')['hotel_id'].nunique().sort_values().plot(kind='bar',title='Count Hotel by Province')\n",
    "for x in h.patches:\n",
    "    h.annotate(str(x.get_height()),(x.get_x() * 1.0, x.get_height() * 1.0))"
   ]
  },
  {
   "cell_type": "markdown",
   "metadata": {},
   "source": [
    "Terdapat 5 provinsi pada sebaran data hotel dimana DKI Jakarta menempati provisinsi paling banyak jumlah hotelnya sedangkan Sumatera Utara merupakan hotel paling sedikit"
   ]
  },
  {
   "cell_type": "code",
   "execution_count": 20,
   "metadata": {},
   "outputs": [
    {
     "data": {
      "image/png": "[encoded data removed]",
      "text/plain": [
       "<Figure size 936x360 with 1 Axes>"
      ]
     },
     "metadata": {
      "needs_background": "light"
     },
     "output_type": "display_data"
    }
   ],
   "source": [
    "# Menghitung jumlah hotel berdasarkan kota\n",
    "h = hotel_review_df.groupby('hotel_city')['hotel_id'].nunique().sort_values().plot(kind='bar',title='Count Hotel by City')\n",
    "for x in h.patches:\n",
    "    h.annotate(str(x.get_height()),(x.get_x() * 1.0, x.get_height() * 1.0))"
   ]
  },
  {
   "cell_type": "markdown",
   "metadata": {},
   "source": [
    "Terdapat 11 kota pada sebaran data hotel dimana Jakarta menempati kota paling banyak jumlah hotelnya sedangkan \n",
    "Malang merupakan hotel paling sedikit. Pada kota Jakarta belum menunjukan sebaran secara akurat dikarenakan masih\n",
    "terbagi lagi menjadi Jakarta Barat, Selatan, Pusat atau Timur, hal ini perlu di lakukan cleansing data lanjutan"
   ]
  },
  {
   "cell_type": "code",
   "execution_count": 21,
   "metadata": {},
   "outputs": [
    {
     "data": {
      "image/png": "[encoded data removed]",
      "text/plain": [
       "<Figure size 936x360 with 1 Axes>"
      ]
     },
     "metadata": {
      "needs_background": "light"
     },
     "output_type": "display_data"
    }
   ],
   "source": [
    "# Menghitung rata-rata rating hotel tiap kota\n",
    "h = hotel_review_df.groupby('hotel_city')['num_votes'].sum().sort_values().plot(kind='bar',title='Count rating Hotel by City')\n",
    "for x in h.patches:\n",
    "    h.annotate(str(x.get_height()),(x.get_x() * 1.0, x.get_height() * 1.0))"
   ]
  },
  {
   "cell_type": "markdown",
   "metadata": {},
   "source": [
    "Jumlah user yang melakukan review terhadap hotel berdasarkan kota dimana review paling banyak di Jakarta"
   ]
  },
  {
   "cell_type": "markdown",
   "metadata": {},
   "source": [
    "## 4. Pembentukan Model\n",
    "### 4.1 Simple Recommender\n",
    "Disini akan digunakan rumus weight average untuk mendapatkan score dari tiap hotel\n",
    "<img src='weight-avg.png' height='10'>"
   ]
  },
  {
   "cell_type": "code",
   "execution_count": 22,
   "metadata": {},
   "outputs": [
    {
     "name": "stdout",
     "output_type": "stream",
     "text": [
      "8.371491985683155\n"
     ]
    }
   ],
   "source": [
    "# Mengambil rata2 rating\n",
    "C = hotel_review_df['rating'].mean()\n",
    "print(C)"
   ]
  },
  {
   "cell_type": "code",
   "execution_count": 23,
   "metadata": {},
   "outputs": [
    {
     "name": "stdout",
     "output_type": "stream",
     "text": [
      "10.0\n"
     ]
    }
   ],
   "source": [
    "# Mencari nilai M\n",
    "# Kita ambil contoh hotel dengan num_votes di atas 80% populasi, \n",
    "# jadi populasi yang akan kita ambil hanya sebesar 20%. \n",
    "m = hotel_review_df['num_votes'].quantile(0.8)\n",
    "print(m)"
   ]
  },
  {
   "cell_type": "code",
   "execution_count": 24,
   "metadata": {},
   "outputs": [],
   "source": [
    "# Membuat fungsi weighted formula\n",
    "def imdb_weighted_rating(df, var=0.8):\n",
    "    v = df['num_votes']\n",
    "    R = df['rating']\n",
    "    C = df['rating'].mean()\n",
    "    m = df['num_votes'].quantile(var)\n",
    "    df['score'] = (v/(v+m)*R) + (m/(v+m)*C) #Rumus IMDb \n",
    "    return df['score']"
   ]
  },
  {
   "cell_type": "code",
   "execution_count": 25,
   "metadata": {},
   "outputs": [
    {
     "data": {
      "text/plain": [
       "0      8.647661\n",
       "1      8.345746\n",
       "2      8.565746\n",
       "3      8.445746\n",
       "4      8.205746\n",
       "         ...   \n",
       "403    8.309577\n",
       "404    8.870497\n",
       "405    8.737164\n",
       "406    8.843831\n",
       "407    7.750497\n",
       "Name: score, Length: 408, dtype: float64"
      ]
     },
     "execution_count": 25,
     "metadata": {},
     "output_type": "execute_result"
    }
   ],
   "source": [
    "# Memberi score dari masing-masing hotel\n",
    "imdb_weighted_rating(hotel_review_df)"
   ]
  },
  {
   "cell_type": "code",
   "execution_count": 26,
   "metadata": {},
   "outputs": [
    {
     "data": {
      "text/html": [
       "<div>\n",
       "<style scoped>\n",
       "    .dataframe tbody tr th:only-of-type {\n",
       "        vertical-align: middle;\n",
       "    }\n",
       "\n",
       "    .dataframe tbody tr th {\n",
       "        vertical-align: top;\n",
       "    }\n",
       "\n",
       "    .dataframe thead th {\n",
       "        text-align: right;\n",
       "    }\n",
       "</style>\n",
       "<table border=\"1\" class=\"dataframe\">\n",
       "  <thead>\n",
       "    <tr style=\"text-align: right;\">\n",
       "      <th></th>\n",
       "      <th>hotel_id</th>\n",
       "      <th>hotel_name</th>\n",
       "      <th>hotel_description</th>\n",
       "      <th>hotel_province</th>\n",
       "      <th>hotel_city</th>\n",
       "      <th>hotel_address</th>\n",
       "      <th>price_per_night</th>\n",
       "      <th>stay_duration</th>\n",
       "      <th>adults</th>\n",
       "      <th>children</th>\n",
       "      <th>rating</th>\n",
       "      <th>num_votes</th>\n",
       "      <th>score</th>\n",
       "    </tr>\n",
       "  </thead>\n",
       "  <tbody>\n",
       "    <tr>\n",
       "      <th>0</th>\n",
       "      <td>h0001</td>\n",
       "      <td>Midtown Residence Marvell City Surabaya</td>\n",
       "      <td>no info</td>\n",
       "      <td>Jawa Timur</td>\n",
       "      <td>Surabaya</td>\n",
       "      <td>Jalan Ngagel Raya No 123</td>\n",
       "      <td>527866.666667</td>\n",
       "      <td>1.4</td>\n",
       "      <td>1.6</td>\n",
       "      <td>0.4</td>\n",
       "      <td>9.20</td>\n",
       "      <td>5</td>\n",
       "      <td>8.647661</td>\n",
       "    </tr>\n",
       "    <tr>\n",
       "      <th>1</th>\n",
       "      <td>h0002</td>\n",
       "      <td>favehotel Graha Agung Surabaya</td>\n",
       "      <td>Sebuah Hotel Mewah di Surabaya Persembahan dar...</td>\n",
       "      <td>Jawa Timur</td>\n",
       "      <td>Surabaya</td>\n",
       "      <td>Jl. Mayjen Yono Soewoyo Pakuwon Indah Square A...</td>\n",
       "      <td>442860.000000</td>\n",
       "      <td>1.3</td>\n",
       "      <td>1.3</td>\n",
       "      <td>0.5</td>\n",
       "      <td>8.32</td>\n",
       "      <td>10</td>\n",
       "      <td>8.345746</td>\n",
       "    </tr>\n",
       "    <tr>\n",
       "      <th>2</th>\n",
       "      <td>h0003</td>\n",
       "      <td>The Sun Hotel Sidoarjo</td>\n",
       "      <td>Hotel Bintang 3 Pertama dan Satu-satunya di Si...</td>\n",
       "      <td>Jawa Timur</td>\n",
       "      <td>Surabaya</td>\n",
       "      <td>Jl. Pahlawan No.1,Sidokumpul, Sidoarjo, Suraba...</td>\n",
       "      <td>305000.000000</td>\n",
       "      <td>1.6</td>\n",
       "      <td>1.6</td>\n",
       "      <td>0.4</td>\n",
       "      <td>8.76</td>\n",
       "      <td>10</td>\n",
       "      <td>8.565746</td>\n",
       "    </tr>\n",
       "    <tr>\n",
       "      <th>3</th>\n",
       "      <td>h0004</td>\n",
       "      <td>Grand Surabaya Hotel</td>\n",
       "      <td>Penginapan Yang Tenang Dan Nyaman Di Surabaya.</td>\n",
       "      <td>Jawa Timur</td>\n",
       "      <td>Surabaya</td>\n",
       "      <td>Jl. Pemuda 19-21, Surabaya, Indonesia</td>\n",
       "      <td>324999.333333</td>\n",
       "      <td>1.3</td>\n",
       "      <td>1.5</td>\n",
       "      <td>0.5</td>\n",
       "      <td>8.52</td>\n",
       "      <td>10</td>\n",
       "      <td>8.445746</td>\n",
       "    </tr>\n",
       "    <tr>\n",
       "      <th>4</th>\n",
       "      <td>h0005</td>\n",
       "      <td>The WIN Hotel Surabaya</td>\n",
       "      <td>WIN Hotel adalah hotel smart bintang 3 yang me...</td>\n",
       "      <td>Jawa Timur</td>\n",
       "      <td>Surabaya</td>\n",
       "      <td>Jl. Embong Tanjung 46 - 48 Surabaya, Jawa Timu...</td>\n",
       "      <td>310947.250000</td>\n",
       "      <td>1.4</td>\n",
       "      <td>1.6</td>\n",
       "      <td>0.3</td>\n",
       "      <td>8.04</td>\n",
       "      <td>10</td>\n",
       "      <td>8.205746</td>\n",
       "    </tr>\n",
       "  </tbody>\n",
       "</table>\n",
       "</div>"
      ],
      "text/plain": [
       "  hotel_id                               hotel_name  \\\n",
       "0    h0001  Midtown Residence Marvell City Surabaya   \n",
       "1    h0002           favehotel Graha Agung Surabaya   \n",
       "2    h0003                   The Sun Hotel Sidoarjo   \n",
       "3    h0004                     Grand Surabaya Hotel   \n",
       "4    h0005                   The WIN Hotel Surabaya   \n",
       "\n",
       "                                   hotel_description hotel_province  \\\n",
       "0                                            no info     Jawa Timur   \n",
       "1  Sebuah Hotel Mewah di Surabaya Persembahan dar...     Jawa Timur   \n",
       "2  Hotel Bintang 3 Pertama dan Satu-satunya di Si...     Jawa Timur   \n",
       "3     Penginapan Yang Tenang Dan Nyaman Di Surabaya.     Jawa Timur   \n",
       "4  WIN Hotel adalah hotel smart bintang 3 yang me...     Jawa Timur   \n",
       "\n",
       "  hotel_city                                      hotel_address  \\\n",
       "0   Surabaya                           Jalan Ngagel Raya No 123   \n",
       "1   Surabaya  Jl. Mayjen Yono Soewoyo Pakuwon Indah Square A...   \n",
       "2   Surabaya  Jl. Pahlawan No.1,Sidokumpul, Sidoarjo, Suraba...   \n",
       "3   Surabaya              Jl. Pemuda 19-21, Surabaya, Indonesia   \n",
       "4   Surabaya  Jl. Embong Tanjung 46 - 48 Surabaya, Jawa Timu...   \n",
       "\n",
       "   price_per_night  stay_duration  adults  children  rating  num_votes  \\\n",
       "0    527866.666667            1.4     1.6       0.4    9.20          5   \n",
       "1    442860.000000            1.3     1.3       0.5    8.32         10   \n",
       "2    305000.000000            1.6     1.6       0.4    8.76         10   \n",
       "3    324999.333333            1.3     1.5       0.5    8.52         10   \n",
       "4    310947.250000            1.4     1.6       0.3    8.04         10   \n",
       "\n",
       "      score  \n",
       "0  8.647661  \n",
       "1  8.345746  \n",
       "2  8.565746  \n",
       "3  8.445746  \n",
       "4  8.205746  "
      ]
     },
     "execution_count": 26,
     "metadata": {},
     "output_type": "execute_result"
    }
   ],
   "source": [
    "hotel_review_df.head()"
   ]
  },
  {
   "cell_type": "code",
   "execution_count": 27,
   "metadata": {},
   "outputs": [],
   "source": [
    "def hotel_search_recommender(df,family_room,city,location,top=10):\n",
    "    \n",
    "    # family_room yaitu rata2 children >= 1 & rata2 adult > 1\n",
    "    # gunakan modus untuk filter family room\n",
    "    if family_room.lower() == 'yes':\n",
    "        df = df.loc[(df['children']>=1.0) | (df['adults']>1.0)]\n",
    "    elif family_room.lower() == 'all':\n",
    "        df = df\n",
    "    \n",
    "    # cek city\n",
    "    if city.lower() == 'all':\n",
    "        df = df\n",
    "    else:    \n",
    "        df = df.loc[df['hotel_city'].str.lower() == city.lower()]\n",
    "        \n",
    "    # cek location\n",
    "    if location.lower() == 'all':\n",
    "        df = df\n",
    "    else:\n",
    "        def filter_location(x):\n",
    "            if location.lower() in str(x).lower():\n",
    "                return True\n",
    "            else:\n",
    "                return False\n",
    "        df = df.loc[df['hotel_address'].str.split().apply(lambda x: filter_location(x))]\n",
    "        \n",
    "    df = df.loc[df['num_votes'] >= m] \n",
    "    df = df.sort_values(by='score', ascending=False)\n",
    "    \n",
    "    # Tampilkan top-n data\n",
    "    df = df[:top]\n",
    "    return df"
   ]
  },
  {
   "cell_type": "code",
   "execution_count": 28,
   "metadata": {},
   "outputs": [],
   "source": [
    "df = hotel_review_df.copy()"
   ]
  },
  {
   "cell_type": "code",
   "execution_count": 35,
   "metadata": {},
   "outputs": [
    {
     "data": {
      "text/html": [
       "<div>\n",
       "<style scoped>\n",
       "    .dataframe tbody tr th:only-of-type {\n",
       "        vertical-align: middle;\n",
       "    }\n",
       "\n",
       "    .dataframe tbody tr th {\n",
       "        vertical-align: top;\n",
       "    }\n",
       "\n",
       "    .dataframe thead th {\n",
       "        text-align: right;\n",
       "    }\n",
       "</style>\n",
       "<table border=\"1\" class=\"dataframe\">\n",
       "  <thead>\n",
       "    <tr style=\"text-align: right;\">\n",
       "      <th></th>\n",
       "      <th>hotel_id</th>\n",
       "      <th>hotel_name</th>\n",
       "      <th>hotel_description</th>\n",
       "      <th>hotel_province</th>\n",
       "      <th>hotel_city</th>\n",
       "      <th>hotel_address</th>\n",
       "      <th>price_per_night</th>\n",
       "      <th>stay_duration</th>\n",
       "      <th>adults</th>\n",
       "      <th>children</th>\n",
       "      <th>rating</th>\n",
       "      <th>num_votes</th>\n",
       "      <th>score</th>\n",
       "    </tr>\n",
       "  </thead>\n",
       "  <tbody>\n",
       "    <tr>\n",
       "      <th>15</th>\n",
       "      <td>h0016</td>\n",
       "      <td>Best Western Papilio Hotel</td>\n",
       "      <td>Welcome to Best Western Papilio Hotel!</td>\n",
       "      <td>Jawa Timur</td>\n",
       "      <td>Surabaya</td>\n",
       "      <td>Jl. Ahmad Yani 176 - 178, Surabaya</td>\n",
       "      <td>305890.0</td>\n",
       "      <td>1.2</td>\n",
       "      <td>1.3</td>\n",
       "      <td>0.8</td>\n",
       "      <td>9.52</td>\n",
       "      <td>10</td>\n",
       "      <td>8.945746</td>\n",
       "    </tr>\n",
       "    <tr>\n",
       "      <th>9</th>\n",
       "      <td>h0010</td>\n",
       "      <td>Neo+ Waru Sidoarjo by ASTON</td>\n",
       "      <td>Pilihan akomodasi yang ideal untuk Pasangan, B...</td>\n",
       "      <td>Jawa Timur</td>\n",
       "      <td>Surabaya</td>\n",
       "      <td>Jl. S. Parman No. 52-54, Waru, Sidoarjo, Surab...</td>\n",
       "      <td>293122.5</td>\n",
       "      <td>1.6</td>\n",
       "      <td>1.7</td>\n",
       "      <td>0.5</td>\n",
       "      <td>9.48</td>\n",
       "      <td>10</td>\n",
       "      <td>8.925746</td>\n",
       "    </tr>\n",
       "    <tr>\n",
       "      <th>24</th>\n",
       "      <td>h0032</td>\n",
       "      <td>Yello Hotel Jemursari</td>\n",
       "      <td>Sebuah hotel yang nyaman dan strategis di Sura...</td>\n",
       "      <td>Jawa Timur</td>\n",
       "      <td>Surabaya</td>\n",
       "      <td>Jl. Raya Jemursari 176, Surabaya, Jawa Timur, ...</td>\n",
       "      <td>513000.0</td>\n",
       "      <td>1.3</td>\n",
       "      <td>1.5</td>\n",
       "      <td>0.4</td>\n",
       "      <td>9.28</td>\n",
       "      <td>10</td>\n",
       "      <td>8.825746</td>\n",
       "    </tr>\n",
       "    <tr>\n",
       "      <th>10</th>\n",
       "      <td>h0011</td>\n",
       "      <td>favehotel Sidoarjo</td>\n",
       "      <td>Penginapan Yang Tenang Dan Nyaman di Sidoarjo.</td>\n",
       "      <td>Jawa Timur</td>\n",
       "      <td>Surabaya</td>\n",
       "      <td>Jl. Jenggolo No. 15, Pucang, Kec. Sidoarjo, Ka...</td>\n",
       "      <td>447216.0</td>\n",
       "      <td>1.5</td>\n",
       "      <td>1.4</td>\n",
       "      <td>0.6</td>\n",
       "      <td>9.08</td>\n",
       "      <td>10</td>\n",
       "      <td>8.725746</td>\n",
       "    </tr>\n",
       "    <tr>\n",
       "      <th>6</th>\n",
       "      <td>h0007</td>\n",
       "      <td>Evora Hotel Surabaya</td>\n",
       "      <td>Ketika bisnis dan kenyamanan sinergi di satu t...</td>\n",
       "      <td>Jawa Timur</td>\n",
       "      <td>Surabaya</td>\n",
       "      <td>Jl. Menur 18 - 20, Surabaya, Indonesia</td>\n",
       "      <td>283000.0</td>\n",
       "      <td>1.6</td>\n",
       "      <td>1.5</td>\n",
       "      <td>0.5</td>\n",
       "      <td>9.04</td>\n",
       "      <td>10</td>\n",
       "      <td>8.705746</td>\n",
       "    </tr>\n",
       "    <tr>\n",
       "      <th>29</th>\n",
       "      <td>h0043</td>\n",
       "      <td>POP! Hotel Gubeng</td>\n",
       "      <td>Sebuah Hotel Modern yang Terjangkau di Gubeng,...</td>\n",
       "      <td>Jawa Timur</td>\n",
       "      <td>Surabaya</td>\n",
       "      <td>Jl. Bangka 8-18, Gubeng, Surabaya</td>\n",
       "      <td>313000.0</td>\n",
       "      <td>1.6</td>\n",
       "      <td>1.4</td>\n",
       "      <td>0.4</td>\n",
       "      <td>8.76</td>\n",
       "      <td>10</td>\n",
       "      <td>8.565746</td>\n",
       "    </tr>\n",
       "    <tr>\n",
       "      <th>22</th>\n",
       "      <td>h0030</td>\n",
       "      <td>Front One Inn Sidoarjo</td>\n",
       "      <td>Penginapan Yang Tenang Dan Nyaman di Sidoarjo.</td>\n",
       "      <td>Jawa Timur</td>\n",
       "      <td>Surabaya</td>\n",
       "      <td>Jl. Trunojoyo No. 41, Sidoarjo, Jawa Timur, In...</td>\n",
       "      <td>250000.0</td>\n",
       "      <td>1.7</td>\n",
       "      <td>1.5</td>\n",
       "      <td>0.5</td>\n",
       "      <td>8.76</td>\n",
       "      <td>10</td>\n",
       "      <td>8.565746</td>\n",
       "    </tr>\n",
       "    <tr>\n",
       "      <th>2</th>\n",
       "      <td>h0003</td>\n",
       "      <td>The Sun Hotel Sidoarjo</td>\n",
       "      <td>Hotel Bintang 3 Pertama dan Satu-satunya di Si...</td>\n",
       "      <td>Jawa Timur</td>\n",
       "      <td>Surabaya</td>\n",
       "      <td>Jl. Pahlawan No.1,Sidokumpul, Sidoarjo, Suraba...</td>\n",
       "      <td>305000.0</td>\n",
       "      <td>1.6</td>\n",
       "      <td>1.6</td>\n",
       "      <td>0.4</td>\n",
       "      <td>8.76</td>\n",
       "      <td>10</td>\n",
       "      <td>8.565746</td>\n",
       "    </tr>\n",
       "    <tr>\n",
       "      <th>17</th>\n",
       "      <td>h0019</td>\n",
       "      <td>Sumi Hotel Surabaya</td>\n",
       "      <td>Penginapan tenang dan nyaman di Sumi Hotel</td>\n",
       "      <td>Jawa Timur</td>\n",
       "      <td>Surabaya</td>\n",
       "      <td>Jl. Mayjend Sungkono No. 37 A, Surabaya, Indon...</td>\n",
       "      <td>291772.0</td>\n",
       "      <td>1.5</td>\n",
       "      <td>1.7</td>\n",
       "      <td>0.5</td>\n",
       "      <td>8.72</td>\n",
       "      <td>10</td>\n",
       "      <td>8.545746</td>\n",
       "    </tr>\n",
       "    <tr>\n",
       "      <th>19</th>\n",
       "      <td>h0022</td>\n",
       "      <td>Quest Hotel Darmo - Surabaya by ASTON</td>\n",
       "      <td>Sebuah Hotel yang Nyaman, Lengkap, dan Terjang...</td>\n",
       "      <td>Jawa Timur</td>\n",
       "      <td>Surabaya</td>\n",
       "      <td>Jl. Ronggolawe No. 27-29, Surabaya, Jawa Timur...</td>\n",
       "      <td>360217.0</td>\n",
       "      <td>1.6</td>\n",
       "      <td>1.6</td>\n",
       "      <td>0.4</td>\n",
       "      <td>8.60</td>\n",
       "      <td>10</td>\n",
       "      <td>8.485746</td>\n",
       "    </tr>\n",
       "  </tbody>\n",
       "</table>\n",
       "</div>"
      ],
      "text/plain": [
       "   hotel_id                             hotel_name  \\\n",
       "15    h0016             Best Western Papilio Hotel   \n",
       "9     h0010            Neo+ Waru Sidoarjo by ASTON   \n",
       "24    h0032                  Yello Hotel Jemursari   \n",
       "10    h0011                     favehotel Sidoarjo   \n",
       "6     h0007                   Evora Hotel Surabaya   \n",
       "29    h0043                      POP! Hotel Gubeng   \n",
       "22    h0030                 Front One Inn Sidoarjo   \n",
       "2     h0003                 The Sun Hotel Sidoarjo   \n",
       "17    h0019                    Sumi Hotel Surabaya   \n",
       "19    h0022  Quest Hotel Darmo - Surabaya by ASTON   \n",
       "\n",
       "                                    hotel_description hotel_province  \\\n",
       "15             Welcome to Best Western Papilio Hotel!     Jawa Timur   \n",
       "9   Pilihan akomodasi yang ideal untuk Pasangan, B...     Jawa Timur   \n",
       "24  Sebuah hotel yang nyaman dan strategis di Sura...     Jawa Timur   \n",
       "10     Penginapan Yang Tenang Dan Nyaman di Sidoarjo.     Jawa Timur   \n",
       "6   Ketika bisnis dan kenyamanan sinergi di satu t...     Jawa Timur   \n",
       "29  Sebuah Hotel Modern yang Terjangkau di Gubeng,...     Jawa Timur   \n",
       "22     Penginapan Yang Tenang Dan Nyaman di Sidoarjo.     Jawa Timur   \n",
       "2   Hotel Bintang 3 Pertama dan Satu-satunya di Si...     Jawa Timur   \n",
       "17         Penginapan tenang dan nyaman di Sumi Hotel     Jawa Timur   \n",
       "19  Sebuah Hotel yang Nyaman, Lengkap, dan Terjang...     Jawa Timur   \n",
       "\n",
       "   hotel_city                                      hotel_address  \\\n",
       "15   Surabaya                 Jl. Ahmad Yani 176 - 178, Surabaya   \n",
       "9    Surabaya  Jl. S. Parman No. 52-54, Waru, Sidoarjo, Surab...   \n",
       "24   Surabaya  Jl. Raya Jemursari 176, Surabaya, Jawa Timur, ...   \n",
       "10   Surabaya  Jl. Jenggolo No. 15, Pucang, Kec. Sidoarjo, Ka...   \n",
       "6    Surabaya             Jl. Menur 18 - 20, Surabaya, Indonesia   \n",
       "29   Surabaya                  Jl. Bangka 8-18, Gubeng, Surabaya   \n",
       "22   Surabaya  Jl. Trunojoyo No. 41, Sidoarjo, Jawa Timur, In...   \n",
       "2    Surabaya  Jl. Pahlawan No.1,Sidokumpul, Sidoarjo, Suraba...   \n",
       "17   Surabaya  Jl. Mayjend Sungkono No. 37 A, Surabaya, Indon...   \n",
       "19   Surabaya  Jl. Ronggolawe No. 27-29, Surabaya, Jawa Timur...   \n",
       "\n",
       "    price_per_night  stay_duration  adults  children  rating  num_votes  \\\n",
       "15         305890.0            1.2     1.3       0.8    9.52         10   \n",
       "9          293122.5            1.6     1.7       0.5    9.48         10   \n",
       "24         513000.0            1.3     1.5       0.4    9.28         10   \n",
       "10         447216.0            1.5     1.4       0.6    9.08         10   \n",
       "6          283000.0            1.6     1.5       0.5    9.04         10   \n",
       "29         313000.0            1.6     1.4       0.4    8.76         10   \n",
       "22         250000.0            1.7     1.5       0.5    8.76         10   \n",
       "2          305000.0            1.6     1.6       0.4    8.76         10   \n",
       "17         291772.0            1.5     1.7       0.5    8.72         10   \n",
       "19         360217.0            1.6     1.6       0.4    8.60         10   \n",
       "\n",
       "       score  \n",
       "15  8.945746  \n",
       "9   8.925746  \n",
       "24  8.825746  \n",
       "10  8.725746  \n",
       "6   8.705746  \n",
       "29  8.565746  \n",
       "22  8.565746  \n",
       "2   8.565746  \n",
       "17  8.545746  \n",
       "19  8.485746  "
      ]
     },
     "execution_count": 35,
     "metadata": {},
     "output_type": "execute_result"
    }
   ],
   "source": [
    "# # Contoh menampilkan Family tipe room di kota surabaya \n",
    "hotel_search_recommender(df,family_room='all',city='surabaya',location='all',top=10)"
   ]
  },
  {
   "cell_type": "code",
   "execution_count": 95,
   "metadata": {},
   "outputs": [
    {
     "data": {
      "text/html": [
       "<div>\n",
       "<style scoped>\n",
       "    .dataframe tbody tr th:only-of-type {\n",
       "        vertical-align: middle;\n",
       "    }\n",
       "\n",
       "    .dataframe tbody tr th {\n",
       "        vertical-align: top;\n",
       "    }\n",
       "\n",
       "    .dataframe thead th {\n",
       "        text-align: right;\n",
       "    }\n",
       "</style>\n",
       "<table border=\"1\" class=\"dataframe\">\n",
       "  <thead>\n",
       "    <tr style=\"text-align: right;\">\n",
       "      <th></th>\n",
       "      <th>hotel_id</th>\n",
       "      <th>hotel_name</th>\n",
       "      <th>hotel_description</th>\n",
       "      <th>hotel_province</th>\n",
       "      <th>hotel_city</th>\n",
       "      <th>hotel_address</th>\n",
       "      <th>price_per_night</th>\n",
       "      <th>stay_duration</th>\n",
       "      <th>adults</th>\n",
       "      <th>children</th>\n",
       "      <th>rating</th>\n",
       "      <th>num_votes</th>\n",
       "      <th>score</th>\n",
       "    </tr>\n",
       "  </thead>\n",
       "  <tbody>\n",
       "    <tr>\n",
       "      <th>9</th>\n",
       "      <td>h0010</td>\n",
       "      <td>Neo+ Waru Sidoarjo by ASTON</td>\n",
       "      <td>Pilihan akomodasi yang ideal untuk Pasangan, B...</td>\n",
       "      <td>Jawa Timur</td>\n",
       "      <td>Surabaya</td>\n",
       "      <td>Jl. S. Parman No. 52-54, Waru, Sidoarjo, Surab...</td>\n",
       "      <td>293122.500000</td>\n",
       "      <td>1.6</td>\n",
       "      <td>1.7</td>\n",
       "      <td>0.5</td>\n",
       "      <td>9.48</td>\n",
       "      <td>10</td>\n",
       "      <td>8.925746</td>\n",
       "    </tr>\n",
       "    <tr>\n",
       "      <th>11</th>\n",
       "      <td>h0012</td>\n",
       "      <td>News Front One Hotel Surabaya</td>\n",
       "      <td>Rasakan keramahan kota Surabaya di News Hotel ...</td>\n",
       "      <td>Jawa Timur</td>\n",
       "      <td>Surabaya</td>\n",
       "      <td>Jl. Pondok Maspion Blok S No. 1, Pepelegi, War...</td>\n",
       "      <td>239118.333333</td>\n",
       "      <td>1.7</td>\n",
       "      <td>1.5</td>\n",
       "      <td>0.9</td>\n",
       "      <td>7.48</td>\n",
       "      <td>10</td>\n",
       "      <td>7.925746</td>\n",
       "    </tr>\n",
       "  </tbody>\n",
       "</table>\n",
       "</div>"
      ],
      "text/plain": [
       "   hotel_id                     hotel_name  \\\n",
       "9     h0010    Neo+ Waru Sidoarjo by ASTON   \n",
       "11    h0012  News Front One Hotel Surabaya   \n",
       "\n",
       "                                    hotel_description hotel_province  \\\n",
       "9   Pilihan akomodasi yang ideal untuk Pasangan, B...     Jawa Timur   \n",
       "11  Rasakan keramahan kota Surabaya di News Hotel ...     Jawa Timur   \n",
       "\n",
       "   hotel_city                                      hotel_address  \\\n",
       "9    Surabaya  Jl. S. Parman No. 52-54, Waru, Sidoarjo, Surab...   \n",
       "11   Surabaya  Jl. Pondok Maspion Blok S No. 1, Pepelegi, War...   \n",
       "\n",
       "    price_per_night  stay_duration  adults  children  rating  num_votes  \\\n",
       "9     293122.500000            1.6     1.7       0.5    9.48         10   \n",
       "11    239118.333333            1.7     1.5       0.9    7.48         10   \n",
       "\n",
       "       score  \n",
       "9   8.925746  \n",
       "11  7.925746  "
      ]
     },
     "execution_count": 95,
     "metadata": {},
     "output_type": "execute_result"
    }
   ],
   "source": [
    "# Contoh menampilkan semua tipe room di kota surabaya berlokasi di Waru\n",
    "hotel_search_recommender(df,family_room='all',city='surabaya',location='waru',top=5)"
   ]
  },
  {
   "cell_type": "markdown",
   "metadata": {},
   "source": [
    "### 4.2 Content Based Filtering"
   ]
  },
  {
   "cell_type": "markdown",
   "metadata": {},
   "source": [
    "Pada kasus ini deskripsi hotel akan dihitung menggunakan TF-IDF dan cosine similarity"
   ]
  },
  {
   "cell_type": "code",
   "execution_count": 32,
   "metadata": {},
   "outputs": [
    {
     "name": "stderr",
     "output_type": "stream",
     "text": [
      "[nltk_data] Downloading package stopwords to\n",
      "[nltk_data]     /Users/ariflaksito/nltk_data...\n",
      "[nltk_data]   Package stopwords is already up-to-date!\n"
     ]
    }
   ],
   "source": [
    "from sklearn.metrics.pairwise import cosine_similarity\n",
    "from sklearn.feature_extraction.text import TfidfVectorizer\n",
    "\n",
    "import nltk\n",
    "nltk.download('stopwords')\n",
    "\n",
    "from Sastrawi.StopWordRemover.StopWordRemoverFactory import StopWordRemoverFactory\n",
    "from nltk.corpus import stopwords\n",
    "import re\n",
    "import random"
   ]
  },
  {
   "cell_type": "code",
   "execution_count": 96,
   "metadata": {},
   "outputs": [],
   "source": [
    "# Text Processing\n",
    "# Gunakan library Sastrawi untuk stopword bahasa indonesia\n",
    "clean_spcl = re.compile('[/(){}\\[\\]\\|@,;]')\n",
    "clean_symbol = re.compile('[^0-9a-z #+_]')\n",
    "sastrawi = StopWordRemoverFactory()\n",
    "stopworda = sastrawi.get_stop_words()\n",
    "\n",
    "def clean_text(text):\n",
    "    text = text.lower()\n",
    "    text = clean_spcl.sub(' ', text)\n",
    "    text = clean_symbol.sub('', text)\n",
    "    text = ' '.join(word for word in text.split() if word not in stopworda)\n",
    "    return text"
   ]
  },
  {
   "cell_type": "code",
   "execution_count": 97,
   "metadata": {},
   "outputs": [],
   "source": [
    " hotel_review_df['desc_clean'] = hotel_review_df['hotel_description'].apply(clean_text)"
   ]
  },
  {
   "cell_type": "code",
   "execution_count": 98,
   "metadata": {},
   "outputs": [
    {
     "data": {
      "text/html": [
       "<div>\n",
       "<style scoped>\n",
       "    .dataframe tbody tr th:only-of-type {\n",
       "        vertical-align: middle;\n",
       "    }\n",
       "\n",
       "    .dataframe tbody tr th {\n",
       "        vertical-align: top;\n",
       "    }\n",
       "\n",
       "    .dataframe thead th {\n",
       "        text-align: right;\n",
       "    }\n",
       "</style>\n",
       "<table border=\"1\" class=\"dataframe\">\n",
       "  <thead>\n",
       "    <tr style=\"text-align: right;\">\n",
       "      <th></th>\n",
       "      <th>hotel_id</th>\n",
       "      <th>hotel_name</th>\n",
       "      <th>hotel_description</th>\n",
       "      <th>hotel_province</th>\n",
       "      <th>hotel_city</th>\n",
       "      <th>hotel_address</th>\n",
       "      <th>price_per_night</th>\n",
       "      <th>stay_duration</th>\n",
       "      <th>adults</th>\n",
       "      <th>children</th>\n",
       "      <th>rating</th>\n",
       "      <th>num_votes</th>\n",
       "      <th>score</th>\n",
       "      <th>desc_clean</th>\n",
       "    </tr>\n",
       "  </thead>\n",
       "  <tbody>\n",
       "    <tr>\n",
       "      <th>0</th>\n",
       "      <td>h0001</td>\n",
       "      <td>Midtown Residence Marvell City Surabaya</td>\n",
       "      <td>no info</td>\n",
       "      <td>Jawa Timur</td>\n",
       "      <td>Surabaya</td>\n",
       "      <td>Jalan Ngagel Raya No 123</td>\n",
       "      <td>527866.666667</td>\n",
       "      <td>1.4</td>\n",
       "      <td>1.6</td>\n",
       "      <td>0.4</td>\n",
       "      <td>9.20</td>\n",
       "      <td>5</td>\n",
       "      <td>8.647661</td>\n",
       "      <td>no info</td>\n",
       "    </tr>\n",
       "    <tr>\n",
       "      <th>1</th>\n",
       "      <td>h0002</td>\n",
       "      <td>favehotel Graha Agung Surabaya</td>\n",
       "      <td>Sebuah Hotel Mewah di Surabaya Persembahan dar...</td>\n",
       "      <td>Jawa Timur</td>\n",
       "      <td>Surabaya</td>\n",
       "      <td>Jl. Mayjen Yono Soewoyo Pakuwon Indah Square A...</td>\n",
       "      <td>442860.000000</td>\n",
       "      <td>1.3</td>\n",
       "      <td>1.3</td>\n",
       "      <td>0.5</td>\n",
       "      <td>8.32</td>\n",
       "      <td>10</td>\n",
       "      <td>8.345746</td>\n",
       "      <td>hotel mewah surabaya persembahan archipelago i...</td>\n",
       "    </tr>\n",
       "    <tr>\n",
       "      <th>2</th>\n",
       "      <td>h0003</td>\n",
       "      <td>The Sun Hotel Sidoarjo</td>\n",
       "      <td>Hotel Bintang 3 Pertama dan Satu-satunya di Si...</td>\n",
       "      <td>Jawa Timur</td>\n",
       "      <td>Surabaya</td>\n",
       "      <td>Jl. Pahlawan No.1,Sidokumpul, Sidoarjo, Suraba...</td>\n",
       "      <td>305000.000000</td>\n",
       "      <td>1.6</td>\n",
       "      <td>1.6</td>\n",
       "      <td>0.4</td>\n",
       "      <td>8.76</td>\n",
       "      <td>10</td>\n",
       "      <td>8.565746</td>\n",
       "      <td>hotel bintang 3 satusatunya sidoarjo</td>\n",
       "    </tr>\n",
       "    <tr>\n",
       "      <th>3</th>\n",
       "      <td>h0004</td>\n",
       "      <td>Grand Surabaya Hotel</td>\n",
       "      <td>Penginapan Yang Tenang Dan Nyaman Di Surabaya.</td>\n",
       "      <td>Jawa Timur</td>\n",
       "      <td>Surabaya</td>\n",
       "      <td>Jl. Pemuda 19-21, Surabaya, Indonesia</td>\n",
       "      <td>324999.333333</td>\n",
       "      <td>1.3</td>\n",
       "      <td>1.5</td>\n",
       "      <td>0.5</td>\n",
       "      <td>8.52</td>\n",
       "      <td>10</td>\n",
       "      <td>8.445746</td>\n",
       "      <td>penginapan tenang nyaman surabaya</td>\n",
       "    </tr>\n",
       "    <tr>\n",
       "      <th>4</th>\n",
       "      <td>h0005</td>\n",
       "      <td>The WIN Hotel Surabaya</td>\n",
       "      <td>WIN Hotel adalah hotel smart bintang 3 yang me...</td>\n",
       "      <td>Jawa Timur</td>\n",
       "      <td>Surabaya</td>\n",
       "      <td>Jl. Embong Tanjung 46 - 48 Surabaya, Jawa Timu...</td>\n",
       "      <td>310947.250000</td>\n",
       "      <td>1.4</td>\n",
       "      <td>1.6</td>\n",
       "      <td>0.3</td>\n",
       "      <td>8.04</td>\n",
       "      <td>10</td>\n",
       "      <td>8.205746</td>\n",
       "      <td>win hotel hotel smart bintang 3 menawarkan lay...</td>\n",
       "    </tr>\n",
       "  </tbody>\n",
       "</table>\n",
       "</div>"
      ],
      "text/plain": [
       "  hotel_id                               hotel_name  \\\n",
       "0    h0001  Midtown Residence Marvell City Surabaya   \n",
       "1    h0002           favehotel Graha Agung Surabaya   \n",
       "2    h0003                   The Sun Hotel Sidoarjo   \n",
       "3    h0004                     Grand Surabaya Hotel   \n",
       "4    h0005                   The WIN Hotel Surabaya   \n",
       "\n",
       "                                   hotel_description hotel_province  \\\n",
       "0                                            no info     Jawa Timur   \n",
       "1  Sebuah Hotel Mewah di Surabaya Persembahan dar...     Jawa Timur   \n",
       "2  Hotel Bintang 3 Pertama dan Satu-satunya di Si...     Jawa Timur   \n",
       "3     Penginapan Yang Tenang Dan Nyaman Di Surabaya.     Jawa Timur   \n",
       "4  WIN Hotel adalah hotel smart bintang 3 yang me...     Jawa Timur   \n",
       "\n",
       "  hotel_city                                      hotel_address  \\\n",
       "0   Surabaya                           Jalan Ngagel Raya No 123   \n",
       "1   Surabaya  Jl. Mayjen Yono Soewoyo Pakuwon Indah Square A...   \n",
       "2   Surabaya  Jl. Pahlawan No.1,Sidokumpul, Sidoarjo, Suraba...   \n",
       "3   Surabaya              Jl. Pemuda 19-21, Surabaya, Indonesia   \n",
       "4   Surabaya  Jl. Embong Tanjung 46 - 48 Surabaya, Jawa Timu...   \n",
       "\n",
       "   price_per_night  stay_duration  adults  children  rating  num_votes  \\\n",
       "0    527866.666667            1.4     1.6       0.4    9.20          5   \n",
       "1    442860.000000            1.3     1.3       0.5    8.32         10   \n",
       "2    305000.000000            1.6     1.6       0.4    8.76         10   \n",
       "3    324999.333333            1.3     1.5       0.5    8.52         10   \n",
       "4    310947.250000            1.4     1.6       0.3    8.04         10   \n",
       "\n",
       "      score                                         desc_clean  \n",
       "0  8.647661                                            no info  \n",
       "1  8.345746  hotel mewah surabaya persembahan archipelago i...  \n",
       "2  8.565746               hotel bintang 3 satusatunya sidoarjo  \n",
       "3  8.445746                  penginapan tenang nyaman surabaya  \n",
       "4  8.205746  win hotel hotel smart bintang 3 menawarkan lay...  "
      ]
     },
     "execution_count": 98,
     "metadata": {},
     "output_type": "execute_result"
    }
   ],
   "source": [
    "hotel_review_df.head()"
   ]
  },
  {
   "cell_type": "code",
   "execution_count": 99,
   "metadata": {},
   "outputs": [
    {
     "data": {
      "text/plain": [
       "array([[1.        , 0.        , 0.        , ..., 0.        , 0.        ,\n",
       "        0.        ],\n",
       "       [0.        , 1.        , 0.00522861, ..., 0.00166914, 0.02794099,\n",
       "        0.0026817 ],\n",
       "       [0.        , 0.00522861, 1.        , ..., 0.00255142, 0.02524113,\n",
       "        0.0212881 ],\n",
       "       ...,\n",
       "       [0.        , 0.00166914, 0.00255142, ..., 1.        , 0.0351547 ,\n",
       "        0.08243969],\n",
       "       [0.        , 0.02794099, 0.02524113, ..., 0.0351547 , 1.        ,\n",
       "        0.05933752],\n",
       "       [0.        , 0.0026817 , 0.0212881 , ..., 0.08243969, 0.05933752,\n",
       "        1.        ]])"
      ]
     },
     "execution_count": 99,
     "metadata": {},
     "output_type": "execute_result"
    }
   ],
   "source": [
    "# Hitung TF-IDF dan Cosine similarity\n",
    "hotel_review_df.set_index('hotel_name', inplace=True)\n",
    "tf = TfidfVectorizer(analyzer='word', ngram_range=(1, 3), min_df=0,)\n",
    "tfidf_matrix = tf.fit_transform(hotel_review_df['desc_clean'])\n",
    "cos_sim = cosine_similarity(tfidf_matrix, tfidf_matrix)\n",
    "cos_sim"
   ]
  },
  {
   "cell_type": "code",
   "execution_count": 100,
   "metadata": {},
   "outputs": [
    {
     "data": {
      "text/plain": [
       "0     Midtown Residence Marvell City Surabaya\n",
       "1              favehotel Graha Agung Surabaya\n",
       "2                      The Sun Hotel Sidoarjo\n",
       "3                        Grand Surabaya Hotel\n",
       "4                      The WIN Hotel Surabaya\n",
       "5            POP! Hotel Stasiun Kota Surabaya\n",
       "6                        Evora Hotel Surabaya\n",
       "7                MaxOneHotels at Dharmahusada\n",
       "8                     Zoom Dharmahusada Hotel\n",
       "9                 Neo+ Waru Sidoarjo by ASTON\n",
       "10                         favehotel Sidoarjo\n",
       "11              News Front One Hotel Surabaya\n",
       "12                    Gunawangsa Manyar Hotel\n",
       "13              Zest Hotel Jemursari Surabaya\n",
       "14                    The Life Hotel Surabaya\n",
       "Name: hotel_name, dtype: object"
      ]
     },
     "execution_count": 100,
     "metadata": {},
     "output_type": "execute_result"
    }
   ],
   "source": [
    "indices = pd.Series(hotel_review_df.index)\n",
    "indices[:15]"
   ]
  },
  {
   "cell_type": "code",
   "execution_count": 108,
   "metadata": {},
   "outputs": [],
   "source": [
    "# Modelling recommender system\n",
    "def recommendations(name, top = 10):\n",
    "    \n",
    "    recommended_hotel = []\n",
    "    rec_hotel = dict()\n",
    "    \n",
    "    idx = indices[indices == name].index[0]\n",
    "\n",
    "    score_series = pd.Series(cos_sim[idx]).sort_values(ascending = False)\n",
    "\n",
    "    top = top + 1\n",
    "    top_indexes = list(score_series.iloc[1:top].index)\n",
    "    \n",
    "    for i in top_indexes:\n",
    "        rec_hotel.update({list(hotel_review_df.index)[i]:score_series[i]})\n",
    "        \n",
    "    return rec_hotel"
   ]
  },
  {
   "cell_type": "code",
   "execution_count": 109,
   "metadata": {},
   "outputs": [
    {
     "data": {
      "text/plain": [
       "{'favehotel Sidoarjo': 1.0,\n",
       " 'Smart Budget Hotel': 0.31985244528874657,\n",
       " 'Radja Art and Boutique Hotel': 0.31985244528874657,\n",
       " 'Pesonna Hotel Semarang': 0.31985244528874657,\n",
       " 'Louis Kienne Hotel Pemuda': 0.31985244528874657,\n",
       " 'Louis Kienne Hotel Pandanaran': 0.31985244528874657,\n",
       " 'Continent My Tower Hotel, Surabaya - Rungkut': 0.2922566788734993,\n",
       " 'Grand Surabaya Hotel': 0.2922566788734993,\n",
       " 'The Himana Malang (Malang City Point)': 0.2862348279969526,\n",
       " 'Gets Hotel Malang': 0.2862348279969526,\n",
       " 'Hotel 88 Kedungsari ( Kedungdoro )': 0.26179217427787227,\n",
       " 'Gets Hotel Semarang': 0.22651003433634342,\n",
       " 'Sumi Hotel Surabaya': 0.2126987865120978,\n",
       " 'Guest House Taman Sari': 0.20704466694857057,\n",
       " 'Luminor Hotel Airport Sidoarjo': 0.19714048789858746,\n",
       " 'The Sun Hotel Sidoarjo': 0.168451139864053,\n",
       " 'Aruuman Hotel Simpanglima Semarang': 0.14017247153827747,\n",
       " 'Hotel Rivoli Senen Jakarta': 0.12201251568806594,\n",
       " 'Bobobox Pods Pancoran': 0.11326307801758351,\n",
       " 'B Shaw Hotel & Restaurant': 0.11308567161667439}"
      ]
     },
     "execution_count": 109,
     "metadata": {},
     "output_type": "execute_result"
    }
   ],
   "source": [
    "recommendations('favehotel Sidoarjo', 20)"
   ]
  },
  {
   "cell_type": "markdown",
   "metadata": {},
   "source": [
    "## 5. Evaluasi\n",
    "Evaluasi kedepan model ini bisa dengan dibangun sistem untuk merecord kegiatan user setelah mendapatkan rekomendasi tersebut. Data hotel manakah yang dipilih user untuk di lihat selanjutnya dan berapa kali data tersebut dilihat. Selanjutnya bisa kita simpan data tersebut untuk dilakukan modeling prediksi dan dievaluasi menggunakan confusion matrix"
   ]
  },
  {
   "cell_type": "markdown",
   "metadata": {},
   "source": [
    "## 6. Peningkatan sistem rekomendasi\n",
    "Untuk meningkatkan model dari rekomendasi ini bisa digunakan model penghitungan jarak kemiripan yang lain \n",
    "seperti pearson correlation atau euclidean distance. Selain itu untuk mendapatkan serendipity, novelty dari data\n",
    "rekomendasi sebaiknya juga menerapkan model collaborative filtering"
   ]
  }
 ],
 "metadata": {
  "kernelspec": {
   "display_name": "Python 3",
   "language": "python",
   "name": "python3"
  },
  "language_info": {
   "codemirror_mode": {
    "name": "ipython",
    "version": 3
   },
   "file_extension": ".py",
   "mimetype": "text/x-python",
   "name": "python",
   "nbconvert_exporter": "python",
   "pygments_lexer": "ipython3",
   "version": "3.7.6"
  }
 },
 "nbformat": 4,
 "nbformat_minor": 4
}
