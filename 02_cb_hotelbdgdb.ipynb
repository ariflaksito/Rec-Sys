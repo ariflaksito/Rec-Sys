{
  "nbformat": 4,
  "nbformat_minor": 0,
  "metadata": {
    "colab": {
      "name": "02_cb_hotelbdgdb.ipynb",
      "provenance": [],
      "collapsed_sections": [],
      "mount_file_id": "1mDkeoPKhMyOBMEpF8uhNxugYWK58MhCw",
      "authorship_tag": "ABX9TyMNg284tv0pALvZkUdOtRgf",
      "include_colab_link": true
    },
    "kernelspec": {
      "name": "python3",
      "display_name": "Python 3"
    }
  },
  "cells": [
    {
      "cell_type": "markdown",
      "metadata": {
        "id": "view-in-github",
        "colab_type": "text"
      },
      "source": [
        "<a href=\"https://colab.research.google.com/github/ariflaksito/recsys/blob/master/02_cb_hotelbdgdb.ipynb\" target=\"_parent\"><img src=\"https://colab.research.google.com/assets/colab-badge.svg\" alt=\"Open In Colab\"/></a>"
      ]
    },
    {
      "cell_type": "markdown",
      "metadata": {
        "id": "vKOcAkVewA3w",
        "colab_type": "text"
      },
      "source": [
        "# Content-based Filtering\n",
        "Hotel Bandung DB<br />\n",
        "Data dan code diambil dari https://medium.com/@nprasetio"
      ]
    },
    {
      "cell_type": "markdown",
      "metadata": {
        "id": "kB5V7lwewxGd",
        "colab_type": "text"
      },
      "source": [
        "# Import library"
      ]
    },
    {
      "cell_type": "code",
      "metadata": {
        "id": "vi5SxZFHv7Wo",
        "colab_type": "code",
        "colab": {}
      },
      "source": [
        "import pandas as pd\n",
        "import numpy as np\n",
        "from sklearn.metrics.pairwise import cosine_similarity\n",
        "from sklearn.feature_extraction.text import TfidfVectorizer\n",
        "\n",
        "import nltk\n",
        "nltk.download('stopwords')\n",
        "\n",
        "from nltk.corpus import stopwords\n",
        "import re\n",
        "import random"
      ],
      "execution_count": 0,
      "outputs": []
    },
    {
      "cell_type": "markdown",
      "metadata": {
        "id": "JVBUbApuw1ZD",
        "colab_type": "text"
      },
      "source": [
        "# Import data"
      ]
    },
    {
      "cell_type": "code",
      "metadata": {
        "id": "UzCpScqQw4dm",
        "colab_type": "code",
        "colab": {
          "base_uri": "https://localhost:8080/",
          "height": 204
        },
        "outputId": "7f288fc4-9d21-4f53-85d9-362feba0bc1a"
      },
      "source": [
        "hotels = pd.read_csv(\"/content/drive/My Drive/Colab Data/hotel_bandung_english.csv\")\n",
        "hotels.head()"
      ],
      "execution_count": 24,
      "outputs": [
        {
          "output_type": "execute_result",
          "data": {
            "text/html": [
              "<div>\n",
              "<style scoped>\n",
              "    .dataframe tbody tr th:only-of-type {\n",
              "        vertical-align: middle;\n",
              "    }\n",
              "\n",
              "    .dataframe tbody tr th {\n",
              "        vertical-align: top;\n",
              "    }\n",
              "\n",
              "    .dataframe thead th {\n",
              "        text-align: right;\n",
              "    }\n",
              "</style>\n",
              "<table border=\"1\" class=\"dataframe\">\n",
              "  <thead>\n",
              "    <tr style=\"text-align: right;\">\n",
              "      <th></th>\n",
              "      <th>name</th>\n",
              "      <th>address</th>\n",
              "      <th>description</th>\n",
              "    </tr>\n",
              "  </thead>\n",
              "  <tbody>\n",
              "    <tr>\n",
              "      <th>0</th>\n",
              "      <td>Capital O 253 Topas Galeria Hotel</td>\n",
              "      <td>Jl. Dr. Djundjunan No. 153, 40173 Bandung, Ind...</td>\n",
              "      <td>A 10-minute drive from Bandung Airport, Topas ...</td>\n",
              "    </tr>\n",
              "    <tr>\n",
              "      <th>1</th>\n",
              "      <td>Sheraton Bandung Hotel &amp; Towers</td>\n",
              "      <td>Jl. Ir H Juanda 390, 40135 Bandung, Indonesia</td>\n",
              "      <td>Sheraton Hotel &amp; Towers offers 5-star accommod...</td>\n",
              "    </tr>\n",
              "    <tr>\n",
              "      <th>2</th>\n",
              "      <td>OYO 794 Ln 9 Bandung Residence</td>\n",
              "      <td>Jalan Lemahnendeut No 9, Sukajadi, 40164 Bandu...</td>\n",
              "      <td>Conveniently located in Sukajadi, Bandung, OYO...</td>\n",
              "    </tr>\n",
              "    <tr>\n",
              "      <th>3</th>\n",
              "      <td>OYO 226 LJ hotel</td>\n",
              "      <td>Jl. Malabar No.2, Malabar, Lengkong, Dago, Asi...</td>\n",
              "      <td>Featuring a shared lounge, OYO 226 LJ hotel is...</td>\n",
              "    </tr>\n",
              "    <tr>\n",
              "      <th>4</th>\n",
              "      <td>OYO 230 Maleo Residence</td>\n",
              "      <td>JI. Dangeur Indah II No. 15, Sukagalih, Sukaja...</td>\n",
              "      <td>Attractively set in the Sukajadi district of B...</td>\n",
              "    </tr>\n",
              "  </tbody>\n",
              "</table>\n",
              "</div>"
            ],
            "text/plain": [
              "                                name  ...                                        description\n",
              "0  Capital O 253 Topas Galeria Hotel  ...  A 10-minute drive from Bandung Airport, Topas ...\n",
              "1    Sheraton Bandung Hotel & Towers  ...  Sheraton Hotel & Towers offers 5-star accommod...\n",
              "2     OYO 794 Ln 9 Bandung Residence  ...  Conveniently located in Sukajadi, Bandung, OYO...\n",
              "3                   OYO 226 LJ hotel  ...  Featuring a shared lounge, OYO 226 LJ hotel is...\n",
              "4            OYO 230 Maleo Residence  ...  Attractively set in the Sukajadi district of B...\n",
              "\n",
              "[5 rows x 3 columns]"
            ]
          },
          "metadata": {
            "tags": []
          },
          "execution_count": 24
        }
      ]
    },
    {
      "cell_type": "code",
      "metadata": {
        "id": "NVUgd05hxZVm",
        "colab_type": "code",
        "colab": {
          "base_uri": "https://localhost:8080/",
          "height": 173
        },
        "outputId": "3857fede-a388-4faa-ed60-7f5cc0f1fd07"
      },
      "source": [
        "hotels.describe()"
      ],
      "execution_count": 25,
      "outputs": [
        {
          "output_type": "execute_result",
          "data": {
            "text/html": [
              "<div>\n",
              "<style scoped>\n",
              "    .dataframe tbody tr th:only-of-type {\n",
              "        vertical-align: middle;\n",
              "    }\n",
              "\n",
              "    .dataframe tbody tr th {\n",
              "        vertical-align: top;\n",
              "    }\n",
              "\n",
              "    .dataframe thead th {\n",
              "        text-align: right;\n",
              "    }\n",
              "</style>\n",
              "<table border=\"1\" class=\"dataframe\">\n",
              "  <thead>\n",
              "    <tr style=\"text-align: right;\">\n",
              "      <th></th>\n",
              "      <th>name</th>\n",
              "      <th>address</th>\n",
              "      <th>description</th>\n",
              "    </tr>\n",
              "  </thead>\n",
              "  <tbody>\n",
              "    <tr>\n",
              "      <th>count</th>\n",
              "      <td>105</td>\n",
              "      <td>105</td>\n",
              "      <td>105</td>\n",
              "    </tr>\n",
              "    <tr>\n",
              "      <th>unique</th>\n",
              "      <td>101</td>\n",
              "      <td>98</td>\n",
              "      <td>103</td>\n",
              "    </tr>\n",
              "    <tr>\n",
              "      <th>top</th>\n",
              "      <td>OYO 794 Ln 9 Bandung Residence</td>\n",
              "      <td>Jalan Lemahnendeut No 9, Sukajadi, 40164 Bandu...</td>\n",
              "      <td>Conveniently located in Sukajadi, Bandung, OYO...</td>\n",
              "    </tr>\n",
              "    <tr>\n",
              "      <th>freq</th>\n",
              "      <td>3</td>\n",
              "      <td>3</td>\n",
              "      <td>2</td>\n",
              "    </tr>\n",
              "  </tbody>\n",
              "</table>\n",
              "</div>"
            ],
            "text/plain": [
              "                                  name  ...                                        description\n",
              "count                              105  ...                                                105\n",
              "unique                             101  ...                                                103\n",
              "top     OYO 794 Ln 9 Bandung Residence  ...  Conveniently located in Sukajadi, Bandung, OYO...\n",
              "freq                                 3  ...                                                  2\n",
              "\n",
              "[4 rows x 3 columns]"
            ]
          },
          "metadata": {
            "tags": []
          },
          "execution_count": 25
        }
      ]
    },
    {
      "cell_type": "code",
      "metadata": {
        "id": "wcl6p-pDyg-g",
        "colab_type": "code",
        "colab": {
          "base_uri": "https://localhost:8080/",
          "height": 187
        },
        "outputId": "72530312-cd18-46cf-c063-261f55b19695"
      },
      "source": [
        "hotels.info()"
      ],
      "execution_count": 26,
      "outputs": [
        {
          "output_type": "stream",
          "text": [
            "<class 'pandas.core.frame.DataFrame'>\n",
            "RangeIndex: 105 entries, 0 to 104\n",
            "Data columns (total 3 columns):\n",
            " #   Column       Non-Null Count  Dtype \n",
            "---  ------       --------------  ----- \n",
            " 0   name         105 non-null    object\n",
            " 1   address      105 non-null    object\n",
            " 2   description  105 non-null    object\n",
            "dtypes: object(3)\n",
            "memory usage: 2.6+ KB\n"
          ],
          "name": "stdout"
        }
      ]
    },
    {
      "cell_type": "markdown",
      "metadata": {
        "id": "SO2lw17xyq3o",
        "colab_type": "text"
      },
      "source": [
        "# Fungsi deskripsi item hotel"
      ]
    },
    {
      "cell_type": "code",
      "metadata": {
        "id": "NoHtFRLnyuCb",
        "colab_type": "code",
        "colab": {}
      },
      "source": [
        "def print_description(index):\n",
        "    example = hotels[hotels.index == index][['description', 'name', 'address']].values[0]\n",
        "    if len(example) > 0:\n",
        "        print(example[0])\n",
        "        print('Nama:', example[1])\n",
        "        print('Alamat:', example[2])  "
      ],
      "execution_count": 0,
      "outputs": []
    },
    {
      "cell_type": "code",
      "metadata": {
        "id": "8CRn5G9Uy0IH",
        "colab_type": "code",
        "colab": {
          "base_uri": "https://localhost:8080/",
          "height": 88
        },
        "outputId": "02e0ac06-488e-4c8f-85f2-ccacc7d7017f"
      },
      "source": [
        "print_description(5)"
      ],
      "execution_count": 28,
      "outputs": [
        {
          "output_type": "stream",
          "text": [
            "Offering free Wi-Fi access throughout the hotel, Dago's Hill Hotel, Business and Leisure is a 10-minute drive from Dago area which offers a variety of factory outlets. The hotel has an outdoor pool and modern rooms with private bathrooms. Paris Van Java Shopping Mall is a 20-minute drive from Dago's Hill Hotel.Husein Sastranegara Airport and Bandung Central Station can be reached in a 30-minute drive. It takes 45 minutes to drive to Trans Studio Indoor Amusement Park from this property. All well-equipped rooms offer tiled floors and air conditioning. Each room has a desk, telephone and flat-screen cable TV. Safes in certain rooms are available. The private bathroom provides shower facilities. A variety of facilities include laundry services and meeting / banquet facilities. Staff at the 24-hour front desk can also arrange car rentals and airport transfers. Indonesian and international dishes are served at the hotel’s restaurant. You can also enjoy meals in the comfort of your room.\n",
            "Nama: OYO 167 Dago's Hill Hotel\n",
            "Alamat: Jalan Tubagus Ismail VIII No. 39 A, Sekeloa, Coblong, Dago, Asia Afrika, Braga, 40134 Bandung, Indonesia\n"
          ],
          "name": "stdout"
        }
      ]
    },
    {
      "cell_type": "markdown",
      "metadata": {
        "id": "MN4x9o7VzP0l",
        "colab_type": "text"
      },
      "source": [
        "# Text processing"
      ]
    },
    {
      "cell_type": "code",
      "metadata": {
        "id": "zZ87GTRIzXmz",
        "colab_type": "code",
        "colab": {}
      },
      "source": [
        "clean_spcl = re.compile('[/(){}\\[\\]\\|@,;]')\n",
        "clean_symbol = re.compile('[^0-9a-z #+_]')\n",
        "stopworda = set(stopwords.words('english'))\n",
        "\n",
        "def clean_text(text):\n",
        "    text = text.lower()\n",
        "    text = clean_spcl.sub(' ', text)\n",
        "    text = clean_symbol.sub('', text)\n",
        "    text = ' '.join(word for word in text.split() if word not in stopworda)\n",
        "    return text"
      ],
      "execution_count": 0,
      "outputs": []
    },
    {
      "cell_type": "markdown",
      "metadata": {
        "id": "exI39aqszjnI",
        "colab_type": "text"
      },
      "source": [
        "# Tambah field baru\n",
        "Atribut hotel ditambahkan description dengan data yang telah dibersihakan dari fungsi clean_text() diatas"
      ]
    },
    {
      "cell_type": "code",
      "metadata": {
        "id": "9OrS6W1QzywH",
        "colab_type": "code",
        "colab": {
          "base_uri": "https://localhost:8080/",
          "height": 272
        },
        "outputId": "834aadd9-68e9-4d42-92a8-449af0e859df"
      },
      "source": [
        "  hotels['desc_clean'] = hotels['description'].apply(clean_text)\n",
        "  hotels.head()"
      ],
      "execution_count": 30,
      "outputs": [
        {
          "output_type": "execute_result",
          "data": {
            "text/html": [
              "<div>\n",
              "<style scoped>\n",
              "    .dataframe tbody tr th:only-of-type {\n",
              "        vertical-align: middle;\n",
              "    }\n",
              "\n",
              "    .dataframe tbody tr th {\n",
              "        vertical-align: top;\n",
              "    }\n",
              "\n",
              "    .dataframe thead th {\n",
              "        text-align: right;\n",
              "    }\n",
              "</style>\n",
              "<table border=\"1\" class=\"dataframe\">\n",
              "  <thead>\n",
              "    <tr style=\"text-align: right;\">\n",
              "      <th></th>\n",
              "      <th>name</th>\n",
              "      <th>address</th>\n",
              "      <th>description</th>\n",
              "      <th>desc_clean</th>\n",
              "    </tr>\n",
              "  </thead>\n",
              "  <tbody>\n",
              "    <tr>\n",
              "      <th>0</th>\n",
              "      <td>Capital O 253 Topas Galeria Hotel</td>\n",
              "      <td>Jl. Dr. Djundjunan No. 153, 40173 Bandung, Ind...</td>\n",
              "      <td>A 10-minute drive from Bandung Airport, Topas ...</td>\n",
              "      <td>10minute drive bandung airport topas galeria h...</td>\n",
              "    </tr>\n",
              "    <tr>\n",
              "      <th>1</th>\n",
              "      <td>Sheraton Bandung Hotel &amp; Towers</td>\n",
              "      <td>Jl. Ir H Juanda 390, 40135 Bandung, Indonesia</td>\n",
              "      <td>Sheraton Hotel &amp; Towers offers 5-star accommod...</td>\n",
              "      <td>sheraton hotel towers offers 5star accommodati...</td>\n",
              "    </tr>\n",
              "    <tr>\n",
              "      <th>2</th>\n",
              "      <td>OYO 794 Ln 9 Bandung Residence</td>\n",
              "      <td>Jalan Lemahnendeut No 9, Sukajadi, 40164 Bandu...</td>\n",
              "      <td>Conveniently located in Sukajadi, Bandung, OYO...</td>\n",
              "      <td>conveniently located sukajadi bandung oyo 794 ...</td>\n",
              "    </tr>\n",
              "    <tr>\n",
              "      <th>3</th>\n",
              "      <td>OYO 226 LJ hotel</td>\n",
              "      <td>Jl. Malabar No.2, Malabar, Lengkong, Dago, Asi...</td>\n",
              "      <td>Featuring a shared lounge, OYO 226 LJ hotel is...</td>\n",
              "      <td>featuring shared lounge oyo 226 lj hotel locat...</td>\n",
              "    </tr>\n",
              "    <tr>\n",
              "      <th>4</th>\n",
              "      <td>OYO 230 Maleo Residence</td>\n",
              "      <td>JI. Dangeur Indah II No. 15, Sukagalih, Sukaja...</td>\n",
              "      <td>Attractively set in the Sukajadi district of B...</td>\n",
              "      <td>attractively set sukajadi district bandung oyo...</td>\n",
              "    </tr>\n",
              "  </tbody>\n",
              "</table>\n",
              "</div>"
            ],
            "text/plain": [
              "                                name  ...                                         desc_clean\n",
              "0  Capital O 253 Topas Galeria Hotel  ...  10minute drive bandung airport topas galeria h...\n",
              "1    Sheraton Bandung Hotel & Towers  ...  sheraton hotel towers offers 5star accommodati...\n",
              "2     OYO 794 Ln 9 Bandung Residence  ...  conveniently located sukajadi bandung oyo 794 ...\n",
              "3                   OYO 226 LJ hotel  ...  featuring shared lounge oyo 226 lj hotel locat...\n",
              "4            OYO 230 Maleo Residence  ...  attractively set sukajadi district bandung oyo...\n",
              "\n",
              "[5 rows x 4 columns]"
            ]
          },
          "metadata": {
            "tags": []
          },
          "execution_count": 30
        }
      ]
    },
    {
      "cell_type": "markdown",
      "metadata": {
        "id": "JHuBkGYa1q3z",
        "colab_type": "text"
      },
      "source": [
        "# TF-IDF dan Cosine Similarity"
      ]
    },
    {
      "cell_type": "code",
      "metadata": {
        "id": "ANuHKqEB2hj0",
        "colab_type": "code",
        "colab": {
          "base_uri": "https://localhost:8080/",
          "height": 34
        },
        "outputId": "083ecbd3-448a-4d27-c967-88f9669fe6c8"
      },
      "source": [
        "print(hotels.columns)"
      ],
      "execution_count": 31,
      "outputs": [
        {
          "output_type": "stream",
          "text": [
            "Index(['name', 'address', 'description', 'desc_clean'], dtype='object')\n"
          ],
          "name": "stdout"
        }
      ]
    },
    {
      "cell_type": "code",
      "metadata": {
        "id": "FnPQbCL91sLw",
        "colab_type": "code",
        "colab": {
          "base_uri": "https://localhost:8080/",
          "height": 238
        },
        "outputId": "cd0422f2-7e41-4a67-da0b-d763897f6d09"
      },
      "source": [
        "hotels.set_index('name', inplace=True)\n",
        "tf = TfidfVectorizer(analyzer='word', ngram_range=(1, 3), min_df=0, stop_words='english')\n",
        "tfidf_matrix = tf.fit_transform(hotels['desc_clean'])\n",
        "cos_sim = cosine_similarity(tfidf_matrix, tfidf_matrix)\n",
        "cos_sim"
      ],
      "execution_count": 32,
      "outputs": [
        {
          "output_type": "execute_result",
          "data": {
            "text/plain": [
              "array([[1.        , 0.02618853, 0.01554192, ..., 0.01022334, 0.03967072,\n",
              "        0.0349132 ],\n",
              "       [0.02618853, 1.        , 0.0200914 , ..., 0.01765244, 0.03436038,\n",
              "        0.0256194 ],\n",
              "       [0.01554192, 0.0200914 , 1.        , ..., 0.15477556, 0.01379571,\n",
              "        0.02738874],\n",
              "       ...,\n",
              "       [0.01022334, 0.01765244, 0.15477556, ..., 1.        , 0.01018232,\n",
              "        0.02326799],\n",
              "       [0.03967072, 0.03436038, 0.01379571, ..., 0.01018232, 1.        ,\n",
              "        0.03714926],\n",
              "       [0.0349132 , 0.0256194 , 0.02738874, ..., 0.02326799, 0.03714926,\n",
              "        1.        ]])"
            ]
          },
          "metadata": {
            "tags": []
          },
          "execution_count": 32
        }
      ]
    },
    {
      "cell_type": "code",
      "metadata": {
        "id": "Su2d60N625wg",
        "colab_type": "code",
        "colab": {
          "base_uri": "https://localhost:8080/",
          "height": 289
        },
        "outputId": "172d857a-dc93-4b1e-e764-cb3f0d2507e4"
      },
      "source": [
        "indices = pd.Series(hotels.index)\n",
        "indices[:15]"
      ],
      "execution_count": 33,
      "outputs": [
        {
          "output_type": "execute_result",
          "data": {
            "text/plain": [
              "0                Capital O 253 Topas Galeria Hotel\n",
              "1                  Sheraton Bandung Hotel & Towers\n",
              "2                   OYO 794 Ln 9 Bandung Residence\n",
              "3                                 OYO 226 LJ hotel\n",
              "4                          OYO 230 Maleo Residence\n",
              "5                        OYO 167 Dago's Hill Hotel\n",
              "6                   OYO 794 Ln 9 Bandung Residence\n",
              "7                       OYO 196 Horizone Residence\n",
              "8     OYO 483 Flagship Tamansari Panoramic Bandung\n",
              "9               OYO 295 Grha Ciumbuleuit Residence\n",
              "10                            OYO 193 SM Residence\n",
              "11              Capital O 874 Hotel Nyland Pasteur\n",
              "12                            OYO 352 Sabang Hotel\n",
              "13                                  Hilton Bandung\n",
              "14             InterContinental Bandung Dago Pakar\n",
              "Name: name, dtype: object"
            ]
          },
          "metadata": {
            "tags": []
          },
          "execution_count": 33
        }
      ]
    },
    {
      "cell_type": "markdown",
      "metadata": {
        "id": "Kof3RnOp3Fik",
        "colab_type": "text"
      },
      "source": [
        "# Modelling"
      ]
    },
    {
      "cell_type": "code",
      "metadata": {
        "id": "WEAt-zBs3GxM",
        "colab_type": "code",
        "colab": {}
      },
      "source": [
        "def recommendations(name, cos_sim = cos_sim):\n",
        "    \n",
        "    recommended_hotel = []\n",
        "    \n",
        "    # Mengambil nama hotel berdasarkan variabel indicies\n",
        "    idx = indices[indices == name].index[0]\n",
        "\n",
        "    # Membuat series berdasarkan skor kesamaan\n",
        "    score_series = pd.Series(cos_sim[idx]).sort_values(ascending = False)\n",
        "\n",
        "    # mengambil index dan dibuat 10 baris rekomendasi terbaik\n",
        "    top_10_indexes = list(score_series.iloc[1:11].index)\n",
        "    \n",
        "    for i in top_10_indexes:\n",
        "        recommended_hotel.append(list(hotels.index)[i])\n",
        "        \n",
        "    return recommended_hotel"
      ],
      "execution_count": 0,
      "outputs": []
    },
    {
      "cell_type": "markdown",
      "metadata": {
        "id": "L7YZCN1V3QWj",
        "colab_type": "text"
      },
      "source": [
        "# Cek rekomendasi"
      ]
    },
    {
      "cell_type": "code",
      "metadata": {
        "id": "vxR9gqfn3PZH",
        "colab_type": "code",
        "colab": {
          "base_uri": "https://localhost:8080/",
          "height": 187
        },
        "outputId": "3fdb759a-33cd-46c9-b29e-30c582bedb81"
      },
      "source": [
        "recommendations('Serela Cihampelas Hotel')"
      ],
      "execution_count": 38,
      "outputs": [
        {
          "output_type": "execute_result",
          "data": {
            "text/plain": [
              "['Grand Sovia Hotel',\n",
              " 'Vio Cihampelas',\n",
              " 'Neo Dipatiukur Bandung',\n",
              " 'Grand Tjokro Bandung',\n",
              " 'HARRIS Hotel & Conventions Ciumbuleuit - Bandung',\n",
              " 'InterContinental Bandung Dago Pakar',\n",
              " 'Ibis Bandung Pasteur',\n",
              " 'Aryaduta Bandung',\n",
              " 'Tebu Hotel Bandung',\n",
              " 'Benua Hotel']"
            ]
          },
          "metadata": {
            "tags": []
          },
          "execution_count": 38
        }
      ]
    }
  ]
}