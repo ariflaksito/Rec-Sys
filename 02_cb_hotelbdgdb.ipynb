{
  "nbformat": 4,
  "nbformat_minor": 0,
  "metadata": {
    "colab": {
      "name": "02_cb_hotelbdgdb.ipynb",
      "provenance": [],
      "mount_file_id": "1mDkeoPKhMyOBMEpF8uhNxugYWK58MhCw",
      "authorship_tag": "ABX9TyMSDH5XgH+QHZmVlzDqzIsq",
      "include_colab_link": true
    },
    "kernelspec": {
      "name": "python3",
      "display_name": "Python 3"
    }
  },
  "cells": [
    {
      "cell_type": "markdown",
      "metadata": {
        "id": "view-in-github",
        "colab_type": "text"
      },
      "source": [
        "<a href=\"https://colab.research.google.com/github/ariflaksito/recsys/blob/master/02_cb_hotelbdgdb.ipynb\" target=\"_parent\"><img src=\"https://colab.research.google.com/assets/colab-badge.svg\" alt=\"Open In Colab\"/></a>"
      ]
    },
    {
      "cell_type": "markdown",
      "metadata": {
        "id": "vKOcAkVewA3w",
        "colab_type": "text"
      },
      "source": [
        "# Content-based Filtering\n",
        "Hotel Bandung DB<br />\n",
        "Data dan code diambil dari https://medium.com/@nprasetio\n"
      ]
    },
    {
      "cell_type": "markdown",
      "metadata": {
        "id": "kB5V7lwewxGd",
        "colab_type": "text"
      },
      "source": [
        "# Import library"
      ]
    },
    {
      "cell_type": "code",
      "metadata": {
        "id": "vi5SxZFHv7Wo",
        "colab_type": "code",
        "colab": {}
      },
      "source": [
        "import pandas as pd\n",
        "import numpy as np\n",
        "from sklearn.metrics.pairwise import cosine_similarity\n",
        "from sklearn.feature_extraction.text import TfidfVectorizer\n",
        "from nltk.corpus import stopwords\n",
        "import re\n",
        "import random"
      ],
      "execution_count": 0,
      "outputs": []
    },
    {
      "cell_type": "markdown",
      "metadata": {
        "id": "JVBUbApuw1ZD",
        "colab_type": "text"
      },
      "source": [
        "# Import data"
      ]
    },
    {
      "cell_type": "code",
      "metadata": {
        "id": "UzCpScqQw4dm",
        "colab_type": "code",
        "colab": {}
      },
      "source": [
        "hotels = pd.read_csv(\"/content/drive/My Drive/Colab Data/hotel_bandung_english.csv\")\n",
        "hotels.head()"
      ],
      "execution_count": 0,
      "outputs": []
    },
    {
      "cell_type": "code",
      "metadata": {
        "id": "NVUgd05hxZVm",
        "colab_type": "code",
        "colab": {}
      },
      "source": [
        "hotels.describe()\n",
        "hotels.info()"
      ],
      "execution_count": 0,
      "outputs": []
    }
  ]
}