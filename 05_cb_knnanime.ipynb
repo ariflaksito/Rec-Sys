{
  "nbformat": 4,
  "nbformat_minor": 0,
  "metadata": {
    "kernelspec": {
      "display_name": "Python 3",
      "language": "python",
      "name": "python3"
    },
    "language_info": {
      "codemirror_mode": {
        "name": "ipython",
        "version": 3
      },
      "file_extension": ".py",
      "mimetype": "text/x-python",
      "name": "python",
      "nbconvert_exporter": "python",
      "pygments_lexer": "ipython3",
      "version": "3.7.6"
    },
    "colab": {
      "name": "05_cb_knnanime.ipynb",
      "provenance": [],
      "toc_visible": true,
      "include_colab_link": true
    }
  },
  "cells": [
    {
      "cell_type": "markdown",
      "metadata": {
        "id": "view-in-github",
        "colab_type": "text"
      },
      "source": [
        "<a href=\"https://colab.research.google.com/github/ariflaksito/recsys/blob/master/05_cb_knnanime.ipynb\" target=\"_parent\"><img src=\"https://colab.research.google.com/assets/colab-badge.svg\" alt=\"Open In Colab\"/></a>"
      ]
    },
    {
      "cell_type": "markdown",
      "metadata": {
        "id": "vsu2ef9EJqA1",
        "colab_type": "text"
      },
      "source": [
        "# Content-based RS\n",
        "CB RS using KNN for data Anime movies<br />\n",
        "Code: https://github.com/sathvikb007/Anime_Recommendation/blob/master/AnimeRecommender.ipynb"
      ]
    },
    {
      "cell_type": "code",
      "metadata": {
        "id": "L_pkDhl5Juj7",
        "colab_type": "code",
        "colab": {
          "base_uri": "https://localhost:8080/",
          "height": 54
        },
        "outputId": "a5ff4edc-8231-4e23-ca5b-b78802a7e456"
      },
      "source": [
        "from google.colab import drive\n",
        "drive.mount('/content/drive')"
      ],
      "execution_count": 2,
      "outputs": [
        {
          "output_type": "stream",
          "text": [
            "Drive already mounted at /content/drive; to attempt to forcibly remount, call drive.mount(\"/content/drive\", force_remount=True).\n"
          ],
          "name": "stdout"
        }
      ]
    },
    {
      "cell_type": "code",
      "metadata": {
        "id": "96zAa4GVJqA3",
        "colab_type": "code",
        "colab": {
          "base_uri": "https://localhost:8080/",
          "height": 71
        },
        "outputId": "396c8bb0-249e-4e3f-9b66-16e21958b8dc"
      },
      "source": [
        "import numpy as np\n",
        "import pandas as pd\n",
        "import seaborn as sns\n",
        "import matplotlib.pyplot as plt"
      ],
      "execution_count": 3,
      "outputs": [
        {
          "output_type": "stream",
          "text": [
            "/usr/local/lib/python3.6/dist-packages/statsmodels/tools/_testing.py:19: FutureWarning: pandas.util.testing is deprecated. Use the functions in the public API at pandas.testing instead.\n",
            "  import pandas.util.testing as tm\n"
          ],
          "name": "stderr"
        }
      ]
    },
    {
      "cell_type": "code",
      "metadata": {
        "id": "oGcm3dLdJqBB",
        "colab_type": "code",
        "colab": {}
      },
      "source": [
        "anime = pd.read_csv('/content/drive/My Drive/Colab Data/anime.csv')"
      ],
      "execution_count": 0,
      "outputs": []
    },
    {
      "cell_type": "code",
      "metadata": {
        "id": "ANFEeLZCJqBH",
        "colab_type": "code",
        "colab": {
          "base_uri": "https://localhost:8080/",
          "height": 204
        },
        "outputId": "bf97001b-3ce7-4235-a6e6-d7dd848c3d02"
      },
      "source": [
        "anime.head()"
      ],
      "execution_count": 5,
      "outputs": [
        {
          "output_type": "execute_result",
          "data": {
            "text/html": [
              "<div>\n",
              "<style scoped>\n",
              "    .dataframe tbody tr th:only-of-type {\n",
              "        vertical-align: middle;\n",
              "    }\n",
              "\n",
              "    .dataframe tbody tr th {\n",
              "        vertical-align: top;\n",
              "    }\n",
              "\n",
              "    .dataframe thead th {\n",
              "        text-align: right;\n",
              "    }\n",
              "</style>\n",
              "<table border=\"1\" class=\"dataframe\">\n",
              "  <thead>\n",
              "    <tr style=\"text-align: right;\">\n",
              "      <th></th>\n",
              "      <th>anime_id</th>\n",
              "      <th>name</th>\n",
              "      <th>genre</th>\n",
              "      <th>type</th>\n",
              "      <th>episodes</th>\n",
              "      <th>rating</th>\n",
              "      <th>members</th>\n",
              "    </tr>\n",
              "  </thead>\n",
              "  <tbody>\n",
              "    <tr>\n",
              "      <th>0</th>\n",
              "      <td>32281</td>\n",
              "      <td>Kimi no Na wa.</td>\n",
              "      <td>Drama, Romance, School, Supernatural</td>\n",
              "      <td>Movie</td>\n",
              "      <td>1</td>\n",
              "      <td>9.37</td>\n",
              "      <td>200630</td>\n",
              "    </tr>\n",
              "    <tr>\n",
              "      <th>1</th>\n",
              "      <td>5114</td>\n",
              "      <td>Fullmetal Alchemist: Brotherhood</td>\n",
              "      <td>Action, Adventure, Drama, Fantasy, Magic, Mili...</td>\n",
              "      <td>TV</td>\n",
              "      <td>64</td>\n",
              "      <td>9.26</td>\n",
              "      <td>793665</td>\n",
              "    </tr>\n",
              "    <tr>\n",
              "      <th>2</th>\n",
              "      <td>28977</td>\n",
              "      <td>Gintama°</td>\n",
              "      <td>Action, Comedy, Historical, Parody, Samurai, S...</td>\n",
              "      <td>TV</td>\n",
              "      <td>51</td>\n",
              "      <td>9.25</td>\n",
              "      <td>114262</td>\n",
              "    </tr>\n",
              "    <tr>\n",
              "      <th>3</th>\n",
              "      <td>9253</td>\n",
              "      <td>Steins;Gate</td>\n",
              "      <td>Sci-Fi, Thriller</td>\n",
              "      <td>TV</td>\n",
              "      <td>24</td>\n",
              "      <td>9.17</td>\n",
              "      <td>673572</td>\n",
              "    </tr>\n",
              "    <tr>\n",
              "      <th>4</th>\n",
              "      <td>9969</td>\n",
              "      <td>Gintama&amp;#039;</td>\n",
              "      <td>Action, Comedy, Historical, Parody, Samurai, S...</td>\n",
              "      <td>TV</td>\n",
              "      <td>51</td>\n",
              "      <td>9.16</td>\n",
              "      <td>151266</td>\n",
              "    </tr>\n",
              "  </tbody>\n",
              "</table>\n",
              "</div>"
            ],
            "text/plain": [
              "   anime_id                              name  ... rating members\n",
              "0     32281                    Kimi no Na wa.  ...   9.37  200630\n",
              "1      5114  Fullmetal Alchemist: Brotherhood  ...   9.26  793665\n",
              "2     28977                          Gintama°  ...   9.25  114262\n",
              "3      9253                       Steins;Gate  ...   9.17  673572\n",
              "4      9969                     Gintama&#039;  ...   9.16  151266\n",
              "\n",
              "[5 rows x 7 columns]"
            ]
          },
          "metadata": {
            "tags": []
          },
          "execution_count": 5
        }
      ]
    },
    {
      "cell_type": "code",
      "metadata": {
        "id": "pJ809YCSJqBO",
        "colab_type": "code",
        "colab": {
          "base_uri": "https://localhost:8080/",
          "height": 34
        },
        "outputId": "ea392ace-722e-4329-ea1c-5cb28d0abdae"
      },
      "source": [
        "anime['type'].unique()"
      ],
      "execution_count": 6,
      "outputs": [
        {
          "output_type": "execute_result",
          "data": {
            "text/plain": [
              "array(['Movie', 'TV', 'OVA', 'Special', 'Music', 'ONA', nan], dtype=object)"
            ]
          },
          "metadata": {
            "tags": []
          },
          "execution_count": 6
        }
      ]
    },
    {
      "cell_type": "code",
      "metadata": {
        "id": "XBd8m6bVJqBT",
        "colab_type": "code",
        "colab": {
          "base_uri": "https://localhost:8080/",
          "height": 1000
        },
        "outputId": "357d80d8-3bf9-484b-d1ec-457dc2ea61bf"
      },
      "source": [
        "anime[(anime.episodes==\"Unknown\") & (anime.type==\"OVA\")]"
      ],
      "execution_count": 7,
      "outputs": [
        {
          "output_type": "execute_result",
          "data": {
            "text/html": [
              "<div>\n",
              "<style scoped>\n",
              "    .dataframe tbody tr th:only-of-type {\n",
              "        vertical-align: middle;\n",
              "    }\n",
              "\n",
              "    .dataframe tbody tr th {\n",
              "        vertical-align: top;\n",
              "    }\n",
              "\n",
              "    .dataframe thead th {\n",
              "        text-align: right;\n",
              "    }\n",
              "</style>\n",
              "<table border=\"1\" class=\"dataframe\">\n",
              "  <thead>\n",
              "    <tr style=\"text-align: right;\">\n",
              "      <th></th>\n",
              "      <th>anime_id</th>\n",
              "      <th>name</th>\n",
              "      <th>genre</th>\n",
              "      <th>type</th>\n",
              "      <th>episodes</th>\n",
              "      <th>rating</th>\n",
              "      <th>members</th>\n",
              "    </tr>\n",
              "  </thead>\n",
              "  <tbody>\n",
              "    <tr>\n",
              "      <th>8200</th>\n",
              "      <td>33566</td>\n",
              "      <td>Baki</td>\n",
              "      <td>Action, Martial Arts, Shounen</td>\n",
              "      <td>OVA</td>\n",
              "      <td>Unknown</td>\n",
              "      <td>8.27</td>\n",
              "      <td>1448</td>\n",
              "    </tr>\n",
              "    <tr>\n",
              "      <th>8521</th>\n",
              "      <td>24985</td>\n",
              "      <td>Elite Jack!!</td>\n",
              "      <td>School, Shoujo</td>\n",
              "      <td>OVA</td>\n",
              "      <td>Unknown</td>\n",
              "      <td>5.29</td>\n",
              "      <td>141</td>\n",
              "    </tr>\n",
              "    <tr>\n",
              "      <th>8977</th>\n",
              "      <td>24501</td>\n",
              "      <td>Inui-san!</td>\n",
              "      <td>Comedy, Shoujo</td>\n",
              "      <td>OVA</td>\n",
              "      <td>Unknown</td>\n",
              "      <td>5.20</td>\n",
              "      <td>106</td>\n",
              "    </tr>\n",
              "    <tr>\n",
              "      <th>9689</th>\n",
              "      <td>15211</td>\n",
              "      <td>Nazotoki-hime wa Meitantei♥</td>\n",
              "      <td>Mystery, Shoujo</td>\n",
              "      <td>OVA</td>\n",
              "      <td>Unknown</td>\n",
              "      <td>5.62</td>\n",
              "      <td>194</td>\n",
              "    </tr>\n",
              "    <tr>\n",
              "      <th>10942</th>\n",
              "      <td>33564</td>\n",
              "      <td>Armed Blue: Gunvolt</td>\n",
              "      <td>Action, Sci-Fi, Super Power</td>\n",
              "      <td>OVA</td>\n",
              "      <td>Unknown</td>\n",
              "      <td>NaN</td>\n",
              "      <td>2549</td>\n",
              "    </tr>\n",
              "    <tr>\n",
              "      <th>11008</th>\n",
              "      <td>33797</td>\n",
              "      <td>ID-0</td>\n",
              "      <td>Mecha</td>\n",
              "      <td>OVA</td>\n",
              "      <td>Unknown</td>\n",
              "      <td>NaN</td>\n",
              "      <td>292</td>\n",
              "    </tr>\n",
              "    <tr>\n",
              "      <th>11022</th>\n",
              "      <td>33191</td>\n",
              "      <td>Kishibe Rohan wa Ugokanai</td>\n",
              "      <td>Action, Adventure, Mystery, Supernatural</td>\n",
              "      <td>OVA</td>\n",
              "      <td>Unknown</td>\n",
              "      <td>NaN</td>\n",
              "      <td>2607</td>\n",
              "    </tr>\n",
              "    <tr>\n",
              "      <th>11031</th>\n",
              "      <td>34151</td>\n",
              "      <td>Landreaall</td>\n",
              "      <td>Action, Adventure, Fantasy, Martial Arts, Romance</td>\n",
              "      <td>OVA</td>\n",
              "      <td>Unknown</td>\n",
              "      <td>NaN</td>\n",
              "      <td>414</td>\n",
              "    </tr>\n",
              "    <tr>\n",
              "      <th>11093</th>\n",
              "      <td>21305</td>\n",
              "      <td>Trick or Alice</td>\n",
              "      <td>Fantasy</td>\n",
              "      <td>OVA</td>\n",
              "      <td>Unknown</td>\n",
              "      <td>NaN</td>\n",
              "      <td>4481</td>\n",
              "    </tr>\n",
              "    <tr>\n",
              "      <th>11100</th>\n",
              "      <td>33064</td>\n",
              "      <td>Uchuu Senkan Yamato 2202: Ai no Senshi-tachi</td>\n",
              "      <td>Action, Drama, Military, Sci-Fi, Space</td>\n",
              "      <td>OVA</td>\n",
              "      <td>Unknown</td>\n",
              "      <td>NaN</td>\n",
              "      <td>2058</td>\n",
              "    </tr>\n",
              "    <tr>\n",
              "      <th>11135</th>\n",
              "      <td>32355</td>\n",
              "      <td>Toshi Densetsu Series</td>\n",
              "      <td>Hentai</td>\n",
              "      <td>OVA</td>\n",
              "      <td>Unknown</td>\n",
              "      <td>7.44</td>\n",
              "      <td>4447</td>\n",
              "    </tr>\n",
              "    <tr>\n",
              "      <th>11145</th>\n",
              "      <td>33322</td>\n",
              "      <td>JK Bitch ni Shiboraretai</td>\n",
              "      <td>Hentai</td>\n",
              "      <td>OVA</td>\n",
              "      <td>Unknown</td>\n",
              "      <td>7.33</td>\n",
              "      <td>2600</td>\n",
              "    </tr>\n",
              "    <tr>\n",
              "      <th>11146</th>\n",
              "      <td>31886</td>\n",
              "      <td>Dropout</td>\n",
              "      <td>Hentai</td>\n",
              "      <td>OVA</td>\n",
              "      <td>Unknown</td>\n",
              "      <td>7.32</td>\n",
              "      <td>3515</td>\n",
              "    </tr>\n",
              "    <tr>\n",
              "      <th>11155</th>\n",
              "      <td>31789</td>\n",
              "      <td>Oni Chichi: Vacation</td>\n",
              "      <td>Hentai</td>\n",
              "      <td>OVA</td>\n",
              "      <td>Unknown</td>\n",
              "      <td>7.28</td>\n",
              "      <td>3259</td>\n",
              "    </tr>\n",
              "    <tr>\n",
              "      <th>11166</th>\n",
              "      <td>30891</td>\n",
              "      <td>Oni Chichi: Refresh♥</td>\n",
              "      <td>Hentai</td>\n",
              "      <td>OVA</td>\n",
              "      <td>Unknown</td>\n",
              "      <td>7.25</td>\n",
              "      <td>4433</td>\n",
              "    </tr>\n",
              "    <tr>\n",
              "      <th>11188</th>\n",
              "      <td>32872</td>\n",
              "      <td>Energy Kyouka!!</td>\n",
              "      <td>Hentai</td>\n",
              "      <td>OVA</td>\n",
              "      <td>Unknown</td>\n",
              "      <td>7.13</td>\n",
              "      <td>2891</td>\n",
              "    </tr>\n",
              "    <tr>\n",
              "      <th>11193</th>\n",
              "      <td>33231</td>\n",
              "      <td>Fella Hame Lips</td>\n",
              "      <td>Hentai</td>\n",
              "      <td>OVA</td>\n",
              "      <td>Unknown</td>\n",
              "      <td>7.10</td>\n",
              "      <td>1663</td>\n",
              "    </tr>\n",
              "    <tr>\n",
              "      <th>11200</th>\n",
              "      <td>31788</td>\n",
              "      <td>Ero Manga! H mo Manga mo Step-up♪</td>\n",
              "      <td>Hentai</td>\n",
              "      <td>OVA</td>\n",
              "      <td>Unknown</td>\n",
              "      <td>7.11</td>\n",
              "      <td>2967</td>\n",
              "    </tr>\n",
              "    <tr>\n",
              "      <th>11216</th>\n",
              "      <td>32518</td>\n",
              "      <td>Shoujo kara Shoujo e...</td>\n",
              "      <td>Hentai</td>\n",
              "      <td>OVA</td>\n",
              "      <td>Unknown</td>\n",
              "      <td>7.08</td>\n",
              "      <td>1964</td>\n",
              "    </tr>\n",
              "    <tr>\n",
              "      <th>11221</th>\n",
              "      <td>32063</td>\n",
              "      <td>Kyonyuu Hitozuma Onna Kyoushi Saimin</td>\n",
              "      <td>Hentai</td>\n",
              "      <td>OVA</td>\n",
              "      <td>Unknown</td>\n",
              "      <td>7.06</td>\n",
              "      <td>2045</td>\n",
              "    </tr>\n",
              "    <tr>\n",
              "      <th>11228</th>\n",
              "      <td>31810</td>\n",
              "      <td>Amakano</td>\n",
              "      <td>Hentai</td>\n",
              "      <td>OVA</td>\n",
              "      <td>Unknown</td>\n",
              "      <td>7.04</td>\n",
              "      <td>2695</td>\n",
              "    </tr>\n",
              "    <tr>\n",
              "      <th>11267</th>\n",
              "      <td>33962</td>\n",
              "      <td>Shoujo-tachi no Sadism The Animation</td>\n",
              "      <td>Hentai</td>\n",
              "      <td>OVA</td>\n",
              "      <td>Unknown</td>\n",
              "      <td>6.94</td>\n",
              "      <td>1247</td>\n",
              "    </tr>\n",
              "    <tr>\n",
              "      <th>11272</th>\n",
              "      <td>33981</td>\n",
              "      <td>Pretty x Cation 2 The Animation</td>\n",
              "      <td>Hentai</td>\n",
              "      <td>OVA</td>\n",
              "      <td>Unknown</td>\n",
              "      <td>6.91</td>\n",
              "      <td>939</td>\n",
              "    </tr>\n",
              "    <tr>\n",
              "      <th>11282</th>\n",
              "      <td>32895</td>\n",
              "      <td>Chijoku no Seifuku</td>\n",
              "      <td>Hentai</td>\n",
              "      <td>OVA</td>\n",
              "      <td>Unknown</td>\n",
              "      <td>6.89</td>\n",
              "      <td>1927</td>\n",
              "    </tr>\n",
              "    <tr>\n",
              "      <th>11293</th>\n",
              "      <td>32405</td>\n",
              "      <td>Marshmallow★Imouto★Succubus★</td>\n",
              "      <td>Hentai</td>\n",
              "      <td>OVA</td>\n",
              "      <td>Unknown</td>\n",
              "      <td>6.87</td>\n",
              "      <td>2211</td>\n",
              "    </tr>\n",
              "    <tr>\n",
              "      <th>11294</th>\n",
              "      <td>33505</td>\n",
              "      <td>Tsumamigui 3 The Animation</td>\n",
              "      <td>Hentai</td>\n",
              "      <td>OVA</td>\n",
              "      <td>Unknown</td>\n",
              "      <td>6.87</td>\n",
              "      <td>1400</td>\n",
              "    </tr>\n",
              "    <tr>\n",
              "      <th>11317</th>\n",
              "      <td>34246</td>\n",
              "      <td>Kimi no Mana wa Rina Witch</td>\n",
              "      <td>Hentai</td>\n",
              "      <td>OVA</td>\n",
              "      <td>Unknown</td>\n",
              "      <td>6.83</td>\n",
              "      <td>607</td>\n",
              "    </tr>\n",
              "    <tr>\n",
              "      <th>11318</th>\n",
              "      <td>32833</td>\n",
              "      <td>Nudist Beach ni Shuugakuryokou de!! The Animation</td>\n",
              "      <td>Hentai</td>\n",
              "      <td>OVA</td>\n",
              "      <td>Unknown</td>\n",
              "      <td>6.83</td>\n",
              "      <td>2178</td>\n",
              "    </tr>\n",
              "    <tr>\n",
              "      <th>11325</th>\n",
              "      <td>33769</td>\n",
              "      <td>Imouto to Sono Yuujin ga Ero Sugite Ore no Kok...</td>\n",
              "      <td>Hentai</td>\n",
              "      <td>OVA</td>\n",
              "      <td>Unknown</td>\n",
              "      <td>6.82</td>\n",
              "      <td>1307</td>\n",
              "    </tr>\n",
              "    <tr>\n",
              "      <th>11342</th>\n",
              "      <td>33768</td>\n",
              "      <td>Oide yo! Shiritsu Yarimakuri Gakuen</td>\n",
              "      <td>Hentai</td>\n",
              "      <td>OVA</td>\n",
              "      <td>Unknown</td>\n",
              "      <td>6.79</td>\n",
              "      <td>1059</td>\n",
              "    </tr>\n",
              "    <tr>\n",
              "      <th>11352</th>\n",
              "      <td>30242</td>\n",
              "      <td>Kuro no Kyoushitsu</td>\n",
              "      <td>Hentai</td>\n",
              "      <td>OVA</td>\n",
              "      <td>Unknown</td>\n",
              "      <td>6.77</td>\n",
              "      <td>2530</td>\n",
              "    </tr>\n",
              "    <tr>\n",
              "      <th>11426</th>\n",
              "      <td>33291</td>\n",
              "      <td>Pinkerton</td>\n",
              "      <td>Hentai</td>\n",
              "      <td>OVA</td>\n",
              "      <td>Unknown</td>\n",
              "      <td>6.63</td>\n",
              "      <td>1648</td>\n",
              "    </tr>\n",
              "    <tr>\n",
              "      <th>11454</th>\n",
              "      <td>33865</td>\n",
              "      <td>Hachishaku Hachiwa Keraku Meguri: Igyou Kaikit...</td>\n",
              "      <td>Hentai, Supernatural</td>\n",
              "      <td>OVA</td>\n",
              "      <td>Unknown</td>\n",
              "      <td>6.59</td>\n",
              "      <td>481</td>\n",
              "    </tr>\n",
              "    <tr>\n",
              "      <th>11462</th>\n",
              "      <td>32864</td>\n",
              "      <td>JK to Ero Konbini Tenchou</td>\n",
              "      <td>Hentai</td>\n",
              "      <td>OVA</td>\n",
              "      <td>Unknown</td>\n",
              "      <td>6.57</td>\n",
              "      <td>2194</td>\n",
              "    </tr>\n",
              "    <tr>\n",
              "      <th>11496</th>\n",
              "      <td>33993</td>\n",
              "      <td>300 En no Otsukiai</td>\n",
              "      <td>Hentai</td>\n",
              "      <td>OVA</td>\n",
              "      <td>Unknown</td>\n",
              "      <td>6.53</td>\n",
              "      <td>902</td>\n",
              "    </tr>\n",
              "    <tr>\n",
              "      <th>11498</th>\n",
              "      <td>33153</td>\n",
              "      <td>Houkago Initiation</td>\n",
              "      <td>Hentai</td>\n",
              "      <td>OVA</td>\n",
              "      <td>Unknown</td>\n",
              "      <td>6.52</td>\n",
              "      <td>1613</td>\n",
              "    </tr>\n",
              "    <tr>\n",
              "      <th>11544</th>\n",
              "      <td>32016</td>\n",
              "      <td>Secret Journey</td>\n",
              "      <td>Comedy, Fantasy, Hentai, Supernatural, Yaoi</td>\n",
              "      <td>OVA</td>\n",
              "      <td>Unknown</td>\n",
              "      <td>6.46</td>\n",
              "      <td>2349</td>\n",
              "    </tr>\n",
              "    <tr>\n",
              "      <th>11582</th>\n",
              "      <td>34030</td>\n",
              "      <td>Bokura no Sex</td>\n",
              "      <td>Hentai</td>\n",
              "      <td>OVA</td>\n",
              "      <td>Unknown</td>\n",
              "      <td>6.39</td>\n",
              "      <td>532</td>\n",
              "    </tr>\n",
              "    <tr>\n",
              "      <th>11584</th>\n",
              "      <td>34311</td>\n",
              "      <td>Ecchi na Shintai Sokutei Anime Edition</td>\n",
              "      <td>Hentai</td>\n",
              "      <td>OVA</td>\n",
              "      <td>Unknown</td>\n",
              "      <td>6.34</td>\n",
              "      <td>414</td>\n",
              "    </tr>\n",
              "    <tr>\n",
              "      <th>11648</th>\n",
              "      <td>32238</td>\n",
              "      <td>Watashi wa, Kairaku Izonshou</td>\n",
              "      <td>Hentai</td>\n",
              "      <td>OVA</td>\n",
              "      <td>Unknown</td>\n",
              "      <td>6.32</td>\n",
              "      <td>1569</td>\n",
              "    </tr>\n",
              "    <tr>\n",
              "      <th>11752</th>\n",
              "      <td>28169</td>\n",
              "      <td>Buta no Gotoki Sanzoku ni Torawarete Shojo wo ...</td>\n",
              "      <td>Hentai</td>\n",
              "      <td>OVA</td>\n",
              "      <td>Unknown</td>\n",
              "      <td>6.14</td>\n",
              "      <td>1992</td>\n",
              "    </tr>\n",
              "    <tr>\n",
              "      <th>12024</th>\n",
              "      <td>30770</td>\n",
              "      <td>Maid-san to Boin Damashii</td>\n",
              "      <td>Harem, Hentai</td>\n",
              "      <td>OVA</td>\n",
              "      <td>Unknown</td>\n",
              "      <td>5.71</td>\n",
              "      <td>1498</td>\n",
              "    </tr>\n",
              "    <tr>\n",
              "      <th>12045</th>\n",
              "      <td>33125</td>\n",
              "      <td>Shiiku x Kanojo: Tenshi no Kousoku-hen</td>\n",
              "      <td>Hentai</td>\n",
              "      <td>OVA</td>\n",
              "      <td>Unknown</td>\n",
              "      <td>5.68</td>\n",
              "      <td>1326</td>\n",
              "    </tr>\n",
              "    <tr>\n",
              "      <th>12251</th>\n",
              "      <td>33960</td>\n",
              "      <td>Chou Do M na Hentai Mesu-tachi Otokoton Chouky...</td>\n",
              "      <td>Hentai</td>\n",
              "      <td>OVA</td>\n",
              "      <td>Unknown</td>\n",
              "      <td>8.38</td>\n",
              "      <td>161</td>\n",
              "    </tr>\n",
              "    <tr>\n",
              "      <th>12261</th>\n",
              "      <td>34506</td>\n",
              "      <td>Idol Kyousei Sousa</td>\n",
              "      <td>Hentai</td>\n",
              "      <td>OVA</td>\n",
              "      <td>Unknown</td>\n",
              "      <td>NaN</td>\n",
              "      <td>68</td>\n",
              "    </tr>\n",
              "    <tr>\n",
              "      <th>12265</th>\n",
              "      <td>34361</td>\n",
              "      <td>Kyonyuu Reijou MC Gakuen</td>\n",
              "      <td>Hentai</td>\n",
              "      <td>OVA</td>\n",
              "      <td>Unknown</td>\n",
              "      <td>NaN</td>\n",
              "      <td>205</td>\n",
              "    </tr>\n",
              "    <tr>\n",
              "      <th>12274</th>\n",
              "      <td>34492</td>\n",
              "      <td>Nuki Doki! Tenshi to Akuma no Sakusei Battle -...</td>\n",
              "      <td>Hentai</td>\n",
              "      <td>OVA</td>\n",
              "      <td>Unknown</td>\n",
              "      <td>NaN</td>\n",
              "      <td>392</td>\n",
              "    </tr>\n",
              "    <tr>\n",
              "      <th>12280</th>\n",
              "      <td>34312</td>\n",
              "      <td>Saimin Class</td>\n",
              "      <td>Hentai</td>\n",
              "      <td>OVA</td>\n",
              "      <td>Unknown</td>\n",
              "      <td>NaN</td>\n",
              "      <td>240</td>\n",
              "    </tr>\n",
              "    <tr>\n",
              "      <th>12282</th>\n",
              "      <td>34388</td>\n",
              "      <td>Shikkoku no Shaga The Animation</td>\n",
              "      <td>Hentai</td>\n",
              "      <td>OVA</td>\n",
              "      <td>Unknown</td>\n",
              "      <td>NaN</td>\n",
              "      <td>195</td>\n",
              "    </tr>\n",
              "    <tr>\n",
              "      <th>12285</th>\n",
              "      <td>34399</td>\n",
              "      <td>Taimanin Asagi 3</td>\n",
              "      <td>Demons, Hentai, Supernatural</td>\n",
              "      <td>OVA</td>\n",
              "      <td>Unknown</td>\n",
              "      <td>NaN</td>\n",
              "      <td>485</td>\n",
              "    </tr>\n",
              "  </tbody>\n",
              "</table>\n",
              "</div>"
            ],
            "text/plain": [
              "       anime_id  ... members\n",
              "8200      33566  ...    1448\n",
              "8521      24985  ...     141\n",
              "8977      24501  ...     106\n",
              "9689      15211  ...     194\n",
              "10942     33564  ...    2549\n",
              "11008     33797  ...     292\n",
              "11022     33191  ...    2607\n",
              "11031     34151  ...     414\n",
              "11093     21305  ...    4481\n",
              "11100     33064  ...    2058\n",
              "11135     32355  ...    4447\n",
              "11145     33322  ...    2600\n",
              "11146     31886  ...    3515\n",
              "11155     31789  ...    3259\n",
              "11166     30891  ...    4433\n",
              "11188     32872  ...    2891\n",
              "11193     33231  ...    1663\n",
              "11200     31788  ...    2967\n",
              "11216     32518  ...    1964\n",
              "11221     32063  ...    2045\n",
              "11228     31810  ...    2695\n",
              "11267     33962  ...    1247\n",
              "11272     33981  ...     939\n",
              "11282     32895  ...    1927\n",
              "11293     32405  ...    2211\n",
              "11294     33505  ...    1400\n",
              "11317     34246  ...     607\n",
              "11318     32833  ...    2178\n",
              "11325     33769  ...    1307\n",
              "11342     33768  ...    1059\n",
              "11352     30242  ...    2530\n",
              "11426     33291  ...    1648\n",
              "11454     33865  ...     481\n",
              "11462     32864  ...    2194\n",
              "11496     33993  ...     902\n",
              "11498     33153  ...    1613\n",
              "11544     32016  ...    2349\n",
              "11582     34030  ...     532\n",
              "11584     34311  ...     414\n",
              "11648     32238  ...    1569\n",
              "11752     28169  ...    1992\n",
              "12024     30770  ...    1498\n",
              "12045     33125  ...    1326\n",
              "12251     33960  ...     161\n",
              "12261     34506  ...      68\n",
              "12265     34361  ...     205\n",
              "12274     34492  ...     392\n",
              "12280     34312  ...     240\n",
              "12282     34388  ...     195\n",
              "12285     34399  ...     485\n",
              "\n",
              "[50 rows x 7 columns]"
            ]
          },
          "metadata": {
            "tags": []
          },
          "execution_count": 7
        }
      ]
    },
    {
      "cell_type": "code",
      "metadata": {
        "id": "oO52Q6BbJqBY",
        "colab_type": "code",
        "colab": {
          "base_uri": "https://localhost:8080/",
          "height": 173
        },
        "outputId": "d4daa1da-a56a-48a9-c462-17ff5b4c50d0"
      },
      "source": [
        "anime[(anime.episodes==\"Unknown\") & (anime.type==\"Movie\")]"
      ],
      "execution_count": 8,
      "outputs": [
        {
          "output_type": "execute_result",
          "data": {
            "text/html": [
              "<div>\n",
              "<style scoped>\n",
              "    .dataframe tbody tr th:only-of-type {\n",
              "        vertical-align: middle;\n",
              "    }\n",
              "\n",
              "    .dataframe tbody tr th {\n",
              "        vertical-align: top;\n",
              "    }\n",
              "\n",
              "    .dataframe thead th {\n",
              "        text-align: right;\n",
              "    }\n",
              "</style>\n",
              "<table border=\"1\" class=\"dataframe\">\n",
              "  <thead>\n",
              "    <tr style=\"text-align: right;\">\n",
              "      <th></th>\n",
              "      <th>anime_id</th>\n",
              "      <th>name</th>\n",
              "      <th>genre</th>\n",
              "      <th>type</th>\n",
              "      <th>episodes</th>\n",
              "      <th>rating</th>\n",
              "      <th>members</th>\n",
              "    </tr>\n",
              "  </thead>\n",
              "  <tbody>\n",
              "    <tr>\n",
              "      <th>8142</th>\n",
              "      <td>30617</td>\n",
              "      <td>Animegatari</td>\n",
              "      <td>Comedy</td>\n",
              "      <td>Movie</td>\n",
              "      <td>Unknown</td>\n",
              "      <td>5.36</td>\n",
              "      <td>1308</td>\n",
              "    </tr>\n",
              "    <tr>\n",
              "      <th>10940</th>\n",
              "      <td>33820</td>\n",
              "      <td>Ao Oni The Animation (Movie)</td>\n",
              "      <td>Horror</td>\n",
              "      <td>Movie</td>\n",
              "      <td>Unknown</td>\n",
              "      <td>NaN</td>\n",
              "      <td>1416</td>\n",
              "    </tr>\n",
              "    <tr>\n",
              "      <th>10947</th>\n",
              "      <td>32086</td>\n",
              "      <td>Blame! Movie</td>\n",
              "      <td>Action, Drama, Mecha, Psychological, Sci-Fi, S...</td>\n",
              "      <td>Movie</td>\n",
              "      <td>Unknown</td>\n",
              "      <td>NaN</td>\n",
              "      <td>3251</td>\n",
              "    </tr>\n",
              "    <tr>\n",
              "      <th>10996</th>\n",
              "      <td>33783</td>\n",
              "      <td>Godzilla</td>\n",
              "      <td>Action, Adventure, Fantasy, Sci-Fi</td>\n",
              "      <td>Movie</td>\n",
              "      <td>Unknown</td>\n",
              "      <td>NaN</td>\n",
              "      <td>1022</td>\n",
              "    </tr>\n",
              "  </tbody>\n",
              "</table>\n",
              "</div>"
            ],
            "text/plain": [
              "       anime_id                          name  ... rating members\n",
              "8142      30617                   Animegatari  ...   5.36    1308\n",
              "10940     33820  Ao Oni The Animation (Movie)  ...    NaN    1416\n",
              "10947     32086                  Blame! Movie  ...    NaN    3251\n",
              "10996     33783                      Godzilla  ...    NaN    1022\n",
              "\n",
              "[4 rows x 7 columns]"
            ]
          },
          "metadata": {
            "tags": []
          },
          "execution_count": 8
        }
      ]
    },
    {
      "cell_type": "markdown",
      "metadata": {
        "id": "PJeV1XdlJqBe",
        "colab_type": "text"
      },
      "source": [
        "## Pre-processing data "
      ]
    },
    {
      "cell_type": "code",
      "metadata": {
        "id": "O46bGEpwJqBf",
        "colab_type": "code",
        "colab": {}
      },
      "source": [
        "# Set nilai episodes = 1 dimana type movie atau OVA dan episodes Unknow\n",
        "anime.loc[(anime[\"type\"]==\"OVA\") & (anime[\"episodes\"]==\"Unknown\"),\"episodes\"] = \"1\" \n",
        "anime.loc[(anime[\"type\"]==\"Movie\") & (anime[\"episodes\"] == \"Unknown\"), \"episodes\"] = \"1\""
      ],
      "execution_count": 0,
      "outputs": []
    },
    {
      "cell_type": "code",
      "metadata": {
        "id": "1f7d_XAyJqBk",
        "colab_type": "code",
        "colab": {}
      },
      "source": [
        "# Set nilai episodes pada data-data yang lain\n",
        "fill_anime = {\"Naruto Shippuuden\":500, \"One Piece\":925,\"Detective Conan\":956, \"Dragon Ball Super\":131,\n",
        "                \"Crayon Shin chan\":942, \"Yu Gi Oh Arc V\":148,\"Shingeki no Kyojin Season 2\":25,\n",
        "                \"Boku no Hero Academia 2nd Season\":25,\"Little Witch Academia TV\":25}\n",
        "\n",
        "# Looping set nilai\n",
        "for k,v in fill_anime.items():    \n",
        "    anime.loc[anime[\"name\"]==k,\"episodes\"] = v"
      ],
      "execution_count": 0,
      "outputs": []
    },
    {
      "cell_type": "code",
      "metadata": {
        "id": "j-048_m6JqBq",
        "colab_type": "code",
        "colab": {
          "base_uri": "https://localhost:8080/",
          "height": 470
        },
        "outputId": "33bf2858-2c0d-48e8-9eb8-68ec8a35ab10"
      },
      "source": [
        "anime[(anime.episodes==\"Unknown\")]"
      ],
      "execution_count": 11,
      "outputs": [
        {
          "output_type": "execute_result",
          "data": {
            "text/html": [
              "<div>\n",
              "<style scoped>\n",
              "    .dataframe tbody tr th:only-of-type {\n",
              "        vertical-align: middle;\n",
              "    }\n",
              "\n",
              "    .dataframe tbody tr th {\n",
              "        vertical-align: top;\n",
              "    }\n",
              "\n",
              "    .dataframe thead th {\n",
              "        text-align: right;\n",
              "    }\n",
              "</style>\n",
              "<table border=\"1\" class=\"dataframe\">\n",
              "  <thead>\n",
              "    <tr style=\"text-align: right;\">\n",
              "      <th></th>\n",
              "      <th>anime_id</th>\n",
              "      <th>name</th>\n",
              "      <th>genre</th>\n",
              "      <th>type</th>\n",
              "      <th>episodes</th>\n",
              "      <th>rating</th>\n",
              "      <th>members</th>\n",
              "    </tr>\n",
              "  </thead>\n",
              "  <tbody>\n",
              "    <tr>\n",
              "      <th>615</th>\n",
              "      <td>1735</td>\n",
              "      <td>Naruto: Shippuuden</td>\n",
              "      <td>Action, Comedy, Martial Arts, Shounen, Super P...</td>\n",
              "      <td>TV</td>\n",
              "      <td>Unknown</td>\n",
              "      <td>7.94</td>\n",
              "      <td>533578</td>\n",
              "    </tr>\n",
              "    <tr>\n",
              "      <th>991</th>\n",
              "      <td>966</td>\n",
              "      <td>Crayon Shin-chan</td>\n",
              "      <td>Comedy, Ecchi, Kids, School, Shounen, Slice of...</td>\n",
              "      <td>TV</td>\n",
              "      <td>Unknown</td>\n",
              "      <td>7.73</td>\n",
              "      <td>26267</td>\n",
              "    </tr>\n",
              "    <tr>\n",
              "      <th>1021</th>\n",
              "      <td>33157</td>\n",
              "      <td>Tanaka-kun wa Itsumo Kedaruge Specials</td>\n",
              "      <td>Comedy, School, Slice of Life</td>\n",
              "      <td>Special</td>\n",
              "      <td>Unknown</td>\n",
              "      <td>7.72</td>\n",
              "      <td>5400</td>\n",
              "    </tr>\n",
              "    <tr>\n",
              "      <th>1272</th>\n",
              "      <td>21639</td>\n",
              "      <td>Yu☆Gi☆Oh! Arc-V</td>\n",
              "      <td>Action, Fantasy, Game, Shounen</td>\n",
              "      <td>TV</td>\n",
              "      <td>Unknown</td>\n",
              "      <td>7.61</td>\n",
              "      <td>17571</td>\n",
              "    </tr>\n",
              "    <tr>\n",
              "      <th>1309</th>\n",
              "      <td>8687</td>\n",
              "      <td>Doraemon (2005)</td>\n",
              "      <td>Comedy, Kids, Sci-Fi, Shounen</td>\n",
              "      <td>TV</td>\n",
              "      <td>Unknown</td>\n",
              "      <td>7.59</td>\n",
              "      <td>2980</td>\n",
              "    </tr>\n",
              "    <tr>\n",
              "      <th>...</th>\n",
              "      <td>...</td>\n",
              "      <td>...</td>\n",
              "      <td>...</td>\n",
              "      <td>...</td>\n",
              "      <td>...</td>\n",
              "      <td>...</td>\n",
              "      <td>...</td>\n",
              "    </tr>\n",
              "    <tr>\n",
              "      <th>11105</th>\n",
              "      <td>34022</td>\n",
              "      <td>Whistle! (ONA)</td>\n",
              "      <td>School, Shounen, Sports</td>\n",
              "      <td>ONA</td>\n",
              "      <td>Unknown</td>\n",
              "      <td>NaN</td>\n",
              "      <td>381</td>\n",
              "    </tr>\n",
              "    <tr>\n",
              "      <th>11106</th>\n",
              "      <td>34467</td>\n",
              "      <td>Yami Shibai 4th Season</td>\n",
              "      <td>Dementia, Horror, Supernatural</td>\n",
              "      <td>TV</td>\n",
              "      <td>Unknown</td>\n",
              "      <td>NaN</td>\n",
              "      <td>1838</td>\n",
              "    </tr>\n",
              "    <tr>\n",
              "      <th>11107</th>\n",
              "      <td>32615</td>\n",
              "      <td>Youjo Senki</td>\n",
              "      <td>Magic, Military</td>\n",
              "      <td>TV</td>\n",
              "      <td>Unknown</td>\n",
              "      <td>NaN</td>\n",
              "      <td>6652</td>\n",
              "    </tr>\n",
              "    <tr>\n",
              "      <th>12252</th>\n",
              "      <td>34382</td>\n",
              "      <td>Citrus</td>\n",
              "      <td>Drama, Romance, School, Yuri</td>\n",
              "      <td>NaN</td>\n",
              "      <td>Unknown</td>\n",
              "      <td>NaN</td>\n",
              "      <td>2459</td>\n",
              "    </tr>\n",
              "    <tr>\n",
              "      <th>12259</th>\n",
              "      <td>33654</td>\n",
              "      <td>Hitorijime My Hero</td>\n",
              "      <td>Yaoi</td>\n",
              "      <td>NaN</td>\n",
              "      <td>Unknown</td>\n",
              "      <td>NaN</td>\n",
              "      <td>1574</td>\n",
              "    </tr>\n",
              "  </tbody>\n",
              "</table>\n",
              "<p>281 rows × 7 columns</p>\n",
              "</div>"
            ],
            "text/plain": [
              "       anime_id                                    name  ... rating members\n",
              "615        1735                      Naruto: Shippuuden  ...   7.94  533578\n",
              "991         966                        Crayon Shin-chan  ...   7.73   26267\n",
              "1021      33157  Tanaka-kun wa Itsumo Kedaruge Specials  ...   7.72    5400\n",
              "1272      21639                         Yu☆Gi☆Oh! Arc-V  ...   7.61   17571\n",
              "1309       8687                         Doraemon (2005)  ...   7.59    2980\n",
              "...         ...                                     ...  ...    ...     ...\n",
              "11105     34022                          Whistle! (ONA)  ...    NaN     381\n",
              "11106     34467                  Yami Shibai 4th Season  ...    NaN    1838\n",
              "11107     32615                             Youjo Senki  ...    NaN    6652\n",
              "12252     34382                                  Citrus  ...    NaN    2459\n",
              "12259     33654                      Hitorijime My Hero  ...    NaN    1574\n",
              "\n",
              "[281 rows x 7 columns]"
            ]
          },
          "metadata": {
            "tags": []
          },
          "execution_count": 11
        }
      ]
    },
    {
      "cell_type": "code",
      "metadata": {
        "id": "s3jflMeqJqBu",
        "colab_type": "code",
        "colab": {}
      },
      "source": [
        "# Set nilai episodes = mean yg \"Unknow\"\n",
        "anime[\"episodes\"] = anime[\"episodes\"].map(lambda x:np.nan if x==\"Unknown\" else x)\n",
        "anime[\"episodes\"] = anime[\"episodes\"].astype(float)\n",
        "anime[\"episodes\"].fillna(anime[\"episodes\"].mean(),inplace = True)\n",
        "\n",
        "# Set nilai rating = mean yg Nan\n",
        "anime[\"rating\"] = anime[\"rating\"].astype(float)\n",
        "anime[\"rating\"].fillna(anime[\"rating\"].mean(),inplace = True)"
      ],
      "execution_count": 0,
      "outputs": []
    },
    {
      "cell_type": "code",
      "metadata": {
        "id": "uxC-bGKYJqBz",
        "colab_type": "code",
        "colab": {
          "base_uri": "https://localhost:8080/",
          "height": 204
        },
        "outputId": "cad8b8cd-4d9a-4f59-eb7e-348d2d320398"
      },
      "source": [
        "pd.get_dummies(anime[[\"type\"]]).head()"
      ],
      "execution_count": 14,
      "outputs": [
        {
          "output_type": "execute_result",
          "data": {
            "text/html": [
              "<div>\n",
              "<style scoped>\n",
              "    .dataframe tbody tr th:only-of-type {\n",
              "        vertical-align: middle;\n",
              "    }\n",
              "\n",
              "    .dataframe tbody tr th {\n",
              "        vertical-align: top;\n",
              "    }\n",
              "\n",
              "    .dataframe thead th {\n",
              "        text-align: right;\n",
              "    }\n",
              "</style>\n",
              "<table border=\"1\" class=\"dataframe\">\n",
              "  <thead>\n",
              "    <tr style=\"text-align: right;\">\n",
              "      <th></th>\n",
              "      <th>type_Movie</th>\n",
              "      <th>type_Music</th>\n",
              "      <th>type_ONA</th>\n",
              "      <th>type_OVA</th>\n",
              "      <th>type_Special</th>\n",
              "      <th>type_TV</th>\n",
              "    </tr>\n",
              "  </thead>\n",
              "  <tbody>\n",
              "    <tr>\n",
              "      <th>0</th>\n",
              "      <td>1</td>\n",
              "      <td>0</td>\n",
              "      <td>0</td>\n",
              "      <td>0</td>\n",
              "      <td>0</td>\n",
              "      <td>0</td>\n",
              "    </tr>\n",
              "    <tr>\n",
              "      <th>1</th>\n",
              "      <td>0</td>\n",
              "      <td>0</td>\n",
              "      <td>0</td>\n",
              "      <td>0</td>\n",
              "      <td>0</td>\n",
              "      <td>1</td>\n",
              "    </tr>\n",
              "    <tr>\n",
              "      <th>2</th>\n",
              "      <td>0</td>\n",
              "      <td>0</td>\n",
              "      <td>0</td>\n",
              "      <td>0</td>\n",
              "      <td>0</td>\n",
              "      <td>1</td>\n",
              "    </tr>\n",
              "    <tr>\n",
              "      <th>3</th>\n",
              "      <td>0</td>\n",
              "      <td>0</td>\n",
              "      <td>0</td>\n",
              "      <td>0</td>\n",
              "      <td>0</td>\n",
              "      <td>1</td>\n",
              "    </tr>\n",
              "    <tr>\n",
              "      <th>4</th>\n",
              "      <td>0</td>\n",
              "      <td>0</td>\n",
              "      <td>0</td>\n",
              "      <td>0</td>\n",
              "      <td>0</td>\n",
              "      <td>1</td>\n",
              "    </tr>\n",
              "  </tbody>\n",
              "</table>\n",
              "</div>"
            ],
            "text/plain": [
              "   type_Movie  type_Music  type_ONA  type_OVA  type_Special  type_TV\n",
              "0           1           0         0         0             0        0\n",
              "1           0           0         0         0             0        1\n",
              "2           0           0         0         0             0        1\n",
              "3           0           0         0         0             0        1\n",
              "4           0           0         0         0             0        1"
            ]
          },
          "metadata": {
            "tags": []
          },
          "execution_count": 14
        }
      ]
    },
    {
      "cell_type": "code",
      "metadata": {
        "id": "Y9aWw7FtJqB6",
        "colab_type": "code",
        "colab": {
          "base_uri": "https://localhost:8080/",
          "height": 34
        },
        "outputId": "480f2c71-ded1-4957-e393-0c994c607f42"
      },
      "source": [
        "anime[\"members\"] = anime[\"members\"].astype(float)\n",
        "type(anime[\"members\"][0])"
      ],
      "execution_count": 15,
      "outputs": [
        {
          "output_type": "execute_result",
          "data": {
            "text/plain": [
              "numpy.float64"
            ]
          },
          "metadata": {
            "tags": []
          },
          "execution_count": 15
        }
      ]
    },
    {
      "cell_type": "code",
      "metadata": {
        "id": "xHrprYacJqCB",
        "colab_type": "code",
        "colab": {
          "base_uri": "https://localhost:8080/",
          "height": 34
        },
        "outputId": "ee711484-e967-42ad-d87b-700cd7f8c387"
      },
      "source": [
        "anime.columns"
      ],
      "execution_count": 16,
      "outputs": [
        {
          "output_type": "execute_result",
          "data": {
            "text/plain": [
              "Index(['anime_id', 'name', 'genre', 'type', 'episodes', 'rating', 'members'], dtype='object')"
            ]
          },
          "metadata": {
            "tags": []
          },
          "execution_count": 16
        }
      ]
    },
    {
      "cell_type": "markdown",
      "metadata": {
        "id": "sQQj33SnJqCH",
        "colab_type": "text"
      },
      "source": [
        "## Membangun Features"
      ]
    },
    {
      "cell_type": "code",
      "metadata": {
        "id": "NRXpmbpUJqCI",
        "colab_type": "code",
        "colab": {}
      },
      "source": [
        "# Merubah genre ke features\n",
        "anime_features = pd.concat([anime[\"genre\"].str.get_dummies(sep=\",\"),\n",
        "    pd.get_dummies(anime[[\"type\"]]),\n",
        "    anime[[\"rating\"]],anime[[\"members\"]],\n",
        "    anime[\"episodes\"]],axis=1)"
      ],
      "execution_count": 0,
      "outputs": []
    },
    {
      "cell_type": "code",
      "metadata": {
        "id": "MuIZcQl1JqCL",
        "colab_type": "code",
        "colab": {
          "base_uri": "https://localhost:8080/",
          "height": 306
        },
        "outputId": "c45f9eb6-b4cc-4a56-866d-82c5270971b4"
      },
      "source": [
        "anime_features.columns"
      ],
      "execution_count": 18,
      "outputs": [
        {
          "output_type": "execute_result",
          "data": {
            "text/plain": [
              "Index([' Adventure', ' Cars', ' Comedy', ' Dementia', ' Demons', ' Drama',\n",
              "       ' Ecchi', ' Fantasy', ' Game', ' Harem', ' Hentai', ' Historical',\n",
              "       ' Horror', ' Josei', ' Kids', ' Magic', ' Martial Arts', ' Mecha',\n",
              "       ' Military', ' Music', ' Mystery', ' Parody', ' Police',\n",
              "       ' Psychological', ' Romance', ' Samurai', ' School', ' Sci-Fi',\n",
              "       ' Seinen', ' Shoujo', ' Shoujo Ai', ' Shounen', ' Shounen Ai',\n",
              "       ' Slice of Life', ' Space', ' Sports', ' Super Power', ' Supernatural',\n",
              "       ' Thriller', ' Vampire', ' Yaoi', ' Yuri', 'Action', 'Adventure',\n",
              "       'Cars', 'Comedy', 'Dementia', 'Demons', 'Drama', 'Ecchi', 'Fantasy',\n",
              "       'Game', 'Harem', 'Hentai', 'Historical', 'Horror', 'Josei', 'Kids',\n",
              "       'Magic', 'Martial Arts', 'Mecha', 'Military', 'Music', 'Mystery',\n",
              "       'Parody', 'Police', 'Psychological', 'Romance', 'Samurai', 'School',\n",
              "       'Sci-Fi', 'Seinen', 'Shoujo', 'Shounen', 'Slice of Life', 'Space',\n",
              "       'Sports', 'Super Power', 'Supernatural', 'Thriller', 'Vampire', 'Yaoi',\n",
              "       'type_Movie', 'type_Music', 'type_ONA', 'type_OVA', 'type_Special',\n",
              "       'type_TV', 'rating', 'members', 'episodes'],\n",
              "      dtype='object')"
            ]
          },
          "metadata": {
            "tags": []
          },
          "execution_count": 18
        }
      ]
    },
    {
      "cell_type": "code",
      "metadata": {
        "id": "gQzOtf3VJqCP",
        "colab_type": "code",
        "colab": {}
      },
      "source": [
        "# Scaling the data\n",
        "from sklearn.preprocessing import StandardScaler\n",
        "scale = StandardScaler()\n",
        "anime_features = scale.fit_transform(anime_features)"
      ],
      "execution_count": 0,
      "outputs": []
    },
    {
      "cell_type": "markdown",
      "metadata": {
        "id": "ISsRashiJqCT",
        "colab_type": "text"
      },
      "source": [
        "## Penerapan KNN"
      ]
    },
    {
      "cell_type": "code",
      "metadata": {
        "id": "0LKIbv8uJqCU",
        "colab_type": "code",
        "colab": {}
      },
      "source": [
        "# KNN algorithm menemukan 11 data terdekat\n",
        "from sklearn.neighbors import NearestNeighbors\n",
        "nbrs = NearestNeighbors(n_neighbors=6).fit(anime_features)\n",
        "distances, indices = nbrs.kneighbors(anime_features)"
      ],
      "execution_count": 0,
      "outputs": []
    },
    {
      "cell_type": "code",
      "metadata": {
        "id": "Ngw-3vTyJqCc",
        "colab_type": "code",
        "colab": {}
      },
      "source": [
        "def get_index_from_name(name):\n",
        "    return anime[anime[\"name\"]==name].index.tolist()[0]"
      ],
      "execution_count": 0,
      "outputs": []
    },
    {
      "cell_type": "code",
      "metadata": {
        "id": "EpbJQbrlJqCg",
        "colab_type": "code",
        "colab": {
          "base_uri": "https://localhost:8080/",
          "height": 34
        },
        "outputId": "c616ae13-c70b-4196-c1d7-03e3c2f3dcda"
      },
      "source": [
        "get_index_from_name('Pinkerton')"
      ],
      "execution_count": 22,
      "outputs": [
        {
          "output_type": "execute_result",
          "data": {
            "text/plain": [
              "11426"
            ]
          },
          "metadata": {
            "tags": []
          },
          "execution_count": 22
        }
      ]
    },
    {
      "cell_type": "code",
      "metadata": {
        "id": "7oWbtSlQJqCm",
        "colab_type": "code",
        "colab": {}
      },
      "source": [
        "all_anime_names = list(anime.name.values)"
      ],
      "execution_count": 0,
      "outputs": []
    },
    {
      "cell_type": "code",
      "metadata": {
        "id": "k65saX3TJqCp",
        "colab_type": "code",
        "colab": {}
      },
      "source": [
        "# Function mendapatkan id dari pencarian judul\n",
        "def get_id_from_partial_name(partial):\n",
        "    flag=0\n",
        "    for name in all_anime_names:\n",
        "        if partial.lower() in name.lower():\n",
        "            print(name,\", ID = \",all_anime_names.index(name))\n",
        "            flag=1\n",
        "            \n",
        "    if(flag==0):\n",
        "        print(\"No such anime found\")"
      ],
      "execution_count": 0,
      "outputs": []
    },
    {
      "cell_type": "code",
      "metadata": {
        "id": "uwrxp0hNJqCt",
        "colab_type": "code",
        "colab": {}
      },
      "source": [
        "# Function memberikan 10 data rekomendasi berdasar id/judul\n",
        "def get_recommendation_from_name(query):\n",
        "        found_id = get_index_from_name(query)\n",
        "        print(anime.iloc[found_id][\"name\"],\"-\",anime.iloc[found_id][\"genre\"],\" >> \")\n",
        "        for id in indices[found_id][1:]:\n",
        "            print(anime.iloc[id][\"name\"],\"-\",anime.iloc[id][\"genre\"])\n",
        "            \n",
        "def get_recommendation_from_id(num):\n",
        "    print(anime.iloc[num][\"name\"],\"-\",anime.iloc[num][\"genre\"],\" >> \")\n",
        "    for num in indices[num][1:]:\n",
        "            print(anime.iloc[num][\"name\"],\"-\",anime.iloc[num][\"genre\"])"
      ],
      "execution_count": 0,
      "outputs": []
    },
    {
      "cell_type": "markdown",
      "metadata": {
        "id": "E1FlevBQJqCw",
        "colab_type": "text"
      },
      "source": [
        "## Ujicoba dengan data"
      ]
    },
    {
      "cell_type": "code",
      "metadata": {
        "id": "t4zE74uLJqCx",
        "colab_type": "code",
        "colab": {
          "base_uri": "https://localhost:8080/",
          "height": 85
        },
        "outputId": "20fd1c73-1750-49fa-ce8a-46dab5f3b792"
      },
      "source": [
        "get_id_from_partial_name(\"Cowboy\")"
      ],
      "execution_count": 26,
      "outputs": [
        {
          "output_type": "stream",
          "text": [
            "Cowboy Bebop , ID =  22\n",
            "Cowboy Bebop: Tengoku no Tobira , ID =  152\n",
            "Cowboy Bebop: Yose Atsume Blues , ID =  1465\n",
            "Cowboy Bebop: Ein no Natsuyasumi , ID =  5815\n"
          ],
          "name": "stdout"
        }
      ]
    },
    {
      "cell_type": "code",
      "metadata": {
        "id": "zqh_tS9_JqC1",
        "colab_type": "code",
        "colab": {
          "base_uri": "https://localhost:8080/",
          "height": 119
        },
        "outputId": "13017941-ea96-4c4b-fe2e-3761209694a9"
      },
      "source": [
        "get_recommendation_from_name(\"Cowboy Bebop\")"
      ],
      "execution_count": 27,
      "outputs": [
        {
          "output_type": "stream",
          "text": [
            "Cowboy Bebop - Action, Adventure, Comedy, Drama, Sci-Fi, Space  >> \n",
            "Tengen Toppa Gurren Lagann - Action, Adventure, Comedy, Mecha, Sci-Fi\n",
            "Seihou Bukyou Outlaw Star - Action, Adventure, Comedy, Sci-Fi, Space\n",
            "Akame ga Kill! - Action, Adventure, Fantasy\n",
            "D.Gray-man - Action, Adventure, Comedy, Shounen\n",
            "Trigun - Action, Comedy, Sci-Fi\n"
          ],
          "name": "stdout"
        }
      ]
    },
    {
      "cell_type": "code",
      "metadata": {
        "id": "If4WDvNvJqC5",
        "colab_type": "code",
        "colab": {
          "base_uri": "https://localhost:8080/",
          "height": 119
        },
        "outputId": "c3929e65-058e-4e1e-e3d5-6d5fe0cd854a"
      },
      "source": [
        "get_recommendation_from_id(22)"
      ],
      "execution_count": 28,
      "outputs": [
        {
          "output_type": "stream",
          "text": [
            "Cowboy Bebop - Action, Adventure, Comedy, Drama, Sci-Fi, Space  >> \n",
            "Tengen Toppa Gurren Lagann - Action, Adventure, Comedy, Mecha, Sci-Fi\n",
            "Seihou Bukyou Outlaw Star - Action, Adventure, Comedy, Sci-Fi, Space\n",
            "Akame ga Kill! - Action, Adventure, Fantasy\n",
            "D.Gray-man - Action, Adventure, Comedy, Shounen\n",
            "Trigun - Action, Comedy, Sci-Fi\n"
          ],
          "name": "stdout"
        }
      ]
    }
  ]
}