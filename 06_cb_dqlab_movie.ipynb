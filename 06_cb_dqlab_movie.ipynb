{
 "cells": [
  {
   "cell_type": "markdown",
   "metadata": {},
   "source": [
    "# Sistem Rekomendasi Film\n",
    "Dalam kasus ini, kita akan menggunakan kombinasi antara rata-rata rating, jumlah vote, dan membentuk metric baru dari metric yang sudah ada, kemudian kita akan melakukan sorting untuk metric ini dari yang tertinggi ke terendah."
   ]
  },
  {
   "cell_type": "markdown",
   "metadata": {},
   "source": [
    "<img src=\"http://localhost:8888/notebooks/OneDrive/Documents/DM-ML/CB%20RS/weight-avg.png\"/>\n",
    "\n",
    "\n",
    "dimana:<br />\n",
    "\n",
    "v: jumlah votes untuk film tersebut<br />\n",
    "m: jumlah minimum votes yang dibutuhkan supaya dapat masuk dalam chart<br />\n",
    "R: rata-rata rating dari film tersebut<br />\n",
    "C: rata-rata jumlah votes dari seluruh semesta film<br />"
   ]
  },
  {
   "cell_type": "code",
   "execution_count": 1,
   "metadata": {},
   "outputs": [],
   "source": [
    "import pandas as pd\n",
    "import numpy as np"
   ]
  },
  {
   "cell_type": "code",
   "execution_count": 2,
   "metadata": {},
   "outputs": [],
   "source": [
    "# Membaca dataset\n",
    "movie_df = pd.read_csv('title.basics.tsv', sep='\\t') #untuk menyimpan title_basics.tsv\n",
    "rating_df = pd.read_csv('title.ratings.tsv', sep='\\t') #untuk menyimpan title.ratings.tsv"
   ]
  },
  {
   "cell_type": "code",
   "execution_count": 3,
   "metadata": {},
   "outputs": [
    {
     "data": {
      "text/html": [
       "<div>\n",
       "<style scoped>\n",
       "    .dataframe tbody tr th:only-of-type {\n",
       "        vertical-align: middle;\n",
       "    }\n",
       "\n",
       "    .dataframe tbody tr th {\n",
       "        vertical-align: top;\n",
       "    }\n",
       "\n",
       "    .dataframe thead th {\n",
       "        text-align: right;\n",
       "    }\n",
       "</style>\n",
       "<table border=\"1\" class=\"dataframe\">\n",
       "  <thead>\n",
       "    <tr style=\"text-align: right;\">\n",
       "      <th></th>\n",
       "      <th>tconst</th>\n",
       "      <th>titleType</th>\n",
       "      <th>primaryTitle</th>\n",
       "      <th>originalTitle</th>\n",
       "      <th>isAdult</th>\n",
       "      <th>startYear</th>\n",
       "      <th>endYear</th>\n",
       "      <th>runtimeMinutes</th>\n",
       "      <th>genres</th>\n",
       "    </tr>\n",
       "  </thead>\n",
       "  <tbody>\n",
       "    <tr>\n",
       "      <th>0</th>\n",
       "      <td>tt0221078</td>\n",
       "      <td>short</td>\n",
       "      <td>Circle Dance, Ute Indians</td>\n",
       "      <td>Circle Dance, Ute Indians</td>\n",
       "      <td>0</td>\n",
       "      <td>1898</td>\n",
       "      <td>\\N</td>\n",
       "      <td>\\N</td>\n",
       "      <td>Documentary,Short</td>\n",
       "    </tr>\n",
       "    <tr>\n",
       "      <th>1</th>\n",
       "      <td>tt8862466</td>\n",
       "      <td>tvEpisode</td>\n",
       "      <td>¡El #TeamOsos va con todo al \"Reality del amor\"!</td>\n",
       "      <td>¡El #TeamOsos va con todo al \"Reality del amor\"!</td>\n",
       "      <td>0</td>\n",
       "      <td>2018</td>\n",
       "      <td>\\N</td>\n",
       "      <td>\\N</td>\n",
       "      <td>Comedy,Drama</td>\n",
       "    </tr>\n",
       "    <tr>\n",
       "      <th>2</th>\n",
       "      <td>tt7157720</td>\n",
       "      <td>tvEpisode</td>\n",
       "      <td>Episode #3.41</td>\n",
       "      <td>Episode #3.41</td>\n",
       "      <td>0</td>\n",
       "      <td>2016</td>\n",
       "      <td>\\N</td>\n",
       "      <td>29</td>\n",
       "      <td>Comedy,Game-Show</td>\n",
       "    </tr>\n",
       "    <tr>\n",
       "      <th>3</th>\n",
       "      <td>tt2974998</td>\n",
       "      <td>tvEpisode</td>\n",
       "      <td>Episode dated 16 May 1987</td>\n",
       "      <td>Episode dated 16 May 1987</td>\n",
       "      <td>0</td>\n",
       "      <td>1987</td>\n",
       "      <td>\\N</td>\n",
       "      <td>\\N</td>\n",
       "      <td>News</td>\n",
       "    </tr>\n",
       "    <tr>\n",
       "      <th>4</th>\n",
       "      <td>tt2903620</td>\n",
       "      <td>tvEpisode</td>\n",
       "      <td>Frances Bavier: Aunt Bee Retires</td>\n",
       "      <td>Frances Bavier: Aunt Bee Retires</td>\n",
       "      <td>0</td>\n",
       "      <td>1973</td>\n",
       "      <td>\\N</td>\n",
       "      <td>\\N</td>\n",
       "      <td>Documentary</td>\n",
       "    </tr>\n",
       "  </tbody>\n",
       "</table>\n",
       "</div>"
      ],
      "text/plain": [
       "      tconst  titleType                                      primaryTitle  \\\n",
       "0  tt0221078      short                         Circle Dance, Ute Indians   \n",
       "1  tt8862466  tvEpisode  ¡El #TeamOsos va con todo al \"Reality del amor\"!   \n",
       "2  tt7157720  tvEpisode                                     Episode #3.41   \n",
       "3  tt2974998  tvEpisode                         Episode dated 16 May 1987   \n",
       "4  tt2903620  tvEpisode                  Frances Bavier: Aunt Bee Retires   \n",
       "\n",
       "                                      originalTitle  isAdult startYear  \\\n",
       "0                         Circle Dance, Ute Indians        0      1898   \n",
       "1  ¡El #TeamOsos va con todo al \"Reality del amor\"!        0      2018   \n",
       "2                                     Episode #3.41        0      2016   \n",
       "3                         Episode dated 16 May 1987        0      1987   \n",
       "4                  Frances Bavier: Aunt Bee Retires        0      1973   \n",
       "\n",
       "  endYear runtimeMinutes             genres  \n",
       "0      \\N             \\N  Documentary,Short  \n",
       "1      \\N             \\N       Comedy,Drama  \n",
       "2      \\N             29   Comedy,Game-Show  \n",
       "3      \\N             \\N               News  \n",
       "4      \\N             \\N        Documentary  "
      ]
     },
     "execution_count": 3,
     "metadata": {},
     "output_type": "execute_result"
    }
   ],
   "source": [
    "movie_df.head()"
   ]
  },
  {
   "cell_type": "code",
   "execution_count": 4,
   "metadata": {},
   "outputs": [
    {
     "name": "stdout",
     "output_type": "stream",
     "text": [
      "<class 'pandas.core.frame.DataFrame'>\n",
      "RangeIndex: 9025 entries, 0 to 9024\n",
      "Data columns (total 9 columns):\n",
      " #   Column          Non-Null Count  Dtype \n",
      "---  ------          --------------  ----- \n",
      " 0   tconst          9025 non-null   object\n",
      " 1   titleType       9025 non-null   object\n",
      " 2   primaryTitle    9011 non-null   object\n",
      " 3   originalTitle   9011 non-null   object\n",
      " 4   isAdult         9025 non-null   int64 \n",
      " 5   startYear       9025 non-null   object\n",
      " 6   endYear         9025 non-null   object\n",
      " 7   runtimeMinutes  9025 non-null   object\n",
      " 8   genres          9014 non-null   object\n",
      "dtypes: int64(1), object(8)\n",
      "memory usage: 634.7+ KB\n"
     ]
    }
   ],
   "source": [
    "movie_df.info()"
   ]
  },
  {
   "cell_type": "code",
   "execution_count": 5,
   "metadata": {},
   "outputs": [
    {
     "data": {
      "text/plain": [
       "tconst             0\n",
       "titleType          0\n",
       "primaryTitle      14\n",
       "originalTitle     14\n",
       "isAdult            0\n",
       "startYear          0\n",
       "endYear            0\n",
       "runtimeMinutes     0\n",
       "genres            11\n",
       "dtype: int64"
      ]
     },
     "execution_count": 5,
     "metadata": {},
     "output_type": "execute_result"
    }
   ],
   "source": [
    "# Pengecekan Data dengan Nilai NULL\n",
    "movie_df.isnull().sum()"
   ]
  },
  {
   "cell_type": "code",
   "execution_count": 6,
   "metadata": {},
   "outputs": [
    {
     "data": {
      "text/html": [
       "<div>\n",
       "<style scoped>\n",
       "    .dataframe tbody tr th:only-of-type {\n",
       "        vertical-align: middle;\n",
       "    }\n",
       "\n",
       "    .dataframe tbody tr th {\n",
       "        vertical-align: top;\n",
       "    }\n",
       "\n",
       "    .dataframe thead th {\n",
       "        text-align: right;\n",
       "    }\n",
       "</style>\n",
       "<table border=\"1\" class=\"dataframe\">\n",
       "  <thead>\n",
       "    <tr style=\"text-align: right;\">\n",
       "      <th></th>\n",
       "      <th>tconst</th>\n",
       "      <th>titleType</th>\n",
       "      <th>primaryTitle</th>\n",
       "      <th>originalTitle</th>\n",
       "      <th>isAdult</th>\n",
       "      <th>startYear</th>\n",
       "      <th>endYear</th>\n",
       "      <th>runtimeMinutes</th>\n",
       "      <th>genres</th>\n",
       "    </tr>\n",
       "  </thead>\n",
       "  <tbody>\n",
       "    <tr>\n",
       "      <th>9000</th>\n",
       "      <td>tt10790040</td>\n",
       "      <td>tvEpisode</td>\n",
       "      <td>NaN</td>\n",
       "      <td>NaN</td>\n",
       "      <td>0</td>\n",
       "      <td>2019</td>\n",
       "      <td>\\N</td>\n",
       "      <td>\\N</td>\n",
       "      <td>\\N</td>\n",
       "    </tr>\n",
       "    <tr>\n",
       "      <th>9001</th>\n",
       "      <td>tt10891902</td>\n",
       "      <td>tvEpisode</td>\n",
       "      <td>NaN</td>\n",
       "      <td>NaN</td>\n",
       "      <td>0</td>\n",
       "      <td>2020</td>\n",
       "      <td>\\N</td>\n",
       "      <td>\\N</td>\n",
       "      <td>Crime</td>\n",
       "    </tr>\n",
       "    <tr>\n",
       "      <th>9002</th>\n",
       "      <td>tt11737860</td>\n",
       "      <td>tvEpisode</td>\n",
       "      <td>NaN</td>\n",
       "      <td>NaN</td>\n",
       "      <td>0</td>\n",
       "      <td>2020</td>\n",
       "      <td>\\N</td>\n",
       "      <td>\\N</td>\n",
       "      <td>Comedy,Drama,Romance</td>\n",
       "    </tr>\n",
       "    <tr>\n",
       "      <th>9003</th>\n",
       "      <td>tt11737862</td>\n",
       "      <td>tvEpisode</td>\n",
       "      <td>NaN</td>\n",
       "      <td>NaN</td>\n",
       "      <td>0</td>\n",
       "      <td>2020</td>\n",
       "      <td>\\N</td>\n",
       "      <td>\\N</td>\n",
       "      <td>Comedy,Drama,Romance</td>\n",
       "    </tr>\n",
       "    <tr>\n",
       "      <th>9004</th>\n",
       "      <td>tt11737866</td>\n",
       "      <td>tvEpisode</td>\n",
       "      <td>NaN</td>\n",
       "      <td>NaN</td>\n",
       "      <td>0</td>\n",
       "      <td>2020</td>\n",
       "      <td>\\N</td>\n",
       "      <td>\\N</td>\n",
       "      <td>Comedy,Drama,Romance</td>\n",
       "    </tr>\n",
       "    <tr>\n",
       "      <th>9005</th>\n",
       "      <td>tt11737872</td>\n",
       "      <td>tvEpisode</td>\n",
       "      <td>NaN</td>\n",
       "      <td>NaN</td>\n",
       "      <td>0</td>\n",
       "      <td>2020</td>\n",
       "      <td>\\N</td>\n",
       "      <td>\\N</td>\n",
       "      <td>\\N</td>\n",
       "    </tr>\n",
       "    <tr>\n",
       "      <th>9006</th>\n",
       "      <td>tt11737874</td>\n",
       "      <td>tvEpisode</td>\n",
       "      <td>NaN</td>\n",
       "      <td>NaN</td>\n",
       "      <td>0</td>\n",
       "      <td>2020</td>\n",
       "      <td>\\N</td>\n",
       "      <td>\\N</td>\n",
       "      <td>Comedy,Drama,Romance</td>\n",
       "    </tr>\n",
       "    <tr>\n",
       "      <th>9007</th>\n",
       "      <td>tt1971246</td>\n",
       "      <td>tvEpisode</td>\n",
       "      <td>NaN</td>\n",
       "      <td>NaN</td>\n",
       "      <td>0</td>\n",
       "      <td>2011</td>\n",
       "      <td>\\N</td>\n",
       "      <td>\\N</td>\n",
       "      <td>Biography</td>\n",
       "    </tr>\n",
       "    <tr>\n",
       "      <th>9008</th>\n",
       "      <td>tt2067043</td>\n",
       "      <td>tvEpisode</td>\n",
       "      <td>NaN</td>\n",
       "      <td>NaN</td>\n",
       "      <td>0</td>\n",
       "      <td>1965</td>\n",
       "      <td>\\N</td>\n",
       "      <td>\\N</td>\n",
       "      <td>Music</td>\n",
       "    </tr>\n",
       "    <tr>\n",
       "      <th>9009</th>\n",
       "      <td>tt4404732</td>\n",
       "      <td>tvEpisode</td>\n",
       "      <td>NaN</td>\n",
       "      <td>NaN</td>\n",
       "      <td>0</td>\n",
       "      <td>2015</td>\n",
       "      <td>\\N</td>\n",
       "      <td>\\N</td>\n",
       "      <td>Comedy</td>\n",
       "    </tr>\n",
       "    <tr>\n",
       "      <th>9010</th>\n",
       "      <td>tt5773048</td>\n",
       "      <td>tvEpisode</td>\n",
       "      <td>NaN</td>\n",
       "      <td>NaN</td>\n",
       "      <td>0</td>\n",
       "      <td>2015</td>\n",
       "      <td>\\N</td>\n",
       "      <td>\\N</td>\n",
       "      <td>Talk-Show</td>\n",
       "    </tr>\n",
       "    <tr>\n",
       "      <th>9011</th>\n",
       "      <td>tt8473688</td>\n",
       "      <td>tvEpisode</td>\n",
       "      <td>NaN</td>\n",
       "      <td>NaN</td>\n",
       "      <td>0</td>\n",
       "      <td>1987</td>\n",
       "      <td>\\N</td>\n",
       "      <td>\\N</td>\n",
       "      <td>Drama</td>\n",
       "    </tr>\n",
       "    <tr>\n",
       "      <th>9012</th>\n",
       "      <td>tt8541336</td>\n",
       "      <td>tvEpisode</td>\n",
       "      <td>NaN</td>\n",
       "      <td>NaN</td>\n",
       "      <td>0</td>\n",
       "      <td>2018</td>\n",
       "      <td>\\N</td>\n",
       "      <td>\\N</td>\n",
       "      <td>Reality-TV,Romance</td>\n",
       "    </tr>\n",
       "    <tr>\n",
       "      <th>9013</th>\n",
       "      <td>tt9824302</td>\n",
       "      <td>tvEpisode</td>\n",
       "      <td>NaN</td>\n",
       "      <td>NaN</td>\n",
       "      <td>0</td>\n",
       "      <td>2016</td>\n",
       "      <td>\\N</td>\n",
       "      <td>\\N</td>\n",
       "      <td>Documentary</td>\n",
       "    </tr>\n",
       "  </tbody>\n",
       "</table>\n",
       "</div>"
      ],
      "text/plain": [
       "          tconst  titleType primaryTitle originalTitle  isAdult startYear  \\\n",
       "9000  tt10790040  tvEpisode          NaN           NaN        0      2019   \n",
       "9001  tt10891902  tvEpisode          NaN           NaN        0      2020   \n",
       "9002  tt11737860  tvEpisode          NaN           NaN        0      2020   \n",
       "9003  tt11737862  tvEpisode          NaN           NaN        0      2020   \n",
       "9004  tt11737866  tvEpisode          NaN           NaN        0      2020   \n",
       "9005  tt11737872  tvEpisode          NaN           NaN        0      2020   \n",
       "9006  tt11737874  tvEpisode          NaN           NaN        0      2020   \n",
       "9007   tt1971246  tvEpisode          NaN           NaN        0      2011   \n",
       "9008   tt2067043  tvEpisode          NaN           NaN        0      1965   \n",
       "9009   tt4404732  tvEpisode          NaN           NaN        0      2015   \n",
       "9010   tt5773048  tvEpisode          NaN           NaN        0      2015   \n",
       "9011   tt8473688  tvEpisode          NaN           NaN        0      1987   \n",
       "9012   tt8541336  tvEpisode          NaN           NaN        0      2018   \n",
       "9013   tt9824302  tvEpisode          NaN           NaN        0      2016   \n",
       "\n",
       "     endYear runtimeMinutes                genres  \n",
       "9000      \\N             \\N                    \\N  \n",
       "9001      \\N             \\N                 Crime  \n",
       "9002      \\N             \\N  Comedy,Drama,Romance  \n",
       "9003      \\N             \\N  Comedy,Drama,Romance  \n",
       "9004      \\N             \\N  Comedy,Drama,Romance  \n",
       "9005      \\N             \\N                    \\N  \n",
       "9006      \\N             \\N  Comedy,Drama,Romance  \n",
       "9007      \\N             \\N             Biography  \n",
       "9008      \\N             \\N                 Music  \n",
       "9009      \\N             \\N                Comedy  \n",
       "9010      \\N             \\N             Talk-Show  \n",
       "9011      \\N             \\N                 Drama  \n",
       "9012      \\N             \\N    Reality-TV,Romance  \n",
       "9013      \\N             \\N           Documentary  "
      ]
     },
     "execution_count": 6,
     "metadata": {},
     "output_type": "execute_result"
    }
   ],
   "source": [
    "# Analisis Kolom dengan data bernilai NULL\n",
    "movie_df.loc[(movie_df['primaryTitle'].isnull()) | (movie_df['originalTitle'].isnull())]"
   ]
  },
  {
   "cell_type": "code",
   "execution_count": 7,
   "metadata": {},
   "outputs": [
    {
     "data": {
      "text/plain": [
       "9025"
      ]
     },
     "execution_count": 7,
     "metadata": {},
     "output_type": "execute_result"
    }
   ],
   "source": [
    "len(movie_df)"
   ]
  },
  {
   "cell_type": "code",
   "execution_count": 8,
   "metadata": {},
   "outputs": [],
   "source": [
    "# Gunakan data movie dg primaryTitle & orinilaTitle != null\n",
    "movie_df = movie_df.loc[(movie_df['primaryTitle'].notnull()) & (movie_df['originalTitle'].notnull())]"
   ]
  },
  {
   "cell_type": "code",
   "execution_count": 9,
   "metadata": {},
   "outputs": [
    {
     "data": {
      "text/plain": [
       "9011"
      ]
     },
     "execution_count": 9,
     "metadata": {},
     "output_type": "execute_result"
    }
   ],
   "source": [
    "len(movie_df)"
   ]
  },
  {
   "cell_type": "code",
   "execution_count": 10,
   "metadata": {},
   "outputs": [
    {
     "data": {
      "text/html": [
       "<div>\n",
       "<style scoped>\n",
       "    .dataframe tbody tr th:only-of-type {\n",
       "        vertical-align: middle;\n",
       "    }\n",
       "\n",
       "    .dataframe tbody tr th {\n",
       "        vertical-align: top;\n",
       "    }\n",
       "\n",
       "    .dataframe thead th {\n",
       "        text-align: right;\n",
       "    }\n",
       "</style>\n",
       "<table border=\"1\" class=\"dataframe\">\n",
       "  <thead>\n",
       "    <tr style=\"text-align: right;\">\n",
       "      <th></th>\n",
       "      <th>tconst</th>\n",
       "      <th>titleType</th>\n",
       "      <th>primaryTitle</th>\n",
       "      <th>originalTitle</th>\n",
       "      <th>isAdult</th>\n",
       "      <th>startYear</th>\n",
       "      <th>endYear</th>\n",
       "      <th>runtimeMinutes</th>\n",
       "      <th>genres</th>\n",
       "    </tr>\n",
       "  </thead>\n",
       "  <tbody>\n",
       "    <tr>\n",
       "      <th>9014</th>\n",
       "      <td>tt10233364</td>\n",
       "      <td>tvEpisode</td>\n",
       "      <td>Rolling in the Deep Dish\\tRolling in the Deep ...</td>\n",
       "      <td>0</td>\n",
       "      <td>2019</td>\n",
       "      <td>\\N</td>\n",
       "      <td>\\N</td>\n",
       "      <td>Reality-TV</td>\n",
       "      <td>NaN</td>\n",
       "    </tr>\n",
       "    <tr>\n",
       "      <th>9015</th>\n",
       "      <td>tt10925142</td>\n",
       "      <td>tvEpisode</td>\n",
       "      <td>The IMDb Show on Location: Star Wars Galaxy's ...</td>\n",
       "      <td>0</td>\n",
       "      <td>2019</td>\n",
       "      <td>\\N</td>\n",
       "      <td>\\N</td>\n",
       "      <td>Talk-Show</td>\n",
       "      <td>NaN</td>\n",
       "    </tr>\n",
       "    <tr>\n",
       "      <th>9016</th>\n",
       "      <td>tt10970874</td>\n",
       "      <td>tvEpisode</td>\n",
       "      <td>Die Bauhaus-Stadt Tel Aviv - Vorbild für die M...</td>\n",
       "      <td>0</td>\n",
       "      <td>2019</td>\n",
       "      <td>\\N</td>\n",
       "      <td>\\N</td>\n",
       "      <td>\\N</td>\n",
       "      <td>NaN</td>\n",
       "    </tr>\n",
       "    <tr>\n",
       "      <th>9017</th>\n",
       "      <td>tt11670006</td>\n",
       "      <td>tvEpisode</td>\n",
       "      <td>...ein angenehmer Unbequemer...\\t...ein angene...</td>\n",
       "      <td>0</td>\n",
       "      <td>1981</td>\n",
       "      <td>\\N</td>\n",
       "      <td>\\N</td>\n",
       "      <td>Documentary</td>\n",
       "      <td>NaN</td>\n",
       "    </tr>\n",
       "    <tr>\n",
       "      <th>9018</th>\n",
       "      <td>tt11868642</td>\n",
       "      <td>tvEpisode</td>\n",
       "      <td>GGN Heavyweight Championship Lungs With Mike T...</td>\n",
       "      <td>0</td>\n",
       "      <td>2020</td>\n",
       "      <td>\\N</td>\n",
       "      <td>\\N</td>\n",
       "      <td>Talk-Show</td>\n",
       "      <td>NaN</td>\n",
       "    </tr>\n",
       "    <tr>\n",
       "      <th>9019</th>\n",
       "      <td>tt2347742</td>\n",
       "      <td>tvEpisode</td>\n",
       "      <td>No sufras por la alergia esta primavera\\tNo su...</td>\n",
       "      <td>0</td>\n",
       "      <td>2004</td>\n",
       "      <td>\\N</td>\n",
       "      <td>\\N</td>\n",
       "      <td>\\N</td>\n",
       "      <td>NaN</td>\n",
       "    </tr>\n",
       "    <tr>\n",
       "      <th>9020</th>\n",
       "      <td>tt3984412</td>\n",
       "      <td>tvEpisode</td>\n",
       "      <td>I'm Not Going to Come Last, I'm Just Going to ...</td>\n",
       "      <td>0</td>\n",
       "      <td>2014</td>\n",
       "      <td>\\N</td>\n",
       "      <td>\\N</td>\n",
       "      <td>Reality-TV</td>\n",
       "      <td>NaN</td>\n",
       "    </tr>\n",
       "    <tr>\n",
       "      <th>9021</th>\n",
       "      <td>tt8740950</td>\n",
       "      <td>tvEpisode</td>\n",
       "      <td>Weight Loss Resolution Restart - Ins &amp; Outs of...</td>\n",
       "      <td>0</td>\n",
       "      <td>2015</td>\n",
       "      <td>\\N</td>\n",
       "      <td>\\N</td>\n",
       "      <td>Reality-TV</td>\n",
       "      <td>NaN</td>\n",
       "    </tr>\n",
       "    <tr>\n",
       "      <th>9022</th>\n",
       "      <td>tt9822816</td>\n",
       "      <td>tvEpisode</td>\n",
       "      <td>Zwischen Vertuschung und Aufklärung - Missbrau...</td>\n",
       "      <td>0</td>\n",
       "      <td>2019</td>\n",
       "      <td>\\N</td>\n",
       "      <td>\\N</td>\n",
       "      <td>\\N</td>\n",
       "      <td>NaN</td>\n",
       "    </tr>\n",
       "    <tr>\n",
       "      <th>9023</th>\n",
       "      <td>tt9900062</td>\n",
       "      <td>tvEpisode</td>\n",
       "      <td>The Direction of Yuu's Love: Hings Aren't Goin...</td>\n",
       "      <td>0</td>\n",
       "      <td>1994</td>\n",
       "      <td>\\N</td>\n",
       "      <td>\\N</td>\n",
       "      <td>Animation,Comedy,Drama</td>\n",
       "      <td>NaN</td>\n",
       "    </tr>\n",
       "    <tr>\n",
       "      <th>9024</th>\n",
       "      <td>tt9909210</td>\n",
       "      <td>tvEpisode</td>\n",
       "      <td>Politik und/oder Moral - Wie weit geht das Ver...</td>\n",
       "      <td>0</td>\n",
       "      <td>2005</td>\n",
       "      <td>\\N</td>\n",
       "      <td>\\N</td>\n",
       "      <td>\\N</td>\n",
       "      <td>NaN</td>\n",
       "    </tr>\n",
       "  </tbody>\n",
       "</table>\n",
       "</div>"
      ],
      "text/plain": [
       "          tconst  titleType  \\\n",
       "9014  tt10233364  tvEpisode   \n",
       "9015  tt10925142  tvEpisode   \n",
       "9016  tt10970874  tvEpisode   \n",
       "9017  tt11670006  tvEpisode   \n",
       "9018  tt11868642  tvEpisode   \n",
       "9019   tt2347742  tvEpisode   \n",
       "9020   tt3984412  tvEpisode   \n",
       "9021   tt8740950  tvEpisode   \n",
       "9022   tt9822816  tvEpisode   \n",
       "9023   tt9900062  tvEpisode   \n",
       "9024   tt9909210  tvEpisode   \n",
       "\n",
       "                                           primaryTitle originalTitle  \\\n",
       "9014  Rolling in the Deep Dish\\tRolling in the Deep ...             0   \n",
       "9015  The IMDb Show on Location: Star Wars Galaxy's ...             0   \n",
       "9016  Die Bauhaus-Stadt Tel Aviv - Vorbild für die M...             0   \n",
       "9017  ...ein angenehmer Unbequemer...\\t...ein angene...             0   \n",
       "9018  GGN Heavyweight Championship Lungs With Mike T...             0   \n",
       "9019  No sufras por la alergia esta primavera\\tNo su...             0   \n",
       "9020  I'm Not Going to Come Last, I'm Just Going to ...             0   \n",
       "9021  Weight Loss Resolution Restart - Ins & Outs of...             0   \n",
       "9022  Zwischen Vertuschung und Aufklärung - Missbrau...             0   \n",
       "9023  The Direction of Yuu's Love: Hings Aren't Goin...             0   \n",
       "9024  Politik und/oder Moral - Wie weit geht das Ver...             0   \n",
       "\n",
       "      isAdult startYear endYear          runtimeMinutes genres  \n",
       "9014     2019        \\N      \\N              Reality-TV    NaN  \n",
       "9015     2019        \\N      \\N               Talk-Show    NaN  \n",
       "9016     2019        \\N      \\N                      \\N    NaN  \n",
       "9017     1981        \\N      \\N             Documentary    NaN  \n",
       "9018     2020        \\N      \\N               Talk-Show    NaN  \n",
       "9019     2004        \\N      \\N                      \\N    NaN  \n",
       "9020     2014        \\N      \\N              Reality-TV    NaN  \n",
       "9021     2015        \\N      \\N              Reality-TV    NaN  \n",
       "9022     2019        \\N      \\N                      \\N    NaN  \n",
       "9023     1994        \\N      \\N  Animation,Comedy,Drama    NaN  \n",
       "9024     2005        \\N      \\N                      \\N    NaN  "
      ]
     },
     "execution_count": 10,
     "metadata": {},
     "output_type": "execute_result"
    }
   ],
   "source": [
    "# Cek kembali data-data NULL\n",
    "movie_df.loc[movie_df['genres'].isnull()]"
   ]
  },
  {
   "cell_type": "code",
   "execution_count": 11,
   "metadata": {},
   "outputs": [],
   "source": [
    "# Bersihkan data, gunakan genres != null\n",
    "movie_df = movie_df.loc[movie_df['genres'].notnull()]"
   ]
  },
  {
   "cell_type": "code",
   "execution_count": 12,
   "metadata": {},
   "outputs": [
    {
     "data": {
      "text/plain": [
       "9000"
      ]
     },
     "execution_count": 12,
     "metadata": {},
     "output_type": "execute_result"
    }
   ],
   "source": [
    "len(movie_df)"
   ]
  },
  {
   "cell_type": "code",
   "execution_count": 13,
   "metadata": {},
   "outputs": [
    {
     "name": "stdout",
     "output_type": "stream",
     "text": [
      "[1898. 2018. 2016. 1987. 1973.]\n",
      "[  nan 2005. 1955. 2006. 1999.]\n",
      "[nan 29.  7. 23. 85.]\n"
     ]
    }
   ],
   "source": [
    "#mengubah nilai '\\\\N' pada startYear menjadi np.nan dan cast kolomnya menjadi float64\n",
    "movie_df['startYear'] = movie_df['startYear'].replace('\\\\N',np.nan)\n",
    "movie_df['startYear'] = movie_df['startYear'].astype('float64') \n",
    "print(movie_df['startYear'].unique()[:5])\n",
    "\n",
    "#mengubah nilai '\\\\N' pada endYear menjadi np.nan dan cast kolomnya menjadi float64\n",
    "movie_df['endYear'] = movie_df['endYear'].replace('\\\\N',np.nan)\n",
    "movie_df['endYear'] = movie_df['endYear'].astype('float64') \n",
    "print(movie_df['endYear'].unique()[:5])\n",
    "\n",
    "#mengubah nilai '\\\\N' pada runtimeMinutes menjadi np.nan dan cast kolomnya menjadi float64\n",
    "movie_df['runtimeMinutes'] = movie_df['runtimeMinutes'].replace('\\\\N',np.nan)\n",
    "movie_df['runtimeMinutes'] = movie_df['runtimeMinutes'].astype('float64') \n",
    "print(movie_df['runtimeMinutes'].unique()[:5])"
   ]
  },
  {
   "cell_type": "code",
   "execution_count": 14,
   "metadata": {},
   "outputs": [],
   "source": [
    "# Mengubah nilai genres menjadi list\n",
    "def transform_to_list(x):\n",
    "    if ',' in x: \n",
    "    #ubah menjadi list apabila ada data pada kolom genre\n",
    "        return x.split(',')\n",
    "    else: \n",
    "    #jika tidak ada data, ubah menjadi list kosong\n",
    "        return []\n",
    "\n",
    "movie_df['genres'] = movie_df['genres'].apply(lambda x: transform_to_list(x))"
   ]
  },
  {
   "cell_type": "code",
   "execution_count": 15,
   "metadata": {},
   "outputs": [
    {
     "data": {
      "text/html": [
       "<div>\n",
       "<style scoped>\n",
       "    .dataframe tbody tr th:only-of-type {\n",
       "        vertical-align: middle;\n",
       "    }\n",
       "\n",
       "    .dataframe tbody tr th {\n",
       "        vertical-align: top;\n",
       "    }\n",
       "\n",
       "    .dataframe thead th {\n",
       "        text-align: right;\n",
       "    }\n",
       "</style>\n",
       "<table border=\"1\" class=\"dataframe\">\n",
       "  <thead>\n",
       "    <tr style=\"text-align: right;\">\n",
       "      <th></th>\n",
       "      <th>tconst</th>\n",
       "      <th>titleType</th>\n",
       "      <th>primaryTitle</th>\n",
       "      <th>originalTitle</th>\n",
       "      <th>isAdult</th>\n",
       "      <th>startYear</th>\n",
       "      <th>endYear</th>\n",
       "      <th>runtimeMinutes</th>\n",
       "      <th>genres</th>\n",
       "    </tr>\n",
       "  </thead>\n",
       "  <tbody>\n",
       "    <tr>\n",
       "      <th>0</th>\n",
       "      <td>tt0221078</td>\n",
       "      <td>short</td>\n",
       "      <td>Circle Dance, Ute Indians</td>\n",
       "      <td>Circle Dance, Ute Indians</td>\n",
       "      <td>0</td>\n",
       "      <td>1898.0</td>\n",
       "      <td>NaN</td>\n",
       "      <td>NaN</td>\n",
       "      <td>[Documentary, Short]</td>\n",
       "    </tr>\n",
       "    <tr>\n",
       "      <th>1</th>\n",
       "      <td>tt8862466</td>\n",
       "      <td>tvEpisode</td>\n",
       "      <td>¡El #TeamOsos va con todo al \"Reality del amor\"!</td>\n",
       "      <td>¡El #TeamOsos va con todo al \"Reality del amor\"!</td>\n",
       "      <td>0</td>\n",
       "      <td>2018.0</td>\n",
       "      <td>NaN</td>\n",
       "      <td>NaN</td>\n",
       "      <td>[Comedy, Drama]</td>\n",
       "    </tr>\n",
       "    <tr>\n",
       "      <th>2</th>\n",
       "      <td>tt7157720</td>\n",
       "      <td>tvEpisode</td>\n",
       "      <td>Episode #3.41</td>\n",
       "      <td>Episode #3.41</td>\n",
       "      <td>0</td>\n",
       "      <td>2016.0</td>\n",
       "      <td>NaN</td>\n",
       "      <td>29.0</td>\n",
       "      <td>[Comedy, Game-Show]</td>\n",
       "    </tr>\n",
       "    <tr>\n",
       "      <th>3</th>\n",
       "      <td>tt2974998</td>\n",
       "      <td>tvEpisode</td>\n",
       "      <td>Episode dated 16 May 1987</td>\n",
       "      <td>Episode dated 16 May 1987</td>\n",
       "      <td>0</td>\n",
       "      <td>1987.0</td>\n",
       "      <td>NaN</td>\n",
       "      <td>NaN</td>\n",
       "      <td>[]</td>\n",
       "    </tr>\n",
       "    <tr>\n",
       "      <th>4</th>\n",
       "      <td>tt2903620</td>\n",
       "      <td>tvEpisode</td>\n",
       "      <td>Frances Bavier: Aunt Bee Retires</td>\n",
       "      <td>Frances Bavier: Aunt Bee Retires</td>\n",
       "      <td>0</td>\n",
       "      <td>1973.0</td>\n",
       "      <td>NaN</td>\n",
       "      <td>NaN</td>\n",
       "      <td>[]</td>\n",
       "    </tr>\n",
       "  </tbody>\n",
       "</table>\n",
       "</div>"
      ],
      "text/plain": [
       "      tconst  titleType                                      primaryTitle  \\\n",
       "0  tt0221078      short                         Circle Dance, Ute Indians   \n",
       "1  tt8862466  tvEpisode  ¡El #TeamOsos va con todo al \"Reality del amor\"!   \n",
       "2  tt7157720  tvEpisode                                     Episode #3.41   \n",
       "3  tt2974998  tvEpisode                         Episode dated 16 May 1987   \n",
       "4  tt2903620  tvEpisode                  Frances Bavier: Aunt Bee Retires   \n",
       "\n",
       "                                      originalTitle  isAdult  startYear  \\\n",
       "0                         Circle Dance, Ute Indians        0     1898.0   \n",
       "1  ¡El #TeamOsos va con todo al \"Reality del amor\"!        0     2018.0   \n",
       "2                                     Episode #3.41        0     2016.0   \n",
       "3                         Episode dated 16 May 1987        0     1987.0   \n",
       "4                  Frances Bavier: Aunt Bee Retires        0     1973.0   \n",
       "\n",
       "   endYear  runtimeMinutes                genres  \n",
       "0      NaN             NaN  [Documentary, Short]  \n",
       "1      NaN             NaN       [Comedy, Drama]  \n",
       "2      NaN            29.0   [Comedy, Game-Show]  \n",
       "3      NaN             NaN                    []  \n",
       "4      NaN             NaN                    []  "
      ]
     },
     "execution_count": 15,
     "metadata": {},
     "output_type": "execute_result"
    }
   ],
   "source": [
    "movie_df.head()"
   ]
  },
  {
   "cell_type": "code",
   "execution_count": 16,
   "metadata": {},
   "outputs": [
    {
     "data": {
      "text/html": [
       "<div>\n",
       "<style scoped>\n",
       "    .dataframe tbody tr th:only-of-type {\n",
       "        vertical-align: middle;\n",
       "    }\n",
       "\n",
       "    .dataframe tbody tr th {\n",
       "        vertical-align: top;\n",
       "    }\n",
       "\n",
       "    .dataframe thead th {\n",
       "        text-align: right;\n",
       "    }\n",
       "</style>\n",
       "<table border=\"1\" class=\"dataframe\">\n",
       "  <thead>\n",
       "    <tr style=\"text-align: right;\">\n",
       "      <th></th>\n",
       "      <th>tconst</th>\n",
       "      <th>averageRating</th>\n",
       "      <th>numVotes</th>\n",
       "    </tr>\n",
       "  </thead>\n",
       "  <tbody>\n",
       "    <tr>\n",
       "      <th>0</th>\n",
       "      <td>tt0000001</td>\n",
       "      <td>5.6</td>\n",
       "      <td>1608</td>\n",
       "    </tr>\n",
       "    <tr>\n",
       "      <th>1</th>\n",
       "      <td>tt0000002</td>\n",
       "      <td>6.0</td>\n",
       "      <td>197</td>\n",
       "    </tr>\n",
       "    <tr>\n",
       "      <th>2</th>\n",
       "      <td>tt0000003</td>\n",
       "      <td>6.5</td>\n",
       "      <td>1285</td>\n",
       "    </tr>\n",
       "    <tr>\n",
       "      <th>3</th>\n",
       "      <td>tt0000004</td>\n",
       "      <td>6.1</td>\n",
       "      <td>121</td>\n",
       "    </tr>\n",
       "    <tr>\n",
       "      <th>4</th>\n",
       "      <td>tt0000005</td>\n",
       "      <td>6.1</td>\n",
       "      <td>2050</td>\n",
       "    </tr>\n",
       "  </tbody>\n",
       "</table>\n",
       "</div>"
      ],
      "text/plain": [
       "      tconst  averageRating  numVotes\n",
       "0  tt0000001            5.6      1608\n",
       "1  tt0000002            6.0       197\n",
       "2  tt0000003            6.5      1285\n",
       "3  tt0000004            6.1       121\n",
       "4  tt0000005            6.1      2050"
      ]
     },
     "execution_count": 16,
     "metadata": {},
     "output_type": "execute_result"
    }
   ],
   "source": [
    "rating_df.head()"
   ]
  },
  {
   "cell_type": "code",
   "execution_count": 17,
   "metadata": {},
   "outputs": [
    {
     "name": "stdout",
     "output_type": "stream",
     "text": [
      "<class 'pandas.core.frame.DataFrame'>\n",
      "RangeIndex: 1030009 entries, 0 to 1030008\n",
      "Data columns (total 3 columns):\n",
      " #   Column         Non-Null Count    Dtype  \n",
      "---  ------         --------------    -----  \n",
      " 0   tconst         1030009 non-null  object \n",
      " 1   averageRating  1030009 non-null  float64\n",
      " 2   numVotes       1030009 non-null  int64  \n",
      "dtypes: float64(1), int64(1), object(1)\n",
      "memory usage: 23.6+ MB\n"
     ]
    }
   ],
   "source": [
    "rating_df.info()"
   ]
  },
  {
   "cell_type": "code",
   "execution_count": 19,
   "metadata": {},
   "outputs": [],
   "source": [
    "#Lakukan join pada kedua table\n",
    "movie_rating_df = pd.merge(movie_df, rating_df, on='tconst', how='inner')"
   ]
  },
  {
   "cell_type": "code",
   "execution_count": 20,
   "metadata": {},
   "outputs": [
    {
     "name": "stdout",
     "output_type": "stream",
     "text": [
      "      tconst  titleType              primaryTitle             originalTitle  \\\n",
      "0  tt0043745      short                 Lion Down                 Lion Down   \n",
      "1  tt0167491      video         Wicked Covergirls         Wicked Covergirls   \n",
      "2  tt6574096  tvEpisode      Shadow Play - Part 2      Shadow Play - Part 2   \n",
      "3  tt6941700  tvEpisode              RuPaul Roast              RuPaul Roast   \n",
      "4  tt7305674      video  UCLA Track & Field Promo  UCLA Track & Field Promo   \n",
      "\n",
      "   isAdult  startYear  endYear  runtimeMinutes  \\\n",
      "0        0     1951.0      NaN             7.0   \n",
      "1        1     1998.0      NaN            85.0   \n",
      "2        0     2017.0      NaN            22.0   \n",
      "3        0     2017.0      NaN             NaN   \n",
      "4        0     2017.0      NaN             NaN   \n",
      "\n",
      "                           genres  averageRating  numVotes  \n",
      "0     [Animation, Comedy, Family]            7.1       459  \n",
      "1                              []            5.7         7  \n",
      "2  [Adventure, Animation, Comedy]            8.5       240  \n",
      "3                              []            8.0        11  \n",
      "4                  [Short, Sport]            9.7         7  \n"
     ]
    }
   ],
   "source": [
    "#Tampilkan 5 data teratas\n",
    "print(movie_rating_df.head())"
   ]
  },
  {
   "cell_type": "code",
   "execution_count": 21,
   "metadata": {},
   "outputs": [
    {
     "name": "stdout",
     "output_type": "stream",
     "text": [
      "<class 'pandas.core.frame.DataFrame'>\n",
      "Int64Index: 1376 entries, 0 to 1375\n",
      "Data columns (total 11 columns):\n",
      " #   Column          Non-Null Count  Dtype  \n",
      "---  ------          --------------  -----  \n",
      " 0   tconst          1376 non-null   object \n",
      " 1   titleType       1376 non-null   object \n",
      " 2   primaryTitle    1376 non-null   object \n",
      " 3   originalTitle   1376 non-null   object \n",
      " 4   isAdult         1376 non-null   int64  \n",
      " 5   startYear       1376 non-null   float64\n",
      " 6   endYear         26 non-null     float64\n",
      " 7   runtimeMinutes  1004 non-null   float64\n",
      " 8   genres          1376 non-null   object \n",
      " 9   averageRating   1376 non-null   float64\n",
      " 10  numVotes        1376 non-null   int64  \n",
      "dtypes: float64(4), int64(2), object(5)\n",
      "memory usage: 129.0+ KB\n",
      "None\n"
     ]
    }
   ],
   "source": [
    "#Tampilkan tipe data dari tiap kolom\n",
    "print(movie_rating_df.info())"
   ]
  },
  {
   "cell_type": "code",
   "execution_count": 22,
   "metadata": {},
   "outputs": [
    {
     "data": {
      "text/plain": [
       "1376"
      ]
     },
     "execution_count": 22,
     "metadata": {},
     "output_type": "execute_result"
    }
   ],
   "source": [
    "len(movie_rating_df)"
   ]
  },
  {
   "cell_type": "code",
   "execution_count": 23,
   "metadata": {},
   "outputs": [],
   "source": [
    "# Hapus nilai NULL dari kolom startYear dan runtimeMinutes\n",
    "movie_rating_df = movie_rating_df.dropna(subset=['startYear', 'runtimeMinutes']) "
   ]
  },
  {
   "cell_type": "code",
   "execution_count": 24,
   "metadata": {},
   "outputs": [
    {
     "data": {
      "text/plain": [
       "1004"
      ]
     },
     "execution_count": 24,
     "metadata": {},
     "output_type": "execute_result"
    }
   ],
   "source": [
    "len(movie_rating_df)"
   ]
  },
  {
   "cell_type": "code",
   "execution_count": 26,
   "metadata": {},
   "outputs": [
    {
     "name": "stdout",
     "output_type": "stream",
     "text": [
      "6.829581673306767\n"
     ]
    }
   ],
   "source": [
    "# Mengambil rata2 averageRating\n",
    "C = movie_rating_df['averageRating'].mean()\n",
    "print(C)"
   ]
  },
  {
   "cell_type": "code",
   "execution_count": 31,
   "metadata": {},
   "outputs": [
    {
     "name": "stdout",
     "output_type": "stream",
     "text": [
      "229.0\n"
     ]
    }
   ],
   "source": [
    "# mencari nilai M\n",
    "# Kita ambil contoh film dengan numVotes di atas 80% populasi, \n",
    "# jadi populasi yang akan kita ambil hanya sebesar 20%. \n",
    "m = movie_rating_df['numVotes'].quantile(0.8)\n",
    "print(m)"
   ]
  },
  {
   "cell_type": "code",
   "execution_count": 32,
   "metadata": {},
   "outputs": [],
   "source": [
    "# membuat fungsi weighted formula\n",
    "def imdb_weighted_rating(df, var=0.8):\n",
    "    v = df['numVotes']\n",
    "    R = df['averageRating']\n",
    "    C = df['averageRating'].mean()\n",
    "    m = df['numVotes'].quantile(var)\n",
    "    df['score'] = (v/(v+m)*R) + (m/(v+m)*C) #Rumus IMDb \n",
    "    return df['score']"
   ]
  },
  {
   "cell_type": "code",
   "execution_count": 33,
   "metadata": {},
   "outputs": [
    {
     "name": "stdout",
     "output_type": "stream",
     "text": [
      "      tconst  titleType          primaryTitle         originalTitle  isAdult  \\\n",
      "0  tt0043745      short             Lion Down             Lion Down        0   \n",
      "1  tt0167491      video     Wicked Covergirls     Wicked Covergirls        1   \n",
      "2  tt6574096  tvEpisode  Shadow Play - Part 2  Shadow Play - Part 2        0   \n",
      "5  tt2262289      movie               The Pin               The Pin        0   \n",
      "6  tt0874027  tvEpisode         Episode #32.9         Episode #32.9        0   \n",
      "\n",
      "   startYear  endYear  runtimeMinutes                          genres  \\\n",
      "0     1951.0      NaN             7.0     [Animation, Comedy, Family]   \n",
      "1     1998.0      NaN            85.0                              []   \n",
      "2     2017.0      NaN            22.0  [Adventure, Animation, Comedy]   \n",
      "5     2013.0      NaN            85.0                              []   \n",
      "6     2006.0      NaN            29.0       [Comedy, Game-Show, News]   \n",
      "\n",
      "   averageRating  numVotes     score  \n",
      "0            7.1       459  7.009992  \n",
      "1            5.7         7  6.796077  \n",
      "2            8.5       240  7.684380  \n",
      "5            7.7        27  6.921384  \n",
      "6            8.0         8  6.869089  \n"
     ]
    }
   ],
   "source": [
    "imdb_weighted_rating(movie_rating_df)\n",
    "print(movie_rating_df.head())"
   ]
  },
  {
   "cell_type": "code",
   "execution_count": 34,
   "metadata": {},
   "outputs": [],
   "source": [
    "# Membuat fungsi Recommender system\n",
    "def simple_recommender(df, top=100):\n",
    "    df = df.loc[df['numVotes'] >= m]\n",
    "    df = df.sort_values(by='score', ascending=False) #urutkan dari nilai tertinggi ke terendah\n",
    "    \n",
    "    #Ambil data 100 teratas\n",
    "    df = df[:top]\n",
    "    return df"
   ]
  },
  {
   "cell_type": "code",
   "execution_count": 35,
   "metadata": {},
   "outputs": [
    {
     "name": "stdout",
     "output_type": "stream",
     "text": [
      "         tconst  titleType                         primaryTitle  \\\n",
      "68    tt4110822  tvEpisode                        S.O.S. Part 2   \n",
      "236   tt2200252      video          Attack of the Clones Review   \n",
      "1181  tt7697962  tvEpisode  Chapter Seventeen: The Missionaries   \n",
      "326   tt7124590  tvEpisode  Chapter Thirty-Four: Judgment Night   \n",
      "1045  tt0533506  tvEpisode                             The Prom   \n",
      "71    tt8399426  tvEpisode                              Savages   \n",
      "1234  tt2843830  tvEpisode                                VIII.   \n",
      "1087  tt4295140   tvSeries                         Chef's Table   \n",
      "1054  tt2503932  tvEpisode                      Trial and Error   \n",
      "448   tt0337566      video             AC/DC: Live at Donington   \n",
      "\n",
      "                            originalTitle  isAdult  startYear  endYear  \\\n",
      "68                          S.O.S. Part 2        0     2015.0      NaN   \n",
      "236           Attack of the Clones Review        0     2010.0      NaN   \n",
      "1181  Chapter Seventeen: The Missionaries        0     2019.0      NaN   \n",
      "326   Chapter Thirty-Four: Judgment Night        0     2018.0      NaN   \n",
      "1045                             The Prom        0     1999.0      NaN   \n",
      "71                                Savages        0     2018.0      NaN   \n",
      "1234                                VIII.        0     2014.0      NaN   \n",
      "1087                         Chef's Table        0     2015.0      NaN   \n",
      "1054                      Trial and Error        0     2013.0      NaN   \n",
      "448              AC/DC: Live at Donington        0     1992.0      NaN   \n",
      "\n",
      "      runtimeMinutes                      genres  averageRating  numVotes  \\\n",
      "68              43.0  [Action, Adventure, Drama]            9.4      3820   \n",
      "236             86.0                          []            9.3      1411   \n",
      "1181            54.0    [Drama, Fantasy, Horror]            9.2      1536   \n",
      "326             42.0     [Crime, Drama, Mystery]            9.1      1859   \n",
      "1045            60.0    [Action, Drama, Fantasy]            8.9      2740   \n",
      "71              58.0   [Drama, Fantasy, Romance]            9.0      1428   \n",
      "1234            57.0          [Adventure, Drama]            8.9      1753   \n",
      "1087            50.0                          []            8.6     12056   \n",
      "1054            43.0    [Drama, Fantasy, Horror]            8.6      2495   \n",
      "448            120.0        [Documentary, Music]            8.5      1343   \n",
      "\n",
      "         score  \n",
      "68    9.254624  \n",
      "236   8.955045  \n",
      "1181  8.892450  \n",
      "326   8.850993  \n",
      "1045  8.740308  \n",
      "71    8.700045  \n",
      "1234  8.660784  \n",
      "1087  8.566998  \n",
      "1054  8.451165  \n",
      "448   8.256663  \n"
     ]
    }
   ],
   "source": [
    "# Ambil data 10 teratas     \n",
    "print(simple_recommender(movie_rating_df, top=10))"
   ]
  },
  {
   "cell_type": "code",
   "execution_count": 36,
   "metadata": {},
   "outputs": [],
   "source": [
    "# Fungsi Recommender system user pref\n",
    "def user_prefer_recommender(df, ask_adult, ask_start_year, ask_genre, top=100):\n",
    "    #ask_adult = yes/no\n",
    "    if ask_adult.lower() == 'yes':\n",
    "        df = df.loc[df['isAdult'] == 1]\n",
    "    elif ask_adult.lower() == 'no':\n",
    "        df = df.loc[df['isAdult'] == 0]\n",
    "\n",
    "    #ask_start_year = numeric\n",
    "    df = df.loc[df['startYear'] >= int(ask_start_year)]\n",
    "\n",
    "    #ask_genre = 'all' atau yang lain\n",
    "    if ask_genre.lower() == 'all':\n",
    "        df = df\n",
    "    else:\n",
    "        def filter_genre(x):\n",
    "            if ask_genre.lower() in str(x).lower():\n",
    "                return True\n",
    "            else:\n",
    "                return False\n",
    "        df = df.loc[df['genres'].apply(lambda x: filter_genre(x))]\n",
    "\n",
    "    df = df.loc[df['numVotes'] >= m] #Mengambil film dengan m yang lebih besar dibanding numVotes\n",
    "    df = df.sort_values(by='score', ascending=False)\n",
    "    \n",
    "    #jika kamu hanya ingin mengambil 100 teratas\n",
    "    df = df[:top]\n",
    "    return df"
   ]
  },
  {
   "cell_type": "code",
   "execution_count": 37,
   "metadata": {},
   "outputs": [
    {
     "name": "stdout",
     "output_type": "stream",
     "text": [
      "         tconst  titleType                primaryTitle  \\\n",
      "68    tt4110822  tvEpisode               S.O.S. Part 2   \n",
      "1111  tt4174072  tvEpisode  Immortal Emerges from Cave   \n",
      "790   tt4279086  tvEpisode    And Santa's Midnight Run   \n",
      "800   tt0901201  tvEpisode                  Crossroads   \n",
      "1001  tt2129485  tvEpisode             A Desperate Man   \n",
      "509   tt1256301  tvEpisode                  Nine Lives   \n",
      "897   tt2349242  tvEpisode               The Fifth Man   \n",
      "294   tt4809422  tvEpisode              Blood and Fear   \n",
      "944   tt0618149  tvEpisode           In Blackest Night   \n",
      "1269  tt0479651      movie                Dasavatharam   \n",
      "\n",
      "                   originalTitle  isAdult  startYear  endYear  runtimeMinutes  \\\n",
      "68                 S.O.S. Part 2        0     2015.0      NaN            43.0   \n",
      "1111  Immortal Emerges from Cave        0     2017.0      NaN            53.0   \n",
      "790     And Santa's Midnight Run        0     2014.0      NaN            42.0   \n",
      "800                   Crossroads        0     2006.0      NaN            42.0   \n",
      "1001             A Desperate Man        0     2012.0      NaN            44.0   \n",
      "509                   Nine Lives        0     2008.0      NaN            44.0   \n",
      "897                The Fifth Man        0     2012.0      NaN            44.0   \n",
      "294               Blood and Fear        0     2015.0      NaN            44.0   \n",
      "944            In Blackest Night        0     2001.0      NaN            22.0   \n",
      "1269                Dasavatharam        0     2008.0      NaN           189.0   \n",
      "\n",
      "                              genres  averageRating  numVotes     score  \n",
      "68        [Action, Adventure, Drama]            9.4      3820  9.254624  \n",
      "1111      [Action, Adventure, Crime]            8.0      2898  7.914287  \n",
      "790      [Action, Adventure, Comedy]            8.2       823  7.901687  \n",
      "800         [Action, Drama, Mystery]            7.7       654  7.474263  \n",
      "1001          [Action, Crime, Drama]            7.7       501  7.426951  \n",
      "509           [Action, Crime, Drama]            7.6       501  7.358321  \n",
      "897           [Action, Crime, Drama]            7.8       270  7.354658  \n",
      "294       [Action, Adventure, Crime]            7.6       392  7.315900  \n",
      "944   [Action, Adventure, Animation]            7.4       526  7.226986  \n",
      "1269     [Action, Adventure, Sci-Fi]            7.2      8220  7.189960  \n"
     ]
    }
   ],
   "source": [
    "df = movie_rating_df.copy()\n",
    "print(user_prefer_recommender(df,\n",
    "                       ask_adult = 'no',\n",
    "                        ask_start_year = 2000,\n",
    "                       ask_genre = 'action', top=10\n",
    "                       ))"
   ]
  },
  {
   "cell_type": "code",
   "execution_count": null,
   "metadata": {},
   "outputs": [],
   "source": []
  }
 ],
 "metadata": {
  "kernelspec": {
   "display_name": "Python 3",
   "language": "python",
   "name": "python3"
  },
  "language_info": {
   "codemirror_mode": {
    "name": "ipython",
    "version": 3
   },
   "file_extension": ".py",
   "mimetype": "text/x-python",
   "name": "python",
   "nbconvert_exporter": "python",
   "pygments_lexer": "ipython3",
   "version": "3.7.6"
  }
 },
 "nbformat": 4,
 "nbformat_minor": 4
}
